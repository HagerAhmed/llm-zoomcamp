{
 "cells": [
  {
   "cell_type": "code",
   "execution_count": 1,
   "id": "6313c8a8-bff6-4c33-9bfb-dcfc85324553",
   "metadata": {},
   "outputs": [],
   "source": [
    "import requests\n",
    "import pandas as pd\n"
   ]
  },
  {
   "cell_type": "code",
   "execution_count": 2,
   "id": "841f7d53-331e-407e-ab06-c56415fff316",
   "metadata": {},
   "outputs": [],
   "source": [
    "import os\n",
    "os.environ[\"SSL_CERT_FILE\"] = \"Fortinet_CA_SSL(15).cer\"\n"
   ]
  },
  {
   "cell_type": "markdown",
   "id": "8bfd87e2-5fdb-48c4-be62-4dd4507233f9",
   "metadata": {},
   "source": [
    "# Load documents with IDs and ground truth"
   ]
  },
  {
   "cell_type": "code",
   "execution_count": 3,
   "id": "0cf6e622-2e4f-44df-97a0-dfcfe45cbf38",
   "metadata": {},
   "outputs": [],
   "source": [
    "url_prefix = 'https://raw.githubusercontent.com/DataTalksClub/llm-zoomcamp/main/03-evaluation/'\n",
    "docs_url = url_prefix + 'search_evaluation/documents-with-ids.json'\n",
    "documents = requests.get(docs_url).json()\n",
    "\n",
    "ground_truth_url = url_prefix + 'search_evaluation/ground-truth-data.csv'\n",
    "df_ground_truth = pd.read_csv(ground_truth_url)\n",
    "df_ground_truth = df_ground_truth[df_ground_truth.course == 'machine-learning-zoomcamp']\n",
    "ground_truth = df_ground_truth.to_dict(orient='records')"
   ]
  },
  {
   "cell_type": "code",
   "execution_count": 4,
   "id": "c37d3e79-186f-47d3-886b-04f3db628891",
   "metadata": {},
   "outputs": [
    {
     "data": {
      "text/plain": [
       "{'text': 'It depends on your background and previous experience with modules. It is expected to require about 5 - 15 hours per week. [source1] [source2]\\nYou can also calculate it yourself using this data and then update this answer.',\n",
       " 'section': 'General course-related questions',\n",
       " 'question': 'Course - \\u200b\\u200bHow many hours per week am I expected to spend on this  course?',\n",
       " 'course': 'data-engineering-zoomcamp',\n",
       " 'id': 'ea739c65'}"
      ]
     },
     "execution_count": 4,
     "metadata": {},
     "output_type": "execute_result"
    }
   ],
   "source": [
    "documents[10]"
   ]
  },
  {
   "cell_type": "code",
   "execution_count": 5,
   "id": "c67b6fc4-e7dc-4d73-a125-ccadacefc873",
   "metadata": {},
   "outputs": [
    {
     "data": {
      "text/plain": [
       "{'question': 'Are sessions recorded if I miss one?',\n",
       " 'course': 'machine-learning-zoomcamp',\n",
       " 'document': '5170565b'}"
      ]
     },
     "execution_count": 5,
     "metadata": {},
     "output_type": "execute_result"
    }
   ],
   "source": [
    "ground_truth[10]"
   ]
  },
  {
   "cell_type": "code",
   "execution_count": 6,
   "id": "a01c98b2-b54d-4aaa-9983-cf8a3ff7919c",
   "metadata": {},
   "outputs": [
    {
     "data": {
      "text/plain": [
       "'Everything is recorded, so you won’t miss anything. You will be able to ask your questions for office hours in advance and we will cover them during the live stream. Also, you can always ask questions in Slack.'"
      ]
     },
     "execution_count": 6,
     "metadata": {},
     "output_type": "execute_result"
    }
   ],
   "source": [
    "doc_idx={d['id']: d for d in documents}\n",
    "doc_idx['5170565b']['text']"
   ]
  },
  {
   "cell_type": "markdown",
   "id": "4c80c092-e9d1-4791-a619-62f8f0e68e61",
   "metadata": {},
   "source": [
    "# Index data"
   ]
  },
  {
   "cell_type": "code",
   "execution_count": 7,
   "id": "14dd9b80-ef80-4769-8b61-f08a3244e70a",
   "metadata": {},
   "outputs": [
    {
     "name": "stdout",
     "output_type": "stream",
     "text": [
      "Requirement already satisfied: sentence_transformers in /home/hager/home/hager/miniconda33/lib/python3.12/site-packages (5.0.0)\n",
      "Requirement already satisfied: transformers<5.0.0,>=4.41.0 in /home/hager/home/hager/miniconda33/lib/python3.12/site-packages (from sentence_transformers) (4.52.4)\n",
      "Requirement already satisfied: tqdm in /home/hager/home/hager/miniconda33/lib/python3.12/site-packages (from sentence_transformers) (4.66.5)\n",
      "Requirement already satisfied: torch>=1.11.0 in /home/hager/home/hager/miniconda33/lib/python3.12/site-packages (from sentence_transformers) (2.7.1)\n",
      "Requirement already satisfied: scikit-learn in /home/hager/home/hager/miniconda33/lib/python3.12/site-packages (from sentence_transformers) (1.6.1)\n",
      "Requirement already satisfied: scipy in /home/hager/home/hager/miniconda33/lib/python3.12/site-packages (from sentence_transformers) (1.15.3)\n",
      "Requirement already satisfied: huggingface-hub>=0.20.0 in /home/hager/home/hager/miniconda33/lib/python3.12/site-packages (from sentence_transformers) (0.32.4)\n",
      "Requirement already satisfied: Pillow in /home/hager/home/hager/miniconda33/lib/python3.12/site-packages (from sentence_transformers) (11.2.1)\n",
      "Requirement already satisfied: typing_extensions>=4.5.0 in /home/hager/home/hager/miniconda33/lib/python3.12/site-packages (from sentence_transformers) (4.12.2)\n",
      "Requirement already satisfied: filelock in /home/hager/home/hager/miniconda33/lib/python3.12/site-packages (from huggingface-hub>=0.20.0->sentence_transformers) (3.18.0)\n",
      "Requirement already satisfied: fsspec>=2023.5.0 in /home/hager/home/hager/miniconda33/lib/python3.12/site-packages (from huggingface-hub>=0.20.0->sentence_transformers) (2025.5.1)\n",
      "Requirement already satisfied: packaging>=20.9 in /home/hager/home/hager/miniconda33/lib/python3.12/site-packages (from huggingface-hub>=0.20.0->sentence_transformers) (24.1)\n",
      "Requirement already satisfied: pyyaml>=5.1 in /home/hager/home/hager/miniconda33/lib/python3.12/site-packages (from huggingface-hub>=0.20.0->sentence_transformers) (6.0.2)\n",
      "Requirement already satisfied: requests in /home/hager/home/hager/miniconda33/lib/python3.12/site-packages (from huggingface-hub>=0.20.0->sentence_transformers) (2.32.3)\n",
      "Requirement already satisfied: hf-xet<2.0.0,>=1.1.2 in /home/hager/home/hager/miniconda33/lib/python3.12/site-packages (from huggingface-hub>=0.20.0->sentence_transformers) (1.1.3)\n",
      "Requirement already satisfied: setuptools in /home/hager/home/hager/miniconda33/lib/python3.12/site-packages (from torch>=1.11.0->sentence_transformers) (75.1.0)\n",
      "Requirement already satisfied: sympy>=1.13.3 in /home/hager/home/hager/miniconda33/lib/python3.12/site-packages (from torch>=1.11.0->sentence_transformers) (1.14.0)\n",
      "Requirement already satisfied: networkx in /home/hager/home/hager/miniconda33/lib/python3.12/site-packages (from torch>=1.11.0->sentence_transformers) (3.5)\n",
      "Requirement already satisfied: jinja2 in /home/hager/home/hager/miniconda33/lib/python3.12/site-packages (from torch>=1.11.0->sentence_transformers) (3.1.6)\n",
      "Requirement already satisfied: nvidia-cuda-nvrtc-cu12==12.6.77 in /home/hager/home/hager/miniconda33/lib/python3.12/site-packages (from torch>=1.11.0->sentence_transformers) (12.6.77)\n",
      "Requirement already satisfied: nvidia-cuda-runtime-cu12==12.6.77 in /home/hager/home/hager/miniconda33/lib/python3.12/site-packages (from torch>=1.11.0->sentence_transformers) (12.6.77)\n",
      "Requirement already satisfied: nvidia-cuda-cupti-cu12==12.6.80 in /home/hager/home/hager/miniconda33/lib/python3.12/site-packages (from torch>=1.11.0->sentence_transformers) (12.6.80)\n",
      "Requirement already satisfied: nvidia-cudnn-cu12==9.5.1.17 in /home/hager/home/hager/miniconda33/lib/python3.12/site-packages (from torch>=1.11.0->sentence_transformers) (9.5.1.17)\n",
      "Requirement already satisfied: nvidia-cublas-cu12==12.6.4.1 in /home/hager/home/hager/miniconda33/lib/python3.12/site-packages (from torch>=1.11.0->sentence_transformers) (12.6.4.1)\n",
      "Requirement already satisfied: nvidia-cufft-cu12==11.3.0.4 in /home/hager/home/hager/miniconda33/lib/python3.12/site-packages (from torch>=1.11.0->sentence_transformers) (11.3.0.4)\n",
      "Requirement already satisfied: nvidia-curand-cu12==10.3.7.77 in /home/hager/home/hager/miniconda33/lib/python3.12/site-packages (from torch>=1.11.0->sentence_transformers) (10.3.7.77)\n",
      "Requirement already satisfied: nvidia-cusolver-cu12==11.7.1.2 in /home/hager/home/hager/miniconda33/lib/python3.12/site-packages (from torch>=1.11.0->sentence_transformers) (11.7.1.2)\n",
      "Requirement already satisfied: nvidia-cusparse-cu12==12.5.4.2 in /home/hager/home/hager/miniconda33/lib/python3.12/site-packages (from torch>=1.11.0->sentence_transformers) (12.5.4.2)\n",
      "Requirement already satisfied: nvidia-cusparselt-cu12==0.6.3 in /home/hager/home/hager/miniconda33/lib/python3.12/site-packages (from torch>=1.11.0->sentence_transformers) (0.6.3)\n",
      "Requirement already satisfied: nvidia-nccl-cu12==2.26.2 in /home/hager/home/hager/miniconda33/lib/python3.12/site-packages (from torch>=1.11.0->sentence_transformers) (2.26.2)\n",
      "Requirement already satisfied: nvidia-nvtx-cu12==12.6.77 in /home/hager/home/hager/miniconda33/lib/python3.12/site-packages (from torch>=1.11.0->sentence_transformers) (12.6.77)\n",
      "Requirement already satisfied: nvidia-nvjitlink-cu12==12.6.85 in /home/hager/home/hager/miniconda33/lib/python3.12/site-packages (from torch>=1.11.0->sentence_transformers) (12.6.85)\n",
      "Requirement already satisfied: nvidia-cufile-cu12==1.11.1.6 in /home/hager/home/hager/miniconda33/lib/python3.12/site-packages (from torch>=1.11.0->sentence_transformers) (1.11.1.6)\n",
      "Requirement already satisfied: triton==3.3.1 in /home/hager/home/hager/miniconda33/lib/python3.12/site-packages (from torch>=1.11.0->sentence_transformers) (3.3.1)\n",
      "Requirement already satisfied: numpy>=1.17 in /home/hager/home/hager/miniconda33/lib/python3.12/site-packages (from transformers<5.0.0,>=4.41.0->sentence_transformers) (2.3.1)\n",
      "Requirement already satisfied: regex!=2019.12.17 in /home/hager/home/hager/miniconda33/lib/python3.12/site-packages (from transformers<5.0.0,>=4.41.0->sentence_transformers) (2024.11.6)\n",
      "Requirement already satisfied: tokenizers<0.22,>=0.21 in /home/hager/home/hager/miniconda33/lib/python3.12/site-packages (from transformers<5.0.0,>=4.41.0->sentence_transformers) (0.21.1)\n",
      "Requirement already satisfied: safetensors>=0.4.3 in /home/hager/home/hager/miniconda33/lib/python3.12/site-packages (from transformers<5.0.0,>=4.41.0->sentence_transformers) (0.5.3)\n",
      "Requirement already satisfied: joblib>=1.2.0 in /home/hager/home/hager/miniconda33/lib/python3.12/site-packages (from scikit-learn->sentence_transformers) (1.5.1)\n",
      "Requirement already satisfied: threadpoolctl>=3.1.0 in /home/hager/home/hager/miniconda33/lib/python3.12/site-packages (from scikit-learn->sentence_transformers) (3.6.0)\n",
      "Requirement already satisfied: mpmath<1.4,>=1.1.0 in /home/hager/home/hager/miniconda33/lib/python3.12/site-packages (from sympy>=1.13.3->torch>=1.11.0->sentence_transformers) (1.3.0)\n",
      "Requirement already satisfied: MarkupSafe>=2.0 in /home/hager/home/hager/miniconda33/lib/python3.12/site-packages (from jinja2->torch>=1.11.0->sentence_transformers) (3.0.2)\n",
      "Requirement already satisfied: charset-normalizer<4,>=2 in /home/hager/home/hager/miniconda33/lib/python3.12/site-packages (from requests->huggingface-hub>=0.20.0->sentence_transformers) (3.3.2)\n",
      "Requirement already satisfied: idna<4,>=2.5 in /home/hager/home/hager/miniconda33/lib/python3.12/site-packages (from requests->huggingface-hub>=0.20.0->sentence_transformers) (3.7)\n",
      "Requirement already satisfied: urllib3<3,>=1.21.1 in /home/hager/home/hager/miniconda33/lib/python3.12/site-packages (from requests->huggingface-hub>=0.20.0->sentence_transformers) (2.2.3)\n",
      "Requirement already satisfied: certifi>=2017.4.17 in /home/hager/home/hager/miniconda33/lib/python3.12/site-packages (from requests->huggingface-hub>=0.20.0->sentence_transformers) (2025.6.15)\n",
      "Note: you may need to restart the kernel to use updated packages.\n"
     ]
    }
   ],
   "source": [
    "pip install sentence_transformers --trusted-host pypi.org --trusted-host files.pythonhosted.org"
   ]
  },
  {
   "cell_type": "code",
   "execution_count": 8,
   "id": "c9a99a11-5f51-4f64-b12b-014b58a622be",
   "metadata": {},
   "outputs": [],
   "source": [
    "from sentence_transformers import SentenceTransformer\n",
    "from tqdm.auto import tqdm"
   ]
  },
  {
   "cell_type": "code",
   "execution_count": 9,
   "id": "bf398d4d-54a0-48b1-a833-03aeaf2ae421",
   "metadata": {},
   "outputs": [],
   "source": [
    "model_name = 'multi-qa-MiniLM-L6-cos-v1'\n",
    "model = SentenceTransformer(model_name)"
   ]
  },
  {
   "cell_type": "code",
   "execution_count": 10,
   "id": "02afbe20-7768-48c1-8f05-2d0aafdfa29e",
   "metadata": {},
   "outputs": [],
   "source": [
    "from elasticsearch import Elasticsearch"
   ]
  },
  {
   "cell_type": "code",
   "execution_count": 11,
   "id": "3ad474de-5b55-4237-a6a4-42f6ddc2eefc",
   "metadata": {},
   "outputs": [],
   "source": [
    "es_client = Elasticsearch(\"http://localhost:9200\")"
   ]
  },
  {
   "cell_type": "code",
   "execution_count": 14,
   "id": "92d0abdd-d146-4f1e-8f48-95ed59beca89",
   "metadata": {},
   "outputs": [
    {
     "data": {
      "text/plain": [
       "ObjectApiResponse({'acknowledged': True, 'shards_acknowledged': True, 'index': 'course-questions'})"
      ]
     },
     "execution_count": 14,
     "metadata": {},
     "output_type": "execute_result"
    }
   ],
   "source": [
    "index_settings = {\n",
    "    \"settings\": {\n",
    "        \"number_of_shards\": 1,\n",
    "        \"number_of_replicas\": 0\n",
    "    },\n",
    "    \"mappings\": {\n",
    "        \"properties\": {\n",
    "            \"text\": {\"type\": \"text\"},\n",
    "            \"section\": {\"type\": \"text\"},\n",
    "            \"question\": {\"type\": \"text\"},\n",
    "            \"course\": {\"type\": \"keyword\"},\n",
    "            \"id\": {\"type\": \"keyword\"},\n",
    "            \"question_text_vector\":{\n",
    "                \"type\": \"dense_vector\",\n",
    "                \"dims\": 384,\n",
    "                \"index\": True,\n",
    "                \"similarity\":\"cosine\"\n",
    "            }\n",
    "        }\n",
    "    }\n",
    "}\n",
    "\n",
    "index_name = \"course-questions\"\n",
    "\n",
    "es_client.indices.delete(index=index_name, ignore_unavailable=True)\n",
    "es_client.indices.create(index=index_name, body=index_settings)"
   ]
  },
  {
   "cell_type": "code",
   "execution_count": 15,
   "id": "e1bcb609-bc1e-4bc3-83ad-b07100a0cdcb",
   "metadata": {},
   "outputs": [],
   "source": [
    "import numpy as np\n",
    "np.float_ = np.float64"
   ]
  },
  {
   "cell_type": "code",
   "execution_count": 16,
   "id": "06d9b17c-9506-44e9-9eea-b7cea1affc7f",
   "metadata": {},
   "outputs": [
    {
     "name": "stderr",
     "output_type": "stream",
     "text": [
      "100%|███████████████████████████████████████████████████████████████████████████████████████████████████████████████████████████████████████| 948/948 [03:34<00:00,  4.42it/s]\n"
     ]
    }
   ],
   "source": [
    "from tqdm import tqdm \n",
    "\n",
    "for doc in tqdm(documents):\n",
    "    question = doc['question']\n",
    "    text = doc['text']\n",
    "    doc['question_text_vector'] = model.encode(question + ' ' + text)\n",
    "\n",
    "    es_client.index(index=index_name, document=doc)"
   ]
  },
  {
   "cell_type": "markdown",
   "id": "ea48eaaf-e03a-479d-8131-15046f400c8f",
   "metadata": {},
   "source": [
    "# Retrieval"
   ]
  },
  {
   "cell_type": "code",
   "execution_count": 17,
   "id": "1f8700cd-4c4d-4e24-a9d5-2a57131d02da",
   "metadata": {},
   "outputs": [],
   "source": [
    "def elastic_search_knn(field, vector, course):\n",
    "    knn = {\n",
    "        \"field\": field,\n",
    "        \"query_vector\": vector,\n",
    "        \"k\": 5,\n",
    "        \"num_candidates\": 10000,\n",
    "        \"filter\":{\n",
    "            \"term\":{\n",
    "                \"course\": course\n",
    "            }\n",
    "        }\n",
    "    }\n",
    "\n",
    "    search_query = {\n",
    "        \"knn\": knn,\n",
    "        \"_source\": [\"text\", \"section\", \"question\", \"course\", \"id\"]\n",
    "    }\n",
    "\n",
    "    es_results = es_client.search(\n",
    "        index=index_name,\n",
    "        body=search_query\n",
    "    )\n",
    "\n",
    "    result_docs = []\n",
    "\n",
    "    for hit in es_results['hits']['hits']:\n",
    "        result_docs.append(hit['_source'])\n",
    "\n",
    "    return result_docs"
   ]
  },
  {
   "cell_type": "code",
   "execution_count": 18,
   "id": "ec7d10fa-d520-421a-9bd5-197b8b921a8c",
   "metadata": {},
   "outputs": [],
   "source": [
    "def question_text_vector_knn(q):\n",
    "    question = q ['question']\n",
    "    course = q['course']\n",
    "\n",
    "    v_q = model.encode(question)\n",
    "    return elastic_search_knn ('question_text_vector', v_q, course)"
   ]
  },
  {
   "cell_type": "code",
   "execution_count": 19,
   "id": "19947d23-60f6-4ef1-96d0-e07534cb3bdb",
   "metadata": {},
   "outputs": [
    {
     "data": {
      "text/plain": [
       "[{'question': 'What if I miss a session?',\n",
       "  'course': 'machine-learning-zoomcamp',\n",
       "  'section': 'General course-related questions',\n",
       "  'text': 'Everything is recorded, so you won’t miss anything. You will be able to ask your questions for office hours in advance and we will cover them during the live stream. Also, you can always ask questions in Slack.',\n",
       "  'id': '5170565b'},\n",
       " {'question': 'Is it going to be live? When?',\n",
       "  'course': 'machine-learning-zoomcamp',\n",
       "  'section': 'General course-related questions',\n",
       "  'text': 'The course videos are pre-recorded, you can start watching the course right now.\\nWe will also occasionally have office hours - live sessions where we will answer your questions. The office hours sessions are recorded too.\\nYou can see the office hours as well as the pre-recorded course videos in the course playlist on YouTube.',\n",
       "  'id': '39fda9f0'},\n",
       " {'question': 'The same accuracy on epochs',\n",
       "  'course': 'machine-learning-zoomcamp',\n",
       "  'section': '8. Neural Networks and Deep Learning',\n",
       "  'text': \"Problem description\\nThe accuracy and the loss are both still the same or nearly the same while training.\\nSolution description\\nIn the homework, you should set class_mode='binary' while reading the data.\\nAlso, problem occurs when you choose the wrong optimizer, batch size, or learning rate\\nAdded by Ekaterina Kutovaia\",\n",
       "  'id': '7d11d5ce'},\n",
       " {'question': 'Useful Resource for Missing Data Treatment\\nhttps://www.kaggle.com/code/parulpandey/a-guide-to-handling-missing-values-in-python/notebook',\n",
       "  'course': 'machine-learning-zoomcamp',\n",
       "  'section': '2. Machine Learning for Regression',\n",
       "  'text': '(Hrithik Kumar Advani)',\n",
       "  'id': '81b8e8d0'},\n",
       " {'question': 'Will I get a certificate if I missed the midterm project?',\n",
       "  'course': 'machine-learning-zoomcamp',\n",
       "  'section': 'General course-related questions',\n",
       "  'text': \"Yes, it's possible. See the previous answer.\",\n",
       "  'id': '1d644223'}]"
      ]
     },
     "execution_count": 19,
     "metadata": {},
     "output_type": "execute_result"
    }
   ],
   "source": [
    "question_text_vector_knn(dict(\n",
    "    question= 'Are sessions recorded if I miss one?',\n",
    "    course = 'machine-learning-zoomcamp',\n",
    "))"
   ]
  },
  {
   "cell_type": "code",
   "execution_count": 10,
   "id": "1e62f8d7-84aa-48dc-92a7-0df37e2e97b6",
   "metadata": {},
   "outputs": [],
   "source": [
    "from mistralai import Mistral\n",
    "from mistralai.models import UserMessage\n",
    "import os\n",
    "from dotenv import load_dotenv"
   ]
  },
  {
   "cell_type": "code",
   "execution_count": 11,
   "id": "41492a60-8a89-45e6-b642-74c89345108b",
   "metadata": {},
   "outputs": [
    {
     "data": {
      "text/plain": [
       "True"
      ]
     },
     "execution_count": 11,
     "metadata": {},
     "output_type": "execute_result"
    }
   ],
   "source": [
    "# loads variables from .env\n",
    "load_dotenv()  "
   ]
  },
  {
   "cell_type": "code",
   "execution_count": 12,
   "id": "158d02ba-51ad-4145-b81e-54ff4d87eed8",
   "metadata": {},
   "outputs": [],
   "source": [
    "api_key = os.getenv(\"API_KEY\")"
   ]
  },
  {
   "cell_type": "code",
   "execution_count": 13,
   "id": "c5d7bd84-0c8d-43a6-8c11-fa3129af720b",
   "metadata": {},
   "outputs": [],
   "source": [
    "client = Mistral(api_key = api_key)"
   ]
  },
  {
   "cell_type": "code",
   "execution_count": 37,
   "id": "20bda5fb-897e-4be5-8abc-b7332f617835",
   "metadata": {},
   "outputs": [],
   "source": [
    "def llm(prompt):\n",
    "    response = client.chat.complete(\n",
    "        model= \"open-mistral-7b\",\n",
    "        messages=[UserMessage(content=prompt)],\n",
    "    )\n",
    "\n",
    "\n",
    "    return response.choices[0].message.content"
   ]
  },
  {
   "cell_type": "code",
   "execution_count": 25,
   "id": "94e26c3a-07fe-49f4-8ad2-672f32a0d6e6",
   "metadata": {},
   "outputs": [],
   "source": [
    "def build_prompt(query, search_results):\n",
    "\n",
    "    prompt_template = \"\"\"\n",
    "You're a course teaching assistant. Answer the QUESTION based on the CONTEXT from the FAQ database.\n",
    "Use only the facts from the CONTEXT when answering the QUESTION.\n",
    "\n",
    "QUESTION: {question}\n",
    "\n",
    "CONTEXT:\n",
    "{context}\n",
    "\"\"\".strip()\n",
    "\n",
    "    context = \"\"\n",
    "\n",
    "    for doc in search_results:\n",
    "        context = context + f\"section: {doc['section']}\\nquestion: {doc['question']}\\nanswer: {doc['text']}\\n\\n\"\n",
    "\n",
    "    prompt = prompt_template.format(question=query, context=context).strip()\n",
    "    return prompt\n"
   ]
  },
  {
   "cell_type": "code",
   "execution_count": 26,
   "id": "0e1fe3f0-32a3-464d-b770-1107e73b7d13",
   "metadata": {},
   "outputs": [],
   "source": [
    "def rag(query:dict) ->str:\n",
    "    search_results = question_text_vector_knn(query)\n",
    "    prompt = build_prompt(query['question'], search_results)\n",
    "    answer = llm(prompt)\n",
    "    return answer"
   ]
  },
  {
   "cell_type": "code",
   "execution_count": 27,
   "id": "aaf12f87-cded-4ac1-bb70-ec82ce44bebd",
   "metadata": {},
   "outputs": [
    {
     "data": {
      "text/plain": [
       "\"Based on the provided context, if you miss a session, the recorded sessions will be available for you to watch at your convenience. However, since the course videos are pre-recorded, the live sessions that might include office hours are also recorded. You can find these recordings in the course playlist on YouTube. If you have specific questions, you can ask them in advance or use the Slack channel for communication. It's important to note that certificates are usually awarded based on course completion, so missing the midterm project might affect your eligibility for a certificate, but it's best to refer to the specific course policies for more details.\""
      ]
     },
     "execution_count": 27,
     "metadata": {},
     "output_type": "execute_result"
    }
   ],
   "source": [
    "rag(ground_truth[10])"
   ]
  },
  {
   "cell_type": "code",
   "execution_count": 28,
   "id": "fd1f545b-f325-4123-8ee7-64a7c54da498",
   "metadata": {},
   "outputs": [
    {
     "data": {
      "text/plain": [
       "'Everything is recorded, so you won’t miss anything. You will be able to ask your questions for office hours in advance and we will cover them during the live stream. Also, you can always ask questions in Slack.'"
      ]
     },
     "execution_count": 28,
     "metadata": {},
     "output_type": "execute_result"
    }
   ],
   "source": [
    "doc_idx['5170565b']['text']"
   ]
  },
  {
   "cell_type": "markdown",
   "id": "061e1666-cc21-4e0b-993a-79951d53cce8",
   "metadata": {},
   "source": [
    "# Cosine similarity metric"
   ]
  },
  {
   "cell_type": "code",
   "execution_count": 29,
   "id": "05faeaaf-1c6f-4b50-9aed-a7e525650ee8",
   "metadata": {},
   "outputs": [
    {
     "data": {
      "text/plain": [
       "np.float32(0.5774827)"
      ]
     },
     "execution_count": 29,
     "metadata": {},
     "output_type": "execute_result"
    }
   ],
   "source": [
    "answer_org = 'Everything is recorded, so you won’t miss anything. You will be able to ask your questions for office hours in advance and we will cover them during the live stream. Also, you can always ask questions in Slack.'\n",
    "answer_llm = \"Based on the provided context, sessions are recorded if you miss one. You can watch the recorded sessions at your convenience. However, it's not specified if the recorded sessions include the specific content that was presented during the missed session. office hours are also recorded, and you can ask your questions in advance for these sessions.\"\n",
    "\n",
    "v_llm = model.encode(answer_llm)\n",
    "v_org = model.encode(answer_org)\n",
    "\n",
    "v_llm.dot(v_org)\n"
   ]
  },
  {
   "cell_type": "code",
   "execution_count": 30,
   "id": "4c9ed1ad-bd7f-4948-ac56-2c97aa031cab",
   "metadata": {},
   "outputs": [
    {
     "data": {
      "text/plain": [
       "{'question': 'How can I structure my questions and answers for the course?',\n",
       " 'course': 'machine-learning-zoomcamp',\n",
       " 'document': '0227b872'}"
      ]
     },
     "execution_count": 30,
     "metadata": {},
     "output_type": "execute_result"
    }
   ],
   "source": [
    "ground_truth[4]"
   ]
  },
  {
   "cell_type": "code",
   "execution_count": 31,
   "id": "effae656-e9ab-4188-936d-aad1d964a1dc",
   "metadata": {},
   "outputs": [
    {
     "name": "stderr",
     "output_type": "stream",
     "text": [
      "100%|█████████████████████████████████████████████████████████████████████████████████████████████████████████████████████████████████████| 1830/1830 [45:05<00:00,  1.48s/it]\n"
     ]
    }
   ],
   "source": [
    "answers = {}\n",
    "\n",
    "for i, rec in enumerate(tqdm(ground_truth)):\n",
    "    if i in answers:\n",
    "        continue\n",
    "        \n",
    "    answer_llm = rag(rec)\n",
    "    doc_id = rec['document']\n",
    "    original_doc = doc_idx[doc_id]\n",
    "    answer_org = original_doc['text']\n",
    "    question = original_doc['question']\n",
    "\n",
    "    answers[i] = {\n",
    "        'question': question,\n",
    "        'answer_llm': answer_llm,\n",
    "        'answer_org': answer_org, \n",
    "        'course': rec['course'],\n",
    "        'document': doc_id\n",
    "    }\n",
    "\n"
   ]
  },
  {
   "cell_type": "code",
   "execution_count": 34,
   "id": "a336f000-7023-4834-9766-e4511f6b2a6e",
   "metadata": {},
   "outputs": [],
   "source": [
    "results_llm = [None] * len(ground_truth)\n",
    "\n",
    "for i, val in answers.items():\n",
    "    results_llm[i] = val.copy()\n",
    "    results_llm[i].update(ground_truth[i])"
   ]
  },
  {
   "cell_type": "code",
   "execution_count": 36,
   "id": "fba3a004-1797-4097-8560-a17a78081aa6",
   "metadata": {},
   "outputs": [],
   "source": [
    "import pandas as pd"
   ]
  },
  {
   "cell_type": "code",
   "execution_count": 37,
   "id": "4c6409bc-e466-4918-ae23-5542d9fac8fc",
   "metadata": {},
   "outputs": [],
   "source": [
    "df_llm = pd.DataFrame(results_llm)"
   ]
  },
  {
   "cell_type": "code",
   "execution_count": 38,
   "id": "109ec4ca-0b94-4d88-a576-ff810b9c9fb1",
   "metadata": {},
   "outputs": [
    {
     "name": "stdout",
     "output_type": "stream",
     "text": [
      "mkdir: cannot create directory ‘data’: File exists\n"
     ]
    },
    {
     "name": "stderr",
     "output_type": "stream",
     "text": [
      "huggingface/tokenizers: The current process just got forked, after parallelism has already been used. Disabling parallelism to avoid deadlocks...\n",
      "To disable this warning, you can either:\n",
      "\t- Avoid using `tokenizers` before the fork if possible\n",
      "\t- Explicitly set the environment variable TOKENIZERS_PARALLELISM=(true | false)\n"
     ]
    }
   ],
   "source": [
    "!mkdir data"
   ]
  },
  {
   "cell_type": "code",
   "execution_count": null,
   "id": "66f5d55e-0783-4d96-a0eb-115413823c3b",
   "metadata": {},
   "outputs": [],
   "source": [
    "# df_llm.to_csv('data/results-llm.csv', index=False)"
   ]
  },
  {
   "cell_type": "code",
   "execution_count": 256,
   "id": "71b098bf-5445-4440-bdfa-72c57a6ee23d",
   "metadata": {},
   "outputs": [],
   "source": [
    "df_llm = pd.read_csv('data/results-llm.csv')"
   ]
  },
  {
   "cell_type": "code",
   "execution_count": 257,
   "id": "a9f2b05a-4021-43b0-ac6d-15b2d95b0bc1",
   "metadata": {},
   "outputs": [
    {
     "data": {
      "text/html": [
       "<div>\n",
       "<style scoped>\n",
       "    .dataframe tbody tr th:only-of-type {\n",
       "        vertical-align: middle;\n",
       "    }\n",
       "\n",
       "    .dataframe tbody tr th {\n",
       "        vertical-align: top;\n",
       "    }\n",
       "\n",
       "    .dataframe thead th {\n",
       "        text-align: right;\n",
       "    }\n",
       "</style>\n",
       "<table border=\"1\" class=\"dataframe\">\n",
       "  <thead>\n",
       "    <tr style=\"text-align: right;\">\n",
       "      <th></th>\n",
       "      <th>question</th>\n",
       "      <th>answer_llm</th>\n",
       "      <th>answer_org</th>\n",
       "      <th>course</th>\n",
       "      <th>document</th>\n",
       "    </tr>\n",
       "  </thead>\n",
       "  <tbody>\n",
       "    <tr>\n",
       "      <th>0</th>\n",
       "      <td>Where can I sign up for the course?</td>\n",
       "      <td>To sign up for the course, you can access the ...</td>\n",
       "      <td>Machine Learning Zoomcamp FAQ\\nThe purpose of ...</td>\n",
       "      <td>machine-learning-zoomcamp</td>\n",
       "      <td>0227b872</td>\n",
       "    </tr>\n",
       "    <tr>\n",
       "      <th>1</th>\n",
       "      <td>Can you provide a link to sign up?</td>\n",
       "      <td>To sign up for the Machine Learning Zoomcamp, ...</td>\n",
       "      <td>Machine Learning Zoomcamp FAQ\\nThe purpose of ...</td>\n",
       "      <td>machine-learning-zoomcamp</td>\n",
       "      <td>0227b872</td>\n",
       "    </tr>\n",
       "    <tr>\n",
       "      <th>2</th>\n",
       "      <td>Is there an FAQ for this Machine Learning course?</td>\n",
       "      <td>Based on the provided context, there does not ...</td>\n",
       "      <td>Machine Learning Zoomcamp FAQ\\nThe purpose of ...</td>\n",
       "      <td>machine-learning-zoomcamp</td>\n",
       "      <td>0227b872</td>\n",
       "    </tr>\n",
       "    <tr>\n",
       "      <th>3</th>\n",
       "      <td>Does this course have a GitHub repository for ...</td>\n",
       "      <td>Based on the provided context, this course doe...</td>\n",
       "      <td>Machine Learning Zoomcamp FAQ\\nThe purpose of ...</td>\n",
       "      <td>machine-learning-zoomcamp</td>\n",
       "      <td>0227b872</td>\n",
       "    </tr>\n",
       "    <tr>\n",
       "      <th>4</th>\n",
       "      <td>How can I structure my questions and answers f...</td>\n",
       "      <td>To structure your questions and answers for th...</td>\n",
       "      <td>Machine Learning Zoomcamp FAQ\\nThe purpose of ...</td>\n",
       "      <td>machine-learning-zoomcamp</td>\n",
       "      <td>0227b872</td>\n",
       "    </tr>\n",
       "    <tr>\n",
       "      <th>...</th>\n",
       "      <td>...</td>\n",
       "      <td>...</td>\n",
       "      <td>...</td>\n",
       "      <td>...</td>\n",
       "      <td>...</td>\n",
       "    </tr>\n",
       "    <tr>\n",
       "      <th>1825</th>\n",
       "      <td>What are some suggested titles for listing the...</td>\n",
       "      <td>Based on the context provided, some suggested ...</td>\n",
       "      <td>I’ve seen LinkedIn users list DataTalksClub as...</td>\n",
       "      <td>machine-learning-zoomcamp</td>\n",
       "      <td>c6a22665</td>\n",
       "    </tr>\n",
       "    <tr>\n",
       "      <th>1826</th>\n",
       "      <td>Should I list the Machine Learning Zoomcamp ex...</td>\n",
       "      <td>Based on the provided context, it is best advi...</td>\n",
       "      <td>I’ve seen LinkedIn users list DataTalksClub as...</td>\n",
       "      <td>machine-learning-zoomcamp</td>\n",
       "      <td>c6a22665</td>\n",
       "    </tr>\n",
       "    <tr>\n",
       "      <th>1827</th>\n",
       "      <td>In which LinkedIn sections can I incorporate m...</td>\n",
       "      <td>Based on the context provided, you can incorpo...</td>\n",
       "      <td>I’ve seen LinkedIn users list DataTalksClub as...</td>\n",
       "      <td>machine-learning-zoomcamp</td>\n",
       "      <td>c6a22665</td>\n",
       "    </tr>\n",
       "    <tr>\n",
       "      <th>1828</th>\n",
       "      <td>Who gave advice on including a project link in...</td>\n",
       "      <td>Annaliese Bronz gave advice on including a pro...</td>\n",
       "      <td>I’ve seen LinkedIn users list DataTalksClub as...</td>\n",
       "      <td>machine-learning-zoomcamp</td>\n",
       "      <td>c6a22665</td>\n",
       "    </tr>\n",
       "    <tr>\n",
       "      <th>1829</th>\n",
       "      <td>Who suggested showcasing progress through Link...</td>\n",
       "      <td>The question \"Who suggested showcasing progres...</td>\n",
       "      <td>I’ve seen LinkedIn users list DataTalksClub as...</td>\n",
       "      <td>machine-learning-zoomcamp</td>\n",
       "      <td>c6a22665</td>\n",
       "    </tr>\n",
       "  </tbody>\n",
       "</table>\n",
       "<p>1830 rows × 5 columns</p>\n",
       "</div>"
      ],
      "text/plain": [
       "                                               question  \\\n",
       "0                   Where can I sign up for the course?   \n",
       "1                    Can you provide a link to sign up?   \n",
       "2     Is there an FAQ for this Machine Learning course?   \n",
       "3     Does this course have a GitHub repository for ...   \n",
       "4     How can I structure my questions and answers f...   \n",
       "...                                                 ...   \n",
       "1825  What are some suggested titles for listing the...   \n",
       "1826  Should I list the Machine Learning Zoomcamp ex...   \n",
       "1827  In which LinkedIn sections can I incorporate m...   \n",
       "1828  Who gave advice on including a project link in...   \n",
       "1829  Who suggested showcasing progress through Link...   \n",
       "\n",
       "                                             answer_llm  \\\n",
       "0     To sign up for the course, you can access the ...   \n",
       "1     To sign up for the Machine Learning Zoomcamp, ...   \n",
       "2     Based on the provided context, there does not ...   \n",
       "3     Based on the provided context, this course doe...   \n",
       "4     To structure your questions and answers for th...   \n",
       "...                                                 ...   \n",
       "1825  Based on the context provided, some suggested ...   \n",
       "1826  Based on the provided context, it is best advi...   \n",
       "1827  Based on the context provided, you can incorpo...   \n",
       "1828  Annaliese Bronz gave advice on including a pro...   \n",
       "1829  The question \"Who suggested showcasing progres...   \n",
       "\n",
       "                                             answer_org  \\\n",
       "0     Machine Learning Zoomcamp FAQ\\nThe purpose of ...   \n",
       "1     Machine Learning Zoomcamp FAQ\\nThe purpose of ...   \n",
       "2     Machine Learning Zoomcamp FAQ\\nThe purpose of ...   \n",
       "3     Machine Learning Zoomcamp FAQ\\nThe purpose of ...   \n",
       "4     Machine Learning Zoomcamp FAQ\\nThe purpose of ...   \n",
       "...                                                 ...   \n",
       "1825  I’ve seen LinkedIn users list DataTalksClub as...   \n",
       "1826  I’ve seen LinkedIn users list DataTalksClub as...   \n",
       "1827  I’ve seen LinkedIn users list DataTalksClub as...   \n",
       "1828  I’ve seen LinkedIn users list DataTalksClub as...   \n",
       "1829  I’ve seen LinkedIn users list DataTalksClub as...   \n",
       "\n",
       "                         course  document  \n",
       "0     machine-learning-zoomcamp  0227b872  \n",
       "1     machine-learning-zoomcamp  0227b872  \n",
       "2     machine-learning-zoomcamp  0227b872  \n",
       "3     machine-learning-zoomcamp  0227b872  \n",
       "4     machine-learning-zoomcamp  0227b872  \n",
       "...                         ...       ...  \n",
       "1825  machine-learning-zoomcamp  c6a22665  \n",
       "1826  machine-learning-zoomcamp  c6a22665  \n",
       "1827  machine-learning-zoomcamp  c6a22665  \n",
       "1828  machine-learning-zoomcamp  c6a22665  \n",
       "1829  machine-learning-zoomcamp  c6a22665  \n",
       "\n",
       "[1830 rows x 5 columns]"
      ]
     },
     "execution_count": 257,
     "metadata": {},
     "output_type": "execute_result"
    }
   ],
   "source": [
    "df_llm"
   ]
  },
  {
   "cell_type": "markdown",
   "id": "adba9a8b-f60a-423d-bbad-1823a7f2826c",
   "metadata": {},
   "source": [
    "## Cosine similarity"
   ]
  },
  {
   "cell_type": "code",
   "execution_count": 258,
   "id": "2700961f-ff4f-476e-9aa7-72039fb25d1a",
   "metadata": {},
   "outputs": [],
   "source": [
    "result_llm = df_llm.to_dict(orient='records')"
   ]
  },
  {
   "cell_type": "code",
   "execution_count": 259,
   "id": "a8b2e109-c0cb-477d-8ca4-c7fdd773802c",
   "metadata": {},
   "outputs": [],
   "source": [
    "record = result_llm[0]"
   ]
  },
  {
   "cell_type": "code",
   "execution_count": 260,
   "id": "ae658b4a-f5d0-4fc2-8b36-3d4d2e7242e9",
   "metadata": {},
   "outputs": [
    {
     "data": {
      "text/plain": [
       "{'question': 'Where can I sign up for the course?',\n",
       " 'answer_llm': \"To sign up for the course, you can access the course page at http://mlzoomcamp.com/. If you've already joined, you can start going through the course materials by clicking on the links and starting to watch the videos. You can also find the course playlist on YouTube. Since the course videos are pre-recorded, you can start watching the course right now. To receive a certificate, you need to submit 2 out of 3 course projects and review 3 peers’ projects by the deadline. You will need to provide the URL to your GitHub repo to receive a grade for your homework questions.\",\n",
       " 'answer_org': 'Machine Learning Zoomcamp FAQ\\nThe purpose of this document is to capture frequently asked technical questions.\\nWe did this for our data engineering course and it worked quite well. Check this document for inspiration on how to structure your questions and answers:\\nData Engineering Zoomcamp FAQ\\nIn the course GitHub repository there’s a link. Here it is: https://airtable.com/shryxwLd0COOEaqXo\\nwork',\n",
       " 'course': 'machine-learning-zoomcamp',\n",
       " 'document': '0227b872'}"
      ]
     },
     "execution_count": 260,
     "metadata": {},
     "output_type": "execute_result"
    }
   ],
   "source": [
    "record"
   ]
  },
  {
   "cell_type": "code",
   "execution_count": 261,
   "id": "2af1a774-bead-4095-abd4-744457bc19e4",
   "metadata": {},
   "outputs": [],
   "source": [
    "def compute_similarity(record):\n",
    "\n",
    "    answer_org = record['answer_org']\n",
    "    answer_llm = record['answer_llm']\n",
    "    \n",
    "    v_llm = model.encode(answer_llm)\n",
    "    v_org = model.encode(answer_org)\n",
    "    \n",
    "    return v_llm.dot(v_org)\n"
   ]
  },
  {
   "cell_type": "code",
   "execution_count": 262,
   "id": "90299377-abad-41f8-975f-4570c02bf7ac",
   "metadata": {},
   "outputs": [
    {
     "data": {
      "application/vnd.jupyter.widget-view+json": {
       "model_id": "4eab0e81139b4651bcba2df51c74579f",
       "version_major": 2,
       "version_minor": 0
      },
      "text/plain": [
       "  0%|          | 0/1830 [00:00<?, ?it/s]"
      ]
     },
     "metadata": {},
     "output_type": "display_data"
    }
   ],
   "source": [
    "similarity = []\n",
    "\n",
    "for record in tqdm(result_llm):\n",
    "    sim = compute_similarity(record)\n",
    "    similarity.append(sim)"
   ]
  },
  {
   "cell_type": "code",
   "execution_count": 263,
   "id": "3e4ce955-dd25-4440-a16f-348706dc4841",
   "metadata": {},
   "outputs": [],
   "source": [
    "df_llm['cosine'] = similarity"
   ]
  },
  {
   "cell_type": "code",
   "execution_count": 264,
   "id": "fef8c669-359b-4686-bf7b-18a351066866",
   "metadata": {},
   "outputs": [
    {
     "data": {
      "text/html": [
       "<div>\n",
       "<style scoped>\n",
       "    .dataframe tbody tr th:only-of-type {\n",
       "        vertical-align: middle;\n",
       "    }\n",
       "\n",
       "    .dataframe tbody tr th {\n",
       "        vertical-align: top;\n",
       "    }\n",
       "\n",
       "    .dataframe thead th {\n",
       "        text-align: right;\n",
       "    }\n",
       "</style>\n",
       "<table border=\"1\" class=\"dataframe\">\n",
       "  <thead>\n",
       "    <tr style=\"text-align: right;\">\n",
       "      <th></th>\n",
       "      <th>question</th>\n",
       "      <th>answer_llm</th>\n",
       "      <th>answer_org</th>\n",
       "      <th>course</th>\n",
       "      <th>document</th>\n",
       "      <th>cosine</th>\n",
       "    </tr>\n",
       "  </thead>\n",
       "  <tbody>\n",
       "    <tr>\n",
       "      <th>0</th>\n",
       "      <td>Where can I sign up for the course?</td>\n",
       "      <td>To sign up for the course, you can access the ...</td>\n",
       "      <td>Machine Learning Zoomcamp FAQ\\nThe purpose of ...</td>\n",
       "      <td>machine-learning-zoomcamp</td>\n",
       "      <td>0227b872</td>\n",
       "      <td>0.377051</td>\n",
       "    </tr>\n",
       "    <tr>\n",
       "      <th>1</th>\n",
       "      <td>Can you provide a link to sign up?</td>\n",
       "      <td>To sign up for the Machine Learning Zoomcamp, ...</td>\n",
       "      <td>Machine Learning Zoomcamp FAQ\\nThe purpose of ...</td>\n",
       "      <td>machine-learning-zoomcamp</td>\n",
       "      <td>0227b872</td>\n",
       "      <td>0.701019</td>\n",
       "    </tr>\n",
       "    <tr>\n",
       "      <th>2</th>\n",
       "      <td>Is there an FAQ for this Machine Learning course?</td>\n",
       "      <td>Based on the provided context, there does not ...</td>\n",
       "      <td>Machine Learning Zoomcamp FAQ\\nThe purpose of ...</td>\n",
       "      <td>machine-learning-zoomcamp</td>\n",
       "      <td>0227b872</td>\n",
       "      <td>0.645183</td>\n",
       "    </tr>\n",
       "    <tr>\n",
       "      <th>3</th>\n",
       "      <td>Does this course have a GitHub repository for ...</td>\n",
       "      <td>Based on the provided context, this course doe...</td>\n",
       "      <td>Machine Learning Zoomcamp FAQ\\nThe purpose of ...</td>\n",
       "      <td>machine-learning-zoomcamp</td>\n",
       "      <td>0227b872</td>\n",
       "      <td>-0.031052</td>\n",
       "    </tr>\n",
       "    <tr>\n",
       "      <th>4</th>\n",
       "      <td>How can I structure my questions and answers f...</td>\n",
       "      <td>To structure your questions and answers for th...</td>\n",
       "      <td>Machine Learning Zoomcamp FAQ\\nThe purpose of ...</td>\n",
       "      <td>machine-learning-zoomcamp</td>\n",
       "      <td>0227b872</td>\n",
       "      <td>0.364987</td>\n",
       "    </tr>\n",
       "    <tr>\n",
       "      <th>...</th>\n",
       "      <td>...</td>\n",
       "      <td>...</td>\n",
       "      <td>...</td>\n",
       "      <td>...</td>\n",
       "      <td>...</td>\n",
       "      <td>...</td>\n",
       "    </tr>\n",
       "    <tr>\n",
       "      <th>1825</th>\n",
       "      <td>What are some suggested titles for listing the...</td>\n",
       "      <td>Based on the context provided, some suggested ...</td>\n",
       "      <td>I’ve seen LinkedIn users list DataTalksClub as...</td>\n",
       "      <td>machine-learning-zoomcamp</td>\n",
       "      <td>c6a22665</td>\n",
       "      <td>0.819249</td>\n",
       "    </tr>\n",
       "    <tr>\n",
       "      <th>1826</th>\n",
       "      <td>Should I list the Machine Learning Zoomcamp ex...</td>\n",
       "      <td>Based on the provided context, it is best advi...</td>\n",
       "      <td>I’ve seen LinkedIn users list DataTalksClub as...</td>\n",
       "      <td>machine-learning-zoomcamp</td>\n",
       "      <td>c6a22665</td>\n",
       "      <td>0.771161</td>\n",
       "    </tr>\n",
       "    <tr>\n",
       "      <th>1827</th>\n",
       "      <td>In which LinkedIn sections can I incorporate m...</td>\n",
       "      <td>Based on the context provided, you can incorpo...</td>\n",
       "      <td>I’ve seen LinkedIn users list DataTalksClub as...</td>\n",
       "      <td>machine-learning-zoomcamp</td>\n",
       "      <td>c6a22665</td>\n",
       "      <td>0.622954</td>\n",
       "    </tr>\n",
       "    <tr>\n",
       "      <th>1828</th>\n",
       "      <td>Who gave advice on including a project link in...</td>\n",
       "      <td>Annaliese Bronz gave advice on including a pro...</td>\n",
       "      <td>I’ve seen LinkedIn users list DataTalksClub as...</td>\n",
       "      <td>machine-learning-zoomcamp</td>\n",
       "      <td>c6a22665</td>\n",
       "      <td>0.387650</td>\n",
       "    </tr>\n",
       "    <tr>\n",
       "      <th>1829</th>\n",
       "      <td>Who suggested showcasing progress through Link...</td>\n",
       "      <td>The question \"Who suggested showcasing progres...</td>\n",
       "      <td>I’ve seen LinkedIn users list DataTalksClub as...</td>\n",
       "      <td>machine-learning-zoomcamp</td>\n",
       "      <td>c6a22665</td>\n",
       "      <td>0.328110</td>\n",
       "    </tr>\n",
       "  </tbody>\n",
       "</table>\n",
       "<p>1830 rows × 6 columns</p>\n",
       "</div>"
      ],
      "text/plain": [
       "                                               question  \\\n",
       "0                   Where can I sign up for the course?   \n",
       "1                    Can you provide a link to sign up?   \n",
       "2     Is there an FAQ for this Machine Learning course?   \n",
       "3     Does this course have a GitHub repository for ...   \n",
       "4     How can I structure my questions and answers f...   \n",
       "...                                                 ...   \n",
       "1825  What are some suggested titles for listing the...   \n",
       "1826  Should I list the Machine Learning Zoomcamp ex...   \n",
       "1827  In which LinkedIn sections can I incorporate m...   \n",
       "1828  Who gave advice on including a project link in...   \n",
       "1829  Who suggested showcasing progress through Link...   \n",
       "\n",
       "                                             answer_llm  \\\n",
       "0     To sign up for the course, you can access the ...   \n",
       "1     To sign up for the Machine Learning Zoomcamp, ...   \n",
       "2     Based on the provided context, there does not ...   \n",
       "3     Based on the provided context, this course doe...   \n",
       "4     To structure your questions and answers for th...   \n",
       "...                                                 ...   \n",
       "1825  Based on the context provided, some suggested ...   \n",
       "1826  Based on the provided context, it is best advi...   \n",
       "1827  Based on the context provided, you can incorpo...   \n",
       "1828  Annaliese Bronz gave advice on including a pro...   \n",
       "1829  The question \"Who suggested showcasing progres...   \n",
       "\n",
       "                                             answer_org  \\\n",
       "0     Machine Learning Zoomcamp FAQ\\nThe purpose of ...   \n",
       "1     Machine Learning Zoomcamp FAQ\\nThe purpose of ...   \n",
       "2     Machine Learning Zoomcamp FAQ\\nThe purpose of ...   \n",
       "3     Machine Learning Zoomcamp FAQ\\nThe purpose of ...   \n",
       "4     Machine Learning Zoomcamp FAQ\\nThe purpose of ...   \n",
       "...                                                 ...   \n",
       "1825  I’ve seen LinkedIn users list DataTalksClub as...   \n",
       "1826  I’ve seen LinkedIn users list DataTalksClub as...   \n",
       "1827  I’ve seen LinkedIn users list DataTalksClub as...   \n",
       "1828  I’ve seen LinkedIn users list DataTalksClub as...   \n",
       "1829  I’ve seen LinkedIn users list DataTalksClub as...   \n",
       "\n",
       "                         course  document    cosine  \n",
       "0     machine-learning-zoomcamp  0227b872  0.377051  \n",
       "1     machine-learning-zoomcamp  0227b872  0.701019  \n",
       "2     machine-learning-zoomcamp  0227b872  0.645183  \n",
       "3     machine-learning-zoomcamp  0227b872 -0.031052  \n",
       "4     machine-learning-zoomcamp  0227b872  0.364987  \n",
       "...                         ...       ...       ...  \n",
       "1825  machine-learning-zoomcamp  c6a22665  0.819249  \n",
       "1826  machine-learning-zoomcamp  c6a22665  0.771161  \n",
       "1827  machine-learning-zoomcamp  c6a22665  0.622954  \n",
       "1828  machine-learning-zoomcamp  c6a22665  0.387650  \n",
       "1829  machine-learning-zoomcamp  c6a22665  0.328110  \n",
       "\n",
       "[1830 rows x 6 columns]"
      ]
     },
     "execution_count": 264,
     "metadata": {},
     "output_type": "execute_result"
    }
   ],
   "source": [
    "df_llm"
   ]
  },
  {
   "cell_type": "code",
   "execution_count": 28,
   "id": "1544d698-6e33-4bf4-a4fe-4b566942c213",
   "metadata": {},
   "outputs": [
    {
     "data": {
      "text/plain": [
       "{'question': 'Does this course have a GitHub repository for the sign-up link?',\n",
       " 'answer_llm': 'Based on the provided context, this course does have a GitHub repository where students are required to provide the URL to their repo in order to receive a grade. However, the specific sign-up link for the repository is not mentioned in the context. It is recommended to create a personal GitHub repository for the course and share the URL for it. For details on how to create and connect a GitHub repository, you can refer to the links provided in the context.',\n",
       " 'answer_org': 'Machine Learning Zoomcamp FAQ\\nThe purpose of this document is to capture frequently asked technical questions.\\nWe did this for our data engineering course and it worked quite well. Check this document for inspiration on how to structure your questions and answers:\\nData Engineering Zoomcamp FAQ\\nIn the course GitHub repository there’s a link. Here it is: https://airtable.com/shryxwLd0COOEaqXo\\nwork',\n",
       " 'course': 'machine-learning-zoomcamp',\n",
       " 'document': '0227b872',\n",
       " 'cosine': -0.0310521200299263}"
      ]
     },
     "execution_count": 28,
     "metadata": {},
     "output_type": "execute_result"
    }
   ],
   "source": [
    "# Explore the one with (-) cosine\n",
    "df_llm.iloc[3].to_dict()"
   ]
  },
  {
   "cell_type": "code",
   "execution_count": 29,
   "id": "7ad025c7-93a2-4208-8ba0-9a1a1cadc856",
   "metadata": {},
   "outputs": [
    {
     "data": {
      "text/plain": [
       "count    1830.000000\n",
       "mean        0.646647\n",
       "std         0.216452\n",
       "min        -0.133026\n",
       "25%         0.549507\n",
       "50%         0.699501\n",
       "75%         0.799357\n",
       "max         0.970514\n",
       "Name: cosine, dtype: float64"
      ]
     },
     "execution_count": 29,
     "metadata": {},
     "output_type": "execute_result"
    }
   ],
   "source": [
    "df_llm['cosine'].describe()"
   ]
  },
  {
   "cell_type": "code",
   "execution_count": 30,
   "id": "8e2f5001-2874-42f2-9072-09492e244d6a",
   "metadata": {},
   "outputs": [],
   "source": [
    "import seaborn as sns\n",
    "import matplotlib.pyplot as plt"
   ]
  },
  {
   "cell_type": "code",
   "execution_count": 31,
   "id": "50dc3c06-5ede-44c8-924e-01df5c2ef04c",
   "metadata": {},
   "outputs": [
    {
     "name": "stderr",
     "output_type": "stream",
     "text": [
      "/tmp/ipykernel_1373/1332503850.py:1: UserWarning: \n",
      "\n",
      "`distplot` is a deprecated function and will be removed in seaborn v0.14.0.\n",
      "\n",
      "Please adapt your code to use either `displot` (a figure-level function with\n",
      "similar flexibility) or `histplot` (an axes-level function for histograms).\n",
      "\n",
      "For a guide to updating your code to use the new functions, please see\n",
      "https://gist.github.com/mwaskom/de44147ed2974457ad6372750bbe5751\n",
      "\n",
      "  sns.distplot(df_llm['cosine'], label = 'mll')\n"
     ]
    },
    {
     "data": {
      "text/plain": [
       "<matplotlib.legend.Legend at 0x78979f83fb60>"
      ]
     },
     "execution_count": 31,
     "metadata": {},
     "output_type": "execute_result"
    },
    {
     "data": {
      "image/png": "[encoded data removed]",
      "text/plain": [
       "<Figure size 640x480 with 1 Axes>"
      ]
     },
     "metadata": {},
     "output_type": "display_data"
    }
   ],
   "source": [
    "sns.distplot(df_llm['cosine'], label = 'mll')\n",
    "plt.legend()"
   ]
  },
  {
   "cell_type": "code",
   "execution_count": 32,
   "id": "98f48d63-b5ca-401d-a8d3-c99e0e9bf8c8",
   "metadata": {},
   "outputs": [
    {
     "data": {
      "text/plain": [
       "<matplotlib.legend.Legend at 0x78979d792360>"
      ]
     },
     "execution_count": 32,
     "metadata": {},
     "output_type": "execute_result"
    },
    {
     "data": {
      "image/png": "[encoded data removed]",
      "text/plain": [
       "<Figure size 500x500 with 1 Axes>"
      ]
     },
     "metadata": {},
     "output_type": "display_data"
    }
   ],
   "source": [
    "sns.displot(df_llm['cosine'], label = 'mll')\n",
    "plt.legend()"
   ]
  },
  {
   "cell_type": "code",
   "execution_count": 265,
   "id": "9df21037-930a-477a-bca0-3d2d2df41f69",
   "metadata": {},
   "outputs": [],
   "source": [
    "df_llm.to_csv('data/results-llm_cosine.csv', index=False)"
   ]
  },
  {
   "cell_type": "markdown",
   "id": "cb4dc197-c453-4017-b567-003bd385078e",
   "metadata": {},
   "source": [
    "## LLM as a Judge"
   ]
  },
  {
   "cell_type": "code",
   "execution_count": 266,
   "id": "08bbc2bd-9819-48c5-b3c0-338b795de9ff",
   "metadata": {},
   "outputs": [],
   "source": [
    "df_llm = pd.read_csv('data/results-llm_cosine.csv')"
   ]
  },
  {
   "cell_type": "code",
   "execution_count": 267,
   "id": "ec0b610d-2436-4c46-ae30-51e6dc90aec0",
   "metadata": {},
   "outputs": [
    {
     "data": {
      "text/html": [
       "<div>\n",
       "<style scoped>\n",
       "    .dataframe tbody tr th:only-of-type {\n",
       "        vertical-align: middle;\n",
       "    }\n",
       "\n",
       "    .dataframe tbody tr th {\n",
       "        vertical-align: top;\n",
       "    }\n",
       "\n",
       "    .dataframe thead th {\n",
       "        text-align: right;\n",
       "    }\n",
       "</style>\n",
       "<table border=\"1\" class=\"dataframe\">\n",
       "  <thead>\n",
       "    <tr style=\"text-align: right;\">\n",
       "      <th></th>\n",
       "      <th>question</th>\n",
       "      <th>answer_llm</th>\n",
       "      <th>answer_org</th>\n",
       "      <th>course</th>\n",
       "      <th>document</th>\n",
       "      <th>cosine</th>\n",
       "    </tr>\n",
       "  </thead>\n",
       "  <tbody>\n",
       "    <tr>\n",
       "      <th>0</th>\n",
       "      <td>Where can I sign up for the course?</td>\n",
       "      <td>To sign up for the course, you can access the ...</td>\n",
       "      <td>Machine Learning Zoomcamp FAQ\\nThe purpose of ...</td>\n",
       "      <td>machine-learning-zoomcamp</td>\n",
       "      <td>0227b872</td>\n",
       "      <td>0.377051</td>\n",
       "    </tr>\n",
       "    <tr>\n",
       "      <th>1</th>\n",
       "      <td>Can you provide a link to sign up?</td>\n",
       "      <td>To sign up for the Machine Learning Zoomcamp, ...</td>\n",
       "      <td>Machine Learning Zoomcamp FAQ\\nThe purpose of ...</td>\n",
       "      <td>machine-learning-zoomcamp</td>\n",
       "      <td>0227b872</td>\n",
       "      <td>0.701019</td>\n",
       "    </tr>\n",
       "    <tr>\n",
       "      <th>2</th>\n",
       "      <td>Is there an FAQ for this Machine Learning course?</td>\n",
       "      <td>Based on the provided context, there does not ...</td>\n",
       "      <td>Machine Learning Zoomcamp FAQ\\nThe purpose of ...</td>\n",
       "      <td>machine-learning-zoomcamp</td>\n",
       "      <td>0227b872</td>\n",
       "      <td>0.645183</td>\n",
       "    </tr>\n",
       "    <tr>\n",
       "      <th>3</th>\n",
       "      <td>Does this course have a GitHub repository for ...</td>\n",
       "      <td>Based on the provided context, this course doe...</td>\n",
       "      <td>Machine Learning Zoomcamp FAQ\\nThe purpose of ...</td>\n",
       "      <td>machine-learning-zoomcamp</td>\n",
       "      <td>0227b872</td>\n",
       "      <td>-0.031052</td>\n",
       "    </tr>\n",
       "    <tr>\n",
       "      <th>4</th>\n",
       "      <td>How can I structure my questions and answers f...</td>\n",
       "      <td>To structure your questions and answers for th...</td>\n",
       "      <td>Machine Learning Zoomcamp FAQ\\nThe purpose of ...</td>\n",
       "      <td>machine-learning-zoomcamp</td>\n",
       "      <td>0227b872</td>\n",
       "      <td>0.364987</td>\n",
       "    </tr>\n",
       "  </tbody>\n",
       "</table>\n",
       "</div>"
      ],
      "text/plain": [
       "                                            question  \\\n",
       "0                Where can I sign up for the course?   \n",
       "1                 Can you provide a link to sign up?   \n",
       "2  Is there an FAQ for this Machine Learning course?   \n",
       "3  Does this course have a GitHub repository for ...   \n",
       "4  How can I structure my questions and answers f...   \n",
       "\n",
       "                                          answer_llm  \\\n",
       "0  To sign up for the course, you can access the ...   \n",
       "1  To sign up for the Machine Learning Zoomcamp, ...   \n",
       "2  Based on the provided context, there does not ...   \n",
       "3  Based on the provided context, this course doe...   \n",
       "4  To structure your questions and answers for th...   \n",
       "\n",
       "                                          answer_org  \\\n",
       "0  Machine Learning Zoomcamp FAQ\\nThe purpose of ...   \n",
       "1  Machine Learning Zoomcamp FAQ\\nThe purpose of ...   \n",
       "2  Machine Learning Zoomcamp FAQ\\nThe purpose of ...   \n",
       "3  Machine Learning Zoomcamp FAQ\\nThe purpose of ...   \n",
       "4  Machine Learning Zoomcamp FAQ\\nThe purpose of ...   \n",
       "\n",
       "                      course  document    cosine  \n",
       "0  machine-learning-zoomcamp  0227b872  0.377051  \n",
       "1  machine-learning-zoomcamp  0227b872  0.701019  \n",
       "2  machine-learning-zoomcamp  0227b872  0.645183  \n",
       "3  machine-learning-zoomcamp  0227b872 -0.031052  \n",
       "4  machine-learning-zoomcamp  0227b872  0.364987  "
      ]
     },
     "execution_count": 267,
     "metadata": {},
     "output_type": "execute_result"
    }
   ],
   "source": [
    "df_llm.head()"
   ]
  },
  {
   "cell_type": "code",
   "execution_count": 15,
   "id": "995ad273-736f-4e1f-a7a1-9c43c6d71806",
   "metadata": {},
   "outputs": [],
   "source": [
    "prompt1_template = \"\"\"\n",
    "You are an expert evaluator for a Retrieval-Augmented Generation (RAG) system.\n",
    "Your task is to analyze the relevance of the generated answer compared to the original answer provided.\n",
    "Based on the relevance and similarity of the generated answer to the original answer, you will classify\n",
    "it as \"NON_RELEVANT\", \"PARTLY_RELEVANT\", or \"RELEVANT\".\n",
    "\n",
    "Here is the data for evaluation:\n",
    "\n",
    "Original Answer: {answer_org}\n",
    "Generated Question: {question}\n",
    "Generated Answer: {answer_llm}\n",
    "\n",
    "Please analyze the content and context of the generated answer in relation to the original\n",
    "answer and provide your evaluation in parsable JSON without using code blocks:\n",
    "\n",
    "{{\n",
    "  \"Relevance\": \"NON_RELEVANT\" | \"PARTLY_RELEVANT\" | \"RELEVANT\",\n",
    "  \"Explanation\": \"[Provide a brief explanation for your evaluation]\"\n",
    "}}\n",
    "\"\"\".strip()\n",
    "\n",
    "prompt2_template = \"\"\"\n",
    "You are an expert evaluator for a Retrieval-Augmented Generation (RAG) system.\n",
    "Your task is to analyze the relevance of the generated answer to the given question.\n",
    "Based on the relevance of the generated answer, you will classify it\n",
    "as \"NON_RELEVANT\", \"PARTLY_RELEVANT\", or \"RELEVANT\".\n",
    "\n",
    "Here is the data for evaluation:\n",
    "\n",
    "Question: {question}\n",
    "Generated Answer: {answer_llm}\n",
    "\n",
    "Please analyze the content and context of the generated answer in relation to the question\n",
    "and provide your evaluation in parsable JSON without using code blocks:\n",
    "\n",
    "{{\n",
    "  \"Relevance\": \"NON_RELEVANT\" | \"PARTLY_RELEVANT\" | \"RELEVANT\",\n",
    "  \"Explanation\": \"[Provide a brief explanation for your evaluation]\"\n",
    "}}\n",
    "\"\"\".strip()"
   ]
  },
  {
   "cell_type": "code",
   "execution_count": 16,
   "id": "33a536b3-12a6-4705-8586-8155ee891402",
   "metadata": {},
   "outputs": [],
   "source": [
    "dict_llm = df_llm.to_dict(orient='records')"
   ]
  },
  {
   "cell_type": "code",
   "execution_count": 17,
   "id": "e00430a4-d67e-4053-9fc2-84debabf6ec7",
   "metadata": {},
   "outputs": [],
   "source": [
    "records = dict_llm[0]"
   ]
  },
  {
   "cell_type": "code",
   "execution_count": 18,
   "id": "1c049e04-d588-4fa4-accf-4fc1af2932e4",
   "metadata": {},
   "outputs": [
    {
     "name": "stdout",
     "output_type": "stream",
     "text": [
      "You are an expert evaluator for a Retrieval-Augmented Generation (RAG) system.\n",
      "Your task is to analyze the relevance of the generated answer compared to the original answer provided.\n",
      "Based on the relevance and similarity of the generated answer to the original answer, you will classify\n",
      "it as \"NON_RELEVANT\", \"PARTLY_RELEVANT\", or \"RELEVANT\".\n",
      "\n",
      "Here is the data for evaluation:\n",
      "\n",
      "Original Answer: Machine Learning Zoomcamp FAQ\n",
      "The purpose of this document is to capture frequently asked technical questions.\n",
      "We did this for our data engineering course and it worked quite well. Check this document for inspiration on how to structure your questions and answers:\n",
      "Data Engineering Zoomcamp FAQ\n",
      "In the course GitHub repository there’s a link. Here it is: https://airtable.com/shryxwLd0COOEaqXo\n",
      "work\n",
      "Generated Question: Where can I sign up for the course?\n",
      "Generated Answer: To sign up for the course, you can access the course page at http://mlzoomcamp.com/. If you've already joined, you can start going through the course materials by clicking on the links and starting to watch the videos. You can also find the course playlist on YouTube. Since the course videos are pre-recorded, you can start watching the course right now. To receive a certificate, you need to submit 2 out of 3 course projects and review 3 peers’ projects by the deadline. You will need to provide the URL to your GitHub repo to receive a grade for your homework questions.\n",
      "\n",
      "Please analyze the content and context of the generated answer in relation to the original\n",
      "answer and provide your evaluation in parsable JSON without using code blocks:\n",
      "\n",
      "{\n",
      "  \"Relevance\": \"NON_RELEVANT\" | \"PARTLY_RELEVANT\" | \"RELEVANT\",\n",
      "  \"Explanation\": \"[Provide a brief explanation for your evaluation]\"\n",
      "}\n"
     ]
    }
   ],
   "source": [
    "prompt = prompt1_template.format(**records)\n",
    "print(prompt)"
   ]
  },
  {
   "cell_type": "code",
   "execution_count": 19,
   "id": "7c4cb535-2cf4-4bd0-98fe-b9ba846eb477",
   "metadata": {},
   "outputs": [
    {
     "name": "stdout",
     "output_type": "stream",
     "text": [
      "You are an expert evaluator for a Retrieval-Augmented Generation (RAG) system.\n",
      "Your task is to analyze the relevance of the generated answer to the given question.\n",
      "Based on the relevance of the generated answer, you will classify it\n",
      "as \"NON_RELEVANT\", \"PARTLY_RELEVANT\", or \"RELEVANT\".\n",
      "\n",
      "Here is the data for evaluation:\n",
      "\n",
      "Question: Where can I sign up for the course?\n",
      "Generated Answer: To sign up for the course, you can access the course page at http://mlzoomcamp.com/. If you've already joined, you can start going through the course materials by clicking on the links and starting to watch the videos. You can also find the course playlist on YouTube. Since the course videos are pre-recorded, you can start watching the course right now. To receive a certificate, you need to submit 2 out of 3 course projects and review 3 peers’ projects by the deadline. You will need to provide the URL to your GitHub repo to receive a grade for your homework questions.\n",
      "\n",
      "Please analyze the content and context of the generated answer in relation to the question\n",
      "and provide your evaluation in parsable JSON without using code blocks:\n",
      "\n",
      "{\n",
      "  \"Relevance\": \"NON_RELEVANT\" | \"PARTLY_RELEVANT\" | \"RELEVANT\",\n",
      "  \"Explanation\": \"[Provide a brief explanation for your evaluation]\"\n",
      "}\n"
     ]
    }
   ],
   "source": [
    "print(prompt2_template.format(**records))"
   ]
  },
  {
   "cell_type": "code",
   "execution_count": 55,
   "id": "277a16d6-0a0e-47f1-963c-515cc6adfc4d",
   "metadata": {},
   "outputs": [],
   "source": [
    "def llm(prompt):\n",
    "    response = client.chat.complete(\n",
    "        # model= \"open-mistral-7b\",\n",
    "        model=\"open-mixtral-8x7b\",\n",
    "        messages=[UserMessage(content=prompt)],\n",
    "    )\n",
    "\n",
    "\n",
    "    return response.choices[0].message.content"
   ]
  },
  {
   "cell_type": "code",
   "execution_count": 56,
   "id": "88e39ad5-4f99-4e1f-86fc-cef91c1963a7",
   "metadata": {},
   "outputs": [],
   "source": [
    "answer = llm(prompt)"
   ]
  },
  {
   "cell_type": "code",
   "execution_count": 57,
   "id": "e1215b89-0d52-4a63-af9a-9b83dec40ead",
   "metadata": {},
   "outputs": [],
   "source": [
    "import json"
   ]
  },
  {
   "cell_type": "code",
   "execution_count": 58,
   "id": "646cca1c-b4f4-498a-b2bc-6cdcf9d1ce35",
   "metadata": {},
   "outputs": [
    {
     "data": {
      "text/plain": [
       "{'Relevance': 'NON_RELEVANT',\n",
       " 'Explanation': \"The generated answer does not address the given question 'Where can I sign up for the course?' and instead provides information about what to expect after signing up for the course.\"}"
      ]
     },
     "execution_count": 58,
     "metadata": {},
     "output_type": "execute_result"
    }
   ],
   "source": [
    "json.loads(answer)"
   ]
  },
  {
   "cell_type": "code",
   "execution_count": 269,
   "id": "147bbf74-6f4c-454d-ab2e-dec2f07753e3",
   "metadata": {},
   "outputs": [],
   "source": [
    "evaluations = []\n",
    "\n",
    "for record in tqdm(dict_llm):\n",
    "    prompt = prompt1_template.format(**record)\n",
    "    evaluation = llm(prompt)\n",
    "    evaluations.append(evaluation)"
   ]
  },
  {
   "cell_type": "code",
   "execution_count": 268,
   "id": "7f540a5d-fcbd-4e6e-9570-7e9acb31cbd8",
   "metadata": {},
   "outputs": [],
   "source": [
    "json_evaluations = []\n",
    "\n",
    "for i, str_eval in enumerate(evaluations):\n",
    "    try:\n",
    "        json_eval = json.loads(str_eval)\n",
    "\n",
    "        if isinstance(json_eval, list):\n",
    "            print(f\"Warning: Evaluation {i} is a list, not a dict. Using first element.\")\n",
    "            if len(json_eval) > 0:\n",
    "                json_evaluations.append(json_eval[0])\n",
    "            else:\n",
    "                print(f\"Warning: Empty list at index {i}, skipping.\")\n",
    "        elif isinstance(json_eval, dict):\n",
    "            json_evaluations.append(json_eval)\n",
    "        else:\n",
    "            print(f\"Unexpected type at index {i}: {type(json_eval)} — skipping.\")\n",
    "\n",
    "    except json.JSONDecodeError as e:\n",
    "        print(f\"JSON error at index {i}: {e} — skipping.\")\n"
   ]
  },
  {
   "cell_type": "code",
   "execution_count": 235,
   "id": "375ee738-dd6a-40fa-af90-d3e3e71612f5",
   "metadata": {},
   "outputs": [],
   "source": [
    "import pandas as pd"
   ]
  },
  {
   "cell_type": "code",
   "execution_count": 240,
   "id": "9c9f5fb5-6d27-4743-9ea9-e5df37d81c3e",
   "metadata": {},
   "outputs": [],
   "source": [
    "df_evl = pd.DataFrame(json_evaluations)"
   ]
  },
  {
   "cell_type": "code",
   "execution_count": 241,
   "id": "45cf5a86-567d-4967-8a0d-ccd0f5729f1b",
   "metadata": {},
   "outputs": [
    {
     "data": {
      "text/html": [
       "<div>\n",
       "<style scoped>\n",
       "    .dataframe tbody tr th:only-of-type {\n",
       "        vertical-align: middle;\n",
       "    }\n",
       "\n",
       "    .dataframe tbody tr th {\n",
       "        vertical-align: top;\n",
       "    }\n",
       "\n",
       "    .dataframe thead th {\n",
       "        text-align: right;\n",
       "    }\n",
       "</style>\n",
       "<table border=\"1\" class=\"dataframe\">\n",
       "  <thead>\n",
       "    <tr style=\"text-align: right;\">\n",
       "      <th></th>\n",
       "      <th>Relevance</th>\n",
       "      <th>Explanation</th>\n",
       "    </tr>\n",
       "  </thead>\n",
       "  <tbody>\n",
       "    <tr>\n",
       "      <th>0</th>\n",
       "      <td>NON_RELEVANT</td>\n",
       "      <td>The generated answer does not address the prov...</td>\n",
       "    </tr>\n",
       "    <tr>\n",
       "      <th>1</th>\n",
       "      <td>PARTLY_RELEVANT</td>\n",
       "      <td>The generated answer is partially relevant bec...</td>\n",
       "    </tr>\n",
       "    <tr>\n",
       "      <th>2</th>\n",
       "      <td>PARTLY_RELEVANT</td>\n",
       "      <td>The generated answer acknowledges the absence ...</td>\n",
       "    </tr>\n",
       "    <tr>\n",
       "      <th>3</th>\n",
       "      <td>PARTLY_RELEVANT</td>\n",
       "      <td>The generated answer is partly relevant as it ...</td>\n",
       "    </tr>\n",
       "    <tr>\n",
       "      <th>4</th>\n",
       "      <td>PARTLY_RELEVANT</td>\n",
       "      <td>The generated answer does provide relevant inf...</td>\n",
       "    </tr>\n",
       "    <tr>\n",
       "      <th>...</th>\n",
       "      <td>...</td>\n",
       "      <td>...</td>\n",
       "    </tr>\n",
       "    <tr>\n",
       "      <th>1825</th>\n",
       "      <td>RELEVANT</td>\n",
       "      <td>The generated answer provides the same set of ...</td>\n",
       "    </tr>\n",
       "    <tr>\n",
       "      <th>1826</th>\n",
       "      <td>RELEVANT</td>\n",
       "      <td>The generated answer directly addresses the us...</td>\n",
       "    </tr>\n",
       "    <tr>\n",
       "      <th>1827</th>\n",
       "      <td>RELEVANT</td>\n",
       "      <td>The generated answer is relevant as it provide...</td>\n",
       "    </tr>\n",
       "    <tr>\n",
       "      <th>1828</th>\n",
       "      <td>PARTLY_RELEVANT</td>\n",
       "      <td>The generated answer correctly identifies the ...</td>\n",
       "    </tr>\n",
       "    <tr>\n",
       "      <th>1829</th>\n",
       "      <td>PARTLY_RELEVANT</td>\n",
       "      <td>The generated answer correctly identifies the ...</td>\n",
       "    </tr>\n",
       "  </tbody>\n",
       "</table>\n",
       "<p>1830 rows × 2 columns</p>\n",
       "</div>"
      ],
      "text/plain": [
       "            Relevance                                        Explanation\n",
       "0        NON_RELEVANT  The generated answer does not address the prov...\n",
       "1     PARTLY_RELEVANT  The generated answer is partially relevant bec...\n",
       "2     PARTLY_RELEVANT  The generated answer acknowledges the absence ...\n",
       "3     PARTLY_RELEVANT  The generated answer is partly relevant as it ...\n",
       "4     PARTLY_RELEVANT  The generated answer does provide relevant inf...\n",
       "...               ...                                                ...\n",
       "1825         RELEVANT  The generated answer provides the same set of ...\n",
       "1826         RELEVANT  The generated answer directly addresses the us...\n",
       "1827         RELEVANT  The generated answer is relevant as it provide...\n",
       "1828  PARTLY_RELEVANT  The generated answer correctly identifies the ...\n",
       "1829  PARTLY_RELEVANT  The generated answer correctly identifies the ...\n",
       "\n",
       "[1830 rows x 2 columns]"
      ]
     },
     "execution_count": 241,
     "metadata": {},
     "output_type": "execute_result"
    }
   ],
   "source": [
    "df_evl"
   ]
  },
  {
   "cell_type": "code",
   "execution_count": 242,
   "id": "50a5b1fe-3e16-45ae-8033-7c7a03024290",
   "metadata": {},
   "outputs": [
    {
     "data": {
      "text/plain": [
       "Relevance\n",
       "PARTLY_RELEVANT    864\n",
       "RELEVANT           772\n",
       "NON_RELEVANT       194\n",
       "Name: count, dtype: int64"
      ]
     },
     "execution_count": 242,
     "metadata": {},
     "output_type": "execute_result"
    }
   ],
   "source": [
    "df_evl.Relevance.value_counts()"
   ]
  },
  {
   "cell_type": "code",
   "execution_count": 249,
   "id": "296fd600-7b62-4697-848f-6cb26227dca6",
   "metadata": {},
   "outputs": [
    {
     "data": {
      "text/plain": [
       "[{'Relevance': 'NON_RELEVANT',\n",
       "  'Explanation': \"The generated answer does not address the provided original answer, which is about the Machine Learning Zoomcamp FAQ. The generated question is 'Where can I sign up for the course?' but the generated answer is a detailed description of what's in the course rather than providing information on how to sign up for the course.\"},\n",
       " {'Relevance': 'NON_RELEVANT',\n",
       "  'Explanation': \"The generated answer does not address the question's topic about receiving a certificate when not completing the midterm project. Instead, it explains the general requirements for obtaining a certificate.\"},\n",
       " {'Relevance': 'NON_RELEVANT',\n",
       "  'Explanation': 'The generated answer does not address or relate to the possibility mentioned in the original answer. Instead, it provides information about certification eligibility and requirements.'},\n",
       " {'Relevance': 'NON_RELEVANT',\n",
       "  'Explanation': 'The generated answer does not relate to the original answer. The original answer refers to the possibility of something (presumably related to a previous question), while the generated answer discusses the requirements for obtaining a certificate in a course.'},\n",
       " {'Relevance': 'NON_RELEVANT',\n",
       "  'Explanation': 'The generated answer does not relate to the original answer. The original answer provides a link to an article about ML Zoomcamp 2023 project, while the generated answer is a guide to install TensorFlow GPU on Ubuntu.'},\n",
       " {'Relevance': 'NON_RELEVANT',\n",
       "  'Explanation': 'The generated answer does not relate to the original answer. The original answer is a link to an ML Zoomcamp 2023 project, while the generated answer is a guide for setting up TensorFlow with GPU on Ubuntu.'},\n",
       " {'Relevance': 'NON_RELEVANT',\n",
       "  'Explanation': 'The generated answer does not address the specific question about configuring GPU support for TensorFlow on Ubuntu. Instead, it provides general steps for installing TensorFlow with GPU support on Ubuntu, which is not directly related to the original answer.'},\n",
       " {'Relevance': 'NON_RELEVANT',\n",
       "  'Explanation': 'The generated answer is not related to the original answer, which is a link to an ML Zoomcamp 2023 project article.'},\n",
       " {'Relevance': 'NON_RELEVANT',\n",
       "  'Explanation': 'The generated answer does not relate to the original answer as it provides a procedure for setting up TensorFlow GPU on Ubuntu, while the original answer is a link to an article about ML Zoomcamp 2023 project.'},\n",
       " {'Relevance': 'NON_RELEVANT',\n",
       "  'Explanation': 'The generated answer does not relate to the original answer about joining a channel in Slack or the question about providing a GitHub link specifically for homework. The generated answer talks about the purpose of providing a GitHub repository link but does not mention anything about homework.'},\n",
       " {'Relevance': 'NON_RELEVANT',\n",
       "  'Explanation': 'The generated answer is not related to the original answer, which provides instructions on how to join a channel in Slack. The generated question and answer discuss providing the GitHub URL for homework, which is unrelated to joining a Slack channel.'},\n",
       " {'Relevance': 'NON_RELEVANT',\n",
       "  'Explanation': 'The generated answer is incomplete or unrelated to the question.'},\n",
       " {'Relevance': 'NON_RELEVANT',\n",
       "  'Explanation': 'The generated answer does not address the topic of sharing learning progress on social media using a specific tag, nor does it mention the concept of getting extra scores or the limit of 7 points for posting in public links, which are the main points of the original answer.'},\n",
       " {'Relevance': 'NON_RELEVANT',\n",
       "  'Explanation': \"The generated answer does not address or relate to the provided original answer about creating a GitHub repository, forking the course repository, and adding a link to personal notes in the 'Community Notes' section of the original course repository.\"},\n",
       " {'Relevance': 'NON_RELEVANT',\n",
       "  'Explanation': 'The generated answer does not relate to the original answer, which focuses on installing and using wget on various platforms including Ubuntu, Windows, Mac, and with Python. The generated answer only discusses installing wget on a Mac using Homebrew without any relevance to the original answer.'},\n",
       " {'Relevance': 'NON_RELEVANT',\n",
       "  'Explanation': \"The generated answer explains how to create and navigate to a directory named 'data', but it does not address the relevance to downloading data and moving it to a specific directory as mentioned in the original answer.\"},\n",
       " {'Relevance': 'NON_RELEVANT',\n",
       "  'Explanation': \"The generated answer provides detailed steps for setting up an SSH key and pushing an initial commit to GitHub, which is not related to the original answer's issue of fixing an error message during git push with a specific refspec.\"},\n",
       " {'Relevance': 'NON_RELEVANT',\n",
       "  'Explanation': 'The generated answer discusses who added solutions to NameError issues in different sections of a document, which is not related to the original answer indicating that pandas and numpy libraries were not imported, causing NameError issues.'},\n",
       " {'Relevance': 'NON_RELEVANT',\n",
       "  'Explanation': 'The generated answer does not provide any information related to selecting columns based on numeric or object data types, nor does it offer a concise way to get such columns in a dataframe.'},\n",
       " {'Relevance': 'NON_RELEVANT',\n",
       "  'Explanation': \"The generated answer does not provide any relevance to the original answer about identifying the shape of a dataset using .shape attribute or df.shape[0]/df.shape[1]. Instead, it focuses on who contributed the information, which is not related to the original answer's content.\"},\n",
       " {'Relevance': 'NON_RELEVANT',\n",
       "  'Explanation': 'The generated answer does not provide any information related to the original answer about using np.dot for matrix multiplication, order of multiplication, or dimension mismatch.'},\n",
       " {'Relevance': 'NON_RELEVANT',\n",
       "  'Explanation': 'The generated answer does not address or relate to the original answer about the calculation of a linear regression problem. Instead, it mentions the user who added the information about the mathematical formula for linear regression.'},\n",
       " {'Relevance': 'NON_RELEVANT',\n",
       "  'Explanation': 'The generated answer does not address the relevance of interchanging the first step of multiplication as stated in the original answer.'},\n",
       " {'Relevance': 'NON_RELEVANT',\n",
       "  'Explanation': 'The generated answer does not address the specific situation described in the original answer, which involves IPv6 addresses and network settings. Instead, it focuses on wget issues on MacOS M1 and provides alternative solutions for downloading files.'},\n",
       " {'Relevance': 'NON_RELEVANT',\n",
       "  'Explanation': 'The generated answer does not relate to any part of the original answer. It provides the start date for Week 2 of the Machine Learning for Regression course, whereas the original answer contains links relevant to Week 2 but does not mention the start date.'},\n",
       " {'Relevance': 'NON_RELEVANT',\n",
       "  'Explanation': 'The generated answer does not provide any information related to the specific dataset (California Housing) mentioned in the original answer. It discusses the possibility of choosing datasets from various sources for regression tasks but does not refer to the original dataset.'},\n",
       " {'Relevance': 'NON_RELEVANT',\n",
       "  'Explanation': \"The generated answer does not address or relate to the content of the original answer. The generated answer discusses the use and learning resources for LinearRegression from Scikit-Learn, while the original answer talks about the user's ability to do something and a plan to learn it next week.\"},\n",
       " {'Relevance': 'NON_RELEVANT',\n",
       "  'Explanation': 'The generated answer does not relate to the original answer in any way, as it discusses the use of a specific machine learning algorithm and its implementation, while the original answer is about confirming a possibility and mentioning a future activity.'},\n",
       " {'Relevance': 'NON_RELEVANT',\n",
       "  'Explanation': 'The generated answer does not provide any relevance to the original answer about Scikit-Learn functions for linear regression models with and without regularization.'},\n",
       " {'Relevance': 'NON_RELEVANT',\n",
       "  'Explanation': 'The generated answer discusses overfitting, which is not mentioned or implied in the original answer. The original answer explains that linear regression models cannot and should not fit the training data perfectly, which is not addressed in the generated answer.'},\n",
       " {'Relevance': 'NON_RELEVANT',\n",
       "  'Explanation': 'The generated answer restates the question and does not provide any relevant or related information from the original answer. It simply rephrases the question without offering explanations or addressing the reasons for result differences as mentioned in the original answer.'},\n",
       " {'Relevance': 'NON_RELEVANT',\n",
       "  'Explanation': 'The generated answer does not address or relate to the original answer provided. The original answer focuses on preparing dataframes, filling NA values, and reusing functions rmse() and train_linear_regression(X,y,r). The generated answer discusses different individuals providing advice on using functions in regression and course content, which is unrelated to the original answer.'},\n",
       " {'Relevance': 'NON_RELEVANT',\n",
       "  'Explanation': \"The generated answer does not relate to the original answer provided. The original answer discusses the correct syntax for 'OR' and 'AND' in a general context, while the generated answer focuses specifically on using 'OR' in Pandas.\"},\n",
       " {'Relevance': 'NON_RELEVANT',\n",
       "  'Explanation': 'The generated answer provides information about a different individual (Radikal Lukafiardi) who supposedly provided the information, while the original answer clearly states that the information was provided by Olga Rudakova.'},\n",
       " {'Relevance': 'NON_RELEVANT',\n",
       "  'Explanation': 'The generated answer does not provide any information related to Hrithik Kumar Advani, and the content is focused on the number of posts required for a midterm project, which is not present in the original answer.'},\n",
       " {'Relevance': 'NON_RELEVANT',\n",
       "  'Explanation': 'The generated answer does not provide any information related to the original answer, which is about Hrithik Kumar Advani. The generated answer is a general statement about using the closest option in homework, which is not relevant to the original answer.'},\n",
       " {'Relevance': 'NON_RELEVANT',\n",
       "  'Explanation': 'The generated answer does not relate to the original answer about Hrithik Kumar Advani. The generated answer discusses calculating the mutual information score and the number of posts for a learning in public midterm project, which are unrelated to the original answer.'},\n",
       " {'Relevance': 'NON_RELEVANT',\n",
       "  'Explanation': 'The generated answer does not provide any relevant information related to the original answer. The generated question and answer are not related to Hrithik Kumar Advani, and there is no mention of the midterm project requirements like making 14 posts or training multiple models.'},\n",
       " {'Relevance': 'NON_RELEVANT',\n",
       "  'Explanation': 'The generated answer does not provide any information related to Hrithik Kumar Advani, nor does it address the learning in public links for the projects in the Midterm and Capstone sections. The answer is focused on the number of posts required for the midterm project.'},\n",
       " {'Relevance': 'NON_RELEVANT',\n",
       "  'Explanation': \"The generated answer does not address the issue of remembering to apply log transformation to the 'median_house_value' variable for each question in Week-2 homework.\"},\n",
       " {'Relevance': 'NON_RELEVANT',\n",
       "  'Explanation': 'The generated answer does not address the relevance of the log transformation instruction or its absence in the subsequent questions, and instead focuses on who added the note, which was not mentioned in the original answer.'},\n",
       " {'Relevance': 'NON_RELEVANT',\n",
       "  'Explanation': 'The generated answer provides information on the recommended Python version for the 2023 cohort, which is not mentioned or related to the original answer about the specific version (0.24.2) and Python version (3.8.11) required for the course.'},\n",
       " {'Relevance': 'NON_RELEVANT',\n",
       "  'Explanation': 'The generated answer does not provide any specific links or resources related to the original answer, which includes links to Week 3 homework, submission form, and all homeworks. Instead, it provides general suggestions on where to look for the assignments without any concrete information.'},\n",
       " {'Relevance': 'NON_RELEVANT',\n",
       "  'Explanation': 'The generated answer does not address the provided original answer or the generated question about the evaluation matrix. Instead, it provides information about evaluation metrics for classification and libraries to use for evaluating models.'},\n",
       " {'Relevance': 'NON_RELEVANT',\n",
       "  'Explanation': 'The generated answer does not provide the specific GitHub repository link for the theory as mentioned in the original answer. Instead, it refers to a general section in the course-related questions.'},\n",
       " {'Relevance': 'NON_RELEVANT',\n",
       "  'Explanation': 'The generated answer does not relate to the original answer, which discusses the benefits of using a sparse matrix, particularly in the context of DictVectorizer and a specific question from week3. The generated answer focuses on explaining the default configuration of DictVectorizer without any mention of sparse matrices or their benefits.'},\n",
       " {'Relevance': 'NON_RELEVANT',\n",
       "  'Explanation': 'The generated answer does not address the question or topic of the original answer. The original answer discusses the decision-making process for choosing the correct RMSE score, while the generated answer talks about a misunderstanding in the study group regarding the evaluation method for the classification homework.'},\n",
       " {'Relevance': 'NON_RELEVANT',\n",
       "  'Explanation': 'The generated answer discusses how the two methods handle missing values, which is not mentioned in the original answer. Instead, the original answer focuses on the suitability of each method for different use cases and their identical results when encoding categorical variables.'},\n",
       " {'Relevance': 'NON_RELEVANT',\n",
       "  'Explanation': 'The generated answer does not address the specific instructions provided in the original answer, such as using all features and price for the target, not including a previously created average variable, and considering the use of DictVectorizer with sparse=True to avoid convergence errors.'},\n",
       " {'Relevance': 'NON_RELEVANT',\n",
       "  'Explanation': 'The generated answer does not address the topic of avoiding data leakage when splitting data, which is the content of the original answer.'},\n",
       " {'Relevance': 'NON_RELEVANT',\n",
       "  'Explanation': 'The generated answer does not address the question about who contributed the alternative code snippet for calculating RMSE. Instead, it provides several RMSE calculation code snippets from different sections and contributors without specifying who contributed which code snippet.'},\n",
       " {'Relevance': 'NON_RELEVANT',\n",
       "  'Explanation': \"The generated answer does not provide the correct location to access all the course's homework assignments. It suggests joining the course channel on Slack and asking the community for help, which is not mentioned in the original answer.\"},\n",
       " {'Relevance': 'NON_RELEVANT',\n",
       "  'Explanation': 'The generated answer does not directly provide the GitHub repository for the course theory, which is the information contained in the original answer. Instead, it describes a process for forking and linking to the original course repository, but does not explicitly give its location.'},\n",
       " {'Relevance': 'NON_RELEVANT',\n",
       "  'Explanation': 'The generated answer does not address the provided question directly. The question asks for a YouTube video on Evaluation Metrics for Classification, but the generated answer only provides information about calculating evaluation metrics using scikit-learn, Yellowbrick library, and evaluating a model using scikit-learn metrics, without mentioning any specific YouTube video.'},\n",
       " {'Relevance': 'NON_RELEVANT',\n",
       "  'Explanation': 'The generated answer does not provide any information about classification metrics or how to get them, which is the topic of the original answer. Instead, it explains who provided the information.'},\n",
       " {'Relevance': 'NON_RELEVANT',\n",
       "  'Explanation': \"The generated answer is not relevant to the original answer. The original answer discusses a specific issue with a DataFrame's churn column having only 0's, which is caused by duplicating the churn column assignment. Meanwhile, the generated answer discusses an unrelated issue of loading a saved model with insufficient classes.\"},\n",
       " {'Relevance': 'NON_RELEVANT',\n",
       "  'Explanation': 'The generated answer does not address the question or the original answer. The question asks about a specific metric for feature importance in numerical variables, while the original answer recommends checking the solutions from the 2021 iteration of the course and using roc_auc_score. The generated answer discusses visualization methods for feature importances and provides a link to a scikit-learn example but does not relate to the asked question or the original answer.'},\n",
       " {'Relevance': 'NON_RELEVANT',\n",
       "  'Explanation': 'The generated answer is about session recordings, office hours, Slack questions, course sign-up link, midterm project instructions, and a specific question from the Machine Learning for Classification section. It is not related to the original answer, which discusses inverting or negating variables with ROC AUC scores, feature importance, model performance, and negatively correlated features.'},\n",
       " {'Relevance': 'NON_RELEVANT',\n",
       "  'Explanation': 'The generated answer does not address the specific data splitting methods mentioned in the original answer. It discusses a different topic about maintaining consistency, avoiding data leakage, and considering sampling or chunking methods for large datasets.'},\n",
       " {'Relevance': 'NON_RELEVANT',\n",
       "  'Explanation': 'The generated answer does not provide any relevance to the original answer about Stratified k-fold and its importance in class balance for multiclass classification. Instead, it only mentions the provider of the information.'},\n",
       " {'Relevance': 'NON_RELEVANT',\n",
       "  'Explanation': 'The generated answer does not directly provide a link to the solutions for previous homework as stated in the original answer. Instead, it offers an alternative approach to dealing with unanswered questions, which is not relevant to the request for a specific link.'},\n",
       " {'Relevance': 'NON_RELEVANT',\n",
       "  'Explanation': 'The generated answer does not provide the link to the Evaluation Matrix as requested in the generated question, and it also does not contain any information related to the Original Answer provided.'},\n",
       " {'Relevance': 'NON_RELEVANT',\n",
       "  'Explanation': 'The generated answer does not provide the correct location of the GitHub repository for course theory. It suggests creating a fork of the original course repository and adding notes, which is not related to finding the theory repository.'},\n",
       " {'Relevance': 'NON_RELEVANT',\n",
       "  'Explanation': 'The generated answer does not relate to the original answer. The original answer provides information on preparing a cloud-based environment for week 5, while the generated answer discusses catching up on missed sessions, course sign-up link, midterm project details, and alpha parameter selection in a machine learning classification project.'},\n",
       " {'Relevance': 'NON_RELEVANT',\n",
       "  'Explanation': \"The generated answer does not relate to the original answer. The original answer focuses on installing and using Linux on Windows, while the generated answer is about enabling the 'Virtual Machine Platform' feature on Windows.\"},\n",
       " {'Relevance': 'NON_RELEVANT',\n",
       "  'Explanation': 'The generated answer does not address the specific issue mentioned in the generated question, which is about not seeing any characters when typing the password in the WSL terminal. Instead, it provides general troubleshooting steps for WSL installation and usage.'},\n",
       " {'Relevance': 'NON_RELEVANT',\n",
       "  'Explanation': 'The generated answer does not relate to the original answer. The original answer explains how to make a specific folder the default one when opening the Ubuntu terminal, while the generated answer suggests creating an alias to navigate to a specific directory quickly.'},\n",
       " {'Relevance': 'NON_RELEVANT',\n",
       "  'Explanation': \"The generated answer does not address the original answer, which is about the specific `waitress` library version. Instead, it explains how to find a Python library's version in general, making it non-relevant to the original answer's context.\"},\n",
       " {'Relevance': 'NON_RELEVANT',\n",
       "  'Explanation': 'The generated answer does not address the original answer which is about importing and printing the version of the waitress package. The generated answer talks about using pip show command to display package information, which is not related to the original answer.'},\n",
       " {'Relevance': 'NON_RELEVANT',\n",
       "  'Explanation': 'The generated answer does not address the Docker daemon connection issue as described in the original answer.'},\n",
       " {'Relevance': 'NON_RELEVANT',\n",
       "  'Explanation': 'The generated answer does not address or relate to the issue presented in the original answer regarding Docker image build failure and changing the Python version in the Dockerfile.'},\n",
       " {'Relevance': 'NON_RELEVANT',\n",
       "  'Explanation': 'The generated answer does not address or provide any information related to the original answer about Docker image build errors and changing the Python version in the Dockerfile.'},\n",
       " {'Relevance': 'NON_RELEVANT',\n",
       "  'Explanation': 'The generated answer does not address the issue or question presented in the original answer. It provides information about Week 3 homework and deadlines, which is not related to the Docker image build error and Python version change instruction in the original answer.'},\n",
       " {'Relevance': 'NON_RELEVANT',\n",
       "  'Explanation': 'The generated answer does not address or relate to the issue of building a Docker image with a specific Python version as described in the original answer.'},\n",
       " {'Relevance': 'NON_RELEVANT',\n",
       "  'Explanation': 'The generated answer has no relation to the original answer. The original answer is about fixing a Docker build error by changing the Python version in the Dockerfile, while the generated answer provides resources and instructions for Week 5, the midterm project, and Question 7 in Introduction to Machine Learning.'},\n",
       " {'Relevance': 'NON_RELEVANT',\n",
       "  'Explanation': 'The generated answer does not address the issue or provide the solution related to the original answer. It focuses on a different lecture and lecturer, providing information about a different version of sklearn.'},\n",
       " {'Relevance': 'NON_RELEVANT',\n",
       "  'Explanation': \"The generated answer does not address the original answer's content about installing a specific version of sklearn and resolving errors. Instead, it focuses on the source of the recommendation to use 'scikit-learn', which is not mentioned in the original answer.\"},\n",
       " {'Relevance': 'NON_RELEVANT',\n",
       "  'Explanation': 'The generated answer does not address the reasons for removing Docker containers with the `--rm` flag or the best practice of not keeping many abandoned Docker images in the system, which are the main topics of the original answer.'},\n",
       " {'Relevance': 'NON_RELEVANT',\n",
       "  'Explanation': 'The generated answer does not address the reasons for removing Docker containers or the use of the `--rm` flag, which are the main topics in the original answer.'},\n",
       " {'Relevance': 'NON_RELEVANT',\n",
       "  'Explanation': 'The generated answer does not provide any information related to the original answer about Dockerfile naming and creation. Instead, it only identifies who added the answer in the FAQ section.'},\n",
       " {'Relevance': 'NON_RELEVANT',\n",
       "  'Explanation': 'The generated answer provides links to various resources related to terminal, shell, and console applications, but it does not address the issue of the input device not being a TTY, nor does it provide information on winpty, which was suggested as a solution in the original answer.'},\n",
       " {'Relevance': 'NON_RELEVANT',\n",
       "  'Explanation': 'The generated answer discusses several potential solutions to the \\'model2.bin not found\\' error, but none of them are related to the temporary solution found by Muhammed Tan in the original answer. The original answer suggests using \\'COPY [\"*\", \"./\"]\\' to combine all the files from the original docker image and the working directory, while the generated answer focuses on the usage of quotes, file name matching, and installing necessary modules.'},\n",
       " {'Relevance': 'NON_RELEVANT',\n",
       "  'Explanation': \"The generated answer does not address the original answer's task of creating a virtual environment and writing requirements to a text file. Instead, it focuses on handling failures in writing dependencies to Pipfile and Piplock file, which is not related to the original answer.\"},\n",
       " {'Relevance': 'NON_RELEVANT',\n",
       "  'Explanation': 'The generated answer does not address the specific error mentioned in the original answer related to using pipenv with an incorrect Python version.'},\n",
       " {'Relevance': 'NON_RELEVANT',\n",
       "  'Explanation': 'The generated answer does not address the issue of the original answer, which is about a specific error when using pipenv with Python 3.10. Instead, it provides general information about supported Python versions, TensorFlow, and links to additional resources.'},\n",
       " {'Relevance': 'NON_RELEVANT',\n",
       "  'Explanation': 'The generated answer does not address the issue of verifying the Python version, which was the solution to the original answer.'},\n",
       " {'Relevance': 'NON_RELEVANT',\n",
       "  'Explanation': 'The generated answer does not address the importance of exiting the shell before using `pipenv --rm` to avoid errors or fix PATH issues as mentioned in the original answer.'},\n",
       " {'Relevance': 'NON_RELEVANT',\n",
       "  'Explanation': 'The generated answer does not relate to the original answer in any way, as it discusses the number of posts for a midterm project rather than setting up a Flask app and Dockerfile as instructed in the original answer.'},\n",
       " {'Relevance': 'NON_RELEVANT',\n",
       "  'Explanation': \"The generated answer does not address the task of setting the host to '0.0.0.0' on the flask app and dockerfile and running the url using localhost as stated in the original answer. Instead, it provides a general advice for a hypothetical situation.\"},\n",
       " {'Relevance': 'NON_RELEVANT',\n",
       "  'Explanation': 'The generated answer is not related to the original answer. The original answer discusses setting up a Flask app and Dockerfile, while the generated answer talks about a Machine Learning project, mutual information score, and a categorical variable.'},\n",
       " {'Relevance': 'NON_RELEVANT',\n",
       "  'Explanation': \"The generated answer does not pertain to the original answer's content or context. It provides information about a homework problem, making multiple posts for a midterm project, and interchanging steps in machine learning, which are not related to setting the host to '0.0.0.0' on the flask app, the dockerfile, or using the localhost URL.\"},\n",
       " {'Relevance': 'NON_RELEVANT',\n",
       "  'Explanation': 'The generated question is not relevant to the original answer. The original answer discusses setting up a Flask app and Dockerfile with a specific host configuration, while the generated question is about the number of posts for learning in public during a midterm project.'},\n",
       " {'Relevance': 'NON_RELEVANT',\n",
       "  'Explanation': 'The generated answer does not provide any information about the first solution tried for Pipfile installation errors as mentioned in the original answer. It discusses other solutions not directly related to the original answer.'},\n",
       " {'Relevance': 'NON_RELEVANT',\n",
       "  'Explanation': 'The generated answer does not address the issue of an orphaned gunicorn process and removing containers and images as described in the original answer. Instead, it focuses on restarting Docker services and debugging Docker containers, which are not related to the original solution.'},\n",
       " {'Relevance': 'NON_RELEVANT',\n",
       "  'Explanation': \"The generated answer discusses the line in connectionpool.py that raises a ConnectionError, but it does not address the original answer's issue of the error on the client side and the server side, or the suggested solution.\"},\n",
       " {'Relevance': 'NON_RELEVANT',\n",
       "  'Explanation': \"The generated answer does not address the original answer's content, which is about installing and using md5sha1sum for checking file hashes. Instead, it focuses on who provided the instructions.\"},\n",
       " {'Relevance': 'NON_RELEVANT',\n",
       "  'Explanation': \"The generated answer does not address the issue of version conflicts or the warning message related to DictVectorizer. It provides instructions for installing Scikit-Learn in a virtual environment and mentions using Scikit-Learn's `train_test_split`, which are not related to the original answer.\"},\n",
       " {'Relevance': 'NON_RELEVANT',\n",
       "  'Explanation': \"The generated answer does not address the original answer's topic of using Pipenv to install a specific version of Scikit-Learn and handling a warning message about language specifications in the bash profile. Instead, the generated answer discusses several unrelated topics, such as ignoring a warning about the LANG environment variable, resolving a FutureWarning, and deploying on AWS Elastic Beanstalk.\"},\n",
       " {'Relevance': 'NON_RELEVANT',\n",
       "  'Explanation': 'The generated answer does not address the installation of Scikit-Learn version 1.3.1 using Pipenv nor does it mention the given StackOverflow link or the warning about the bash profile. Instead, it focuses on a different warning related to the environment variable LANG, which was not part of the original answer.'},\n",
       " {'Relevance': 'NON_RELEVANT',\n",
       "  'Explanation': \"The generated answer does not provide any relevance or relation to the original answer. It only answers the generated question about who added the information, but it does not discuss the model, dictvectorizer, or the files 'model2.bin' and 'dv.bin' from the original answer.\"},\n",
       " {'Relevance': 'NON_RELEVANT',\n",
       "  'Explanation': \"The generated answer does not address the issue of the original answer related to Elastic Beanstalk's NotSupportedError with 'eb local' command for specific Docker platforms. Instead, it provides a solution for a different problem regarding NotSupportedError in section 10, Kubernetes and TensorFlow Serving.\"},\n",
       " {'Relevance': 'NON_RELEVANT',\n",
       "  'Explanation': \"The generated answer does not address the original question or error message at all. It provides solutions for various Docker-related issues in sections 5 and 9, but none of them are related to the 'eb local' command or the NotSupportedError mentioned in the original answer.\"},\n",
       " {'Relevance': 'NON_RELEVANT',\n",
       "  'Explanation': 'The generated answer does not relate to the original answer. The original answer provides instructions on checking the model used while running a docker image and changing it if necessary. The generated question and answer are about missed sessions, project grading, sign-up process, learning in public, and RMSE, which are not related to the original answer.'},\n",
       " {'Relevance': 'NON_RELEVANT',\n",
       "  'Explanation': \"The generated answer does not address the issue of the original answer, which is replacing the platform option in the 'eb init' command to fix the error with 'eb local run --port 9696'. Instead, it provides general solutions for the error message without relating to the specific command change in the original answer.\"},\n",
       " {'Relevance': 'NON_RELEVANT',\n",
       "  'Explanation': 'The generated answer does not address the relevance or similarity to the original answer. It responds to a different question about who added the information, not the content of the addition itself.'},\n",
       " {'Relevance': 'NON_RELEVANT',\n",
       "  'Explanation': 'The generated answer does not relate to the original answer about converting numpy array to list for feature names.'},\n",
       " {'Relevance': 'NON_RELEVANT',\n",
       "  'Explanation': \"The generated answer does not address the issue of cleaning feature names to make them compatible with XGBoost. Instead, it provides instructions on converting feature names from a numpy ndarray to a list and training an XGBoost model. The generated answer is more relevant to the question 'How can I use XGBoost with sklearn processed data?' than the original answer.\"},\n",
       " {'Relevance': 'NON_RELEVANT',\n",
       "  'Explanation': 'The generated answer discusses the section where the question about RMSE and n_estimators is mentioned, but the original answer is about what RMSE stopping to improve means, so there is no relevance between the two answers.'},\n",
       " {'Relevance': 'NON_RELEVANT',\n",
       "  'Explanation': \"The generated answer does not address the concept of when RMSE stops improving, it only explains how to calculate RMSE. The provided answer is about the explainer's identity and the explanation of RMSE calculation, which is not related to the original answer.\"},\n",
       " {'Relevance': 'NON_RELEVANT',\n",
       "  'Explanation': 'The generated answer mentions several authors associated with various visualization methods for decision trees. However, the original answer only provides the code for visualizing a decision tree and does not mention any authors. Therefore, the generated answer is not relevant to the original answer.'},\n",
       " {'Relevance': 'NON_RELEVANT',\n",
       "  'Explanation': 'The generated answer has no relation to the original answer about Information Gain, entropy, and mutual information.'},\n",
       " {'Relevance': 'NON_RELEVANT',\n",
       "  'Explanation': 'The generated answer does not address the topic of filling in missing values using an entire dataset before splitting for training/testing/validation, which is the content of the original answer.'},\n",
       " {'Relevance': 'NON_RELEVANT',\n",
       "  'Explanation': 'The generated answer does not address the question about where to find information about the Serialized Model Xgboost error. Instead, it provides a solution for resolving the error by installing sklearn.'},\n",
       " {'Relevance': 'NON_RELEVANT',\n",
       "  'Explanation': 'The generated answer does not address the action of creating or importing a notebook into Google Colab, clicking on the drop-down at the top right hand side, or changing the runtime type to T4 GPU.'},\n",
       " {'Relevance': 'NON_RELEVANT',\n",
       "  'Explanation': \"The generated answer does not address the issue of comparing the wasp/bee model's performance on a Mac laptop with HW answers or how the SGD optimizer might affect the results, which are mentioned in the original answer.\"},\n",
       " {'Relevance': 'NON_RELEVANT',\n",
       "  'Explanation': \"The generated answer does not provide any relevance or relation to the original answer about the 'nvidia-smi' looping function and its usage. The generated answer instead focuses on who contributed the information.\"},\n",
       " {'Relevance': 'NON_RELEVANT',\n",
       "  'Explanation': 'The generated answer does not relate to the original answer. The original answer discusses the use of Sequential Model API and Functional Model API in TensorFlow, while the generated answer provides troubleshooting steps for correcting errors in neural network architectures.'},\n",
       " {'Relevance': 'NON_RELEVANT',\n",
       "  'Explanation': \"The generated answer does not address the original answer's topic of Out-Of-Memory (OOM) errors; instead, it focuses on handling an invalid device or inability to modify virtual devices.\"},\n",
       " {'Relevance': 'NON_RELEVANT',\n",
       "  'Explanation': 'The generated answer only provides the default value for the number of workers in the fit function, which is already mentioned in the original answer. However, it does not provide any additional context or relation to the specific situation described in the original answer.'},\n",
       " {'Relevance': 'NON_RELEVANT',\n",
       "  'Explanation': 'The generated answer does not address the reason why curly brackets are not needed in the echo command as demonstrated in the original answer. Instead, it discusses a different topic (version conflicts in pipenv) and provides general information about the echo command.'},\n",
       " {'Relevance': 'NON_RELEVANT',\n",
       "  'Explanation': 'The generated answer does not address the metadata error produced while building a Docker image from the Amazon python base image. Instead, it provides a solution for building the Docker image on a Mac with M1 silicon and troubleshooting TensorFlow Lite runtime installation. The generated answer is not relevant to the original answer.'},\n",
       " {'Relevance': 'NON_RELEVANT',\n",
       "  'Explanation': 'The generated answer does not address the relevance or similarity to the original answer about a docker image error solution. Instead, it responds to a different question about who added an optional solution in the Serverless Deep Learning section.'},\n",
       " {'Relevance': 'NON_RELEVANT',\n",
       "  'Explanation': \"The generated answer does not address the specific issue related to the Docker daemon not running and the 'Windows version might not be up-to-date' error in the original answer.\"},\n",
       " {'Relevance': 'NON_RELEVANT',\n",
       "  'Explanation': 'The generated answer does not address the issue presented in the original answer, which is related to a Docker build error with a specific package version for Python 9. Instead, the generated answer discusses potential solutions for pip version errors and version conflicts with Scikit-Learn, which is not related to the original answer.'},\n",
       " {'Relevance': 'NON_RELEVANT',\n",
       "  'Explanation': \"The generated answer does not address the issue of the original answer, which is the error when running 'docker build -t dino-dragon-model' with python 9. The generated answer talks about copying the wheel link and using quotes, which are not related to the original answer's problem.\"},\n",
       " {'Relevance': 'NON_RELEVANT',\n",
       "  'Explanation': 'The generated answer does not address the question or topic of the original answer which is about the default output format in AWS configuration.'},\n",
       " {'Relevance': 'NON_RELEVANT',\n",
       "  'Explanation': 'The generated answer does not address the issue of converting numpy float32 values to base-Python floats. Instead, it focuses on resolving other lambda function errors in serverless deep learning and testing AWS Lambda + Docker locally.'},\n",
       " {'Relevance': 'NON_RELEVANT',\n",
       "  'Explanation': 'The generated answer does not address the file size as requested in the original answer.'},\n",
       " {'Relevance': 'NON_RELEVANT',\n",
       "  'Explanation': 'The generated answer does not provide any context or relation to the original answer about Lambda container images and their documentation.'},\n",
       " {'Relevance': 'NON_RELEVANT',\n",
       "  'Explanation': \"The generated answer is not relevant to the original answer as it provides information about the section in a course that covers Lambda container images, which is not mentioned or related to the original answer's context of documentation on creating and initializing lambda container images.\"},\n",
       " {'Relevance': 'NON_RELEVANT',\n",
       "  'Explanation': 'The generated answer discusses contributing information about deploying serverless deep learning on AWS, which is not related to the original answer that explains creating and pushing a Docker image for AWS Lambda and exposing it as a REST API through APIGatewayService using AWS Serverless Framework.'},\n",
       " {'Relevance': 'NON_RELEVANT',\n",
       "  'Explanation': 'The generated answer does not address the provided original answer, which is about a pip install error for the tflite runtime whl and possible solutions. The generated answer is about an alternative link provided for the tflite runtime whl, but it does not relate to the pip install error or the solutions.'},\n",
       " {'Relevance': 'NON_RELEVANT',\n",
       "  'Explanation': 'The generated answer does not relate to the original answer about restarting Docker services for fixing an error.'},\n",
       " {'Relevance': 'NON_RELEVANT',\n",
       "  'Explanation': 'The generated answer does not relate to the original answer about restarting Docker services for a specific error. It discusses unrelated topics such as classification evaluation, interchanging multiplication and addition, project details, and alpha parameter selection in machine learning.'},\n",
       " {'Relevance': 'NON_RELEVANT',\n",
       "  'Explanation': 'The generated answer is not related to the original answer, which is about restarting the docker services to resolve an error. The generated answer discusses the mutual information score for HW3 Q3, Learning in Public links for projects, and using the ocean_proximity variable.'},\n",
       " {'Relevance': 'NON_RELEVANT',\n",
       "  'Explanation': 'The generated answer does not address the issue or provide any relevant information related to the original answer about Docker error and restarting Docker services.'},\n",
       " {'Relevance': 'NON_RELEVANT',\n",
       "  'Explanation': 'The generated answer does not address the issue or provide any related information about the Docker error and the solution to restart the Docker services.'},\n",
       " {'Relevance': 'NON_RELEVANT',\n",
       "  'Explanation': \"The generated answer does not provide any relevant information about saving/exporting a Docker image or viewing the individual layers of the Docker image. It only mentions the name of the person who provided the answer, which is not related to the original answer's content.\"},\n",
       " {'Relevance': 'NON_RELEVANT',\n",
       "  'Explanation': \"The generated answer does not relate to the original answer about running out of storage on an AWS instance and deleting Docker images. The generated answer focuses on the number of posts required for a midterm project, which is unrelated to the original answer's context.\"},\n",
       " {'Relevance': 'NON_RELEVANT',\n",
       "  'Explanation': \"The generated answer does not address the issue of running out of storage on an AWS instance, nor does it mention anything about deleting Docker images or using the 'docker system prune' command. The generated answer seems unrelated to the original answer.\"},\n",
       " {'Relevance': 'NON_RELEVANT',\n",
       "  'Explanation': 'The generated answer does not relate to the original answer about running out of storage on an AWS instance and deleting docker images. Instead, it focuses on finding a variable for calculating mutual information score for a specific task.'},\n",
       " {'Relevance': 'NON_RELEVANT',\n",
       "  'Explanation': 'The generated answer does not relate to the original answer about running out of storage on an AWS instance and deleting Docker images.'},\n",
       " {'Relevance': 'NON_RELEVANT',\n",
       "  'Explanation': 'The generated answer does not address the issue of running out of storage on an AWS instance or the removal of Docker images. Instead, it diverts to a different topic about learning in public posts and training multiple models for a midterm project.'},\n",
       " {'Relevance': 'NON_RELEVANT',\n",
       "  'Explanation': 'The generated answer does not address or relate to the specific versions of TensorFlow and Python mentioned in the original answer. It diverts to discussing TensorFlow 2.15, AWS deployment, and linking unrelated articles.'},\n",
       " {'Relevance': 'NON_RELEVANT',\n",
       "  'Explanation': 'The generated answer does not provide any relevance to the original answer about using a specific version of a package or supported Python versions. Instead, it responds to a different question about who added the information.'},\n",
       " {'Relevance': 'NON_RELEVANT',\n",
       "  'Explanation': \"The generated answer does not address the issue in the original answer, which is about creating an ECR repository in section 9. The generated answer is about resolving an 'Invalid choice' error in the same section, but it does not relate to the original answer's content.\"},\n",
       " {'Relevance': 'NON_RELEVANT',\n",
       "  'Explanation': 'The generated answer does not provide any information related to the original answer about modifying the import statement for tflite. Instead, it focuses on who added the solution in the course FAQ.'},\n",
       " {'Relevance': 'NON_RELEVANT',\n",
       "  'Explanation': \"The generated answer does not address the user's question about finding a guide for using Docker in Google Colab. Instead, it refers the user to a section about Kubernetes and TensorFlow Serving, which is not directly related to the question.\"},\n",
       " {'Relevance': 'NON_RELEVANT',\n",
       "  'Explanation': 'The generated answer does not address any of the errors or issues mentioned in the original answer related to Google Colab, Docker, or the specific Lambda API Gateway errors provided.'},\n",
       " {'Relevance': 'NON_RELEVANT',\n",
       "  'Explanation': 'The generated answer does not address the question of invoking a method using the boto3 client for Lambda API Gateway. Instead, it provides information on how to send a request to the deployed API URL or use AWS RIE for local testing.'},\n",
       " {'Relevance': 'NON_RELEVANT',\n",
       "  'Explanation': 'The generated answer does not address the issue of installing tflite_runtime in Google Colab as stated in the original answer and the generated question.'},\n",
       " {'Relevance': 'NON_RELEVANT',\n",
       "  'Explanation': 'The generated answer does not address the provided generated question and instead provides generic information about Week 5 resources.'},\n",
       " {'Relevance': 'NON_RELEVANT',\n",
       "  'Explanation': 'The generated answer only provides the command for applying the latest version of Metrics Server from the components.yaml manifest, which is already present in the original answer. However, the original answer also contains additional information about troubleshooting and fixing the HPA instance, which the generated answer does not cover.'},\n",
       " {'Relevance': 'NON_RELEVANT',\n",
       "  'Explanation': \"The generated answer does not address the original answer's instruction on launching a PowerShell terminal with administrator privileges and installing the choco library.\"},\n",
       " {'Relevance': 'NON_RELEVANT',\n",
       "  'Explanation': 'The generated answer does not relate to the original answer about installing Kind through Go. It only explains how to check if Go is installed correctly.'},\n",
       " {'Relevance': 'NON_RELEVANT',\n",
       "  'Explanation': 'The generated answer does not provide any relevant solution to the specific issue described in the original answer. The original answer is about a refused connection to localhost:8080 in the context of kubectl and kind, while the generated answers discuss various solutions related to TensorFlow Serving, Docker, and Flask app, which do not apply to the original problem.'},\n",
       " {'Relevance': 'NON_RELEVANT',\n",
       "  'Explanation': 'The generated answer does not relate to the original answer about deploying and accessing the Kubernetes Dashboard. Instead, it provides answers to unrelated questions.'},\n",
       " {'Relevance': 'NON_RELEVANT',\n",
       "  'Explanation': \"The generated answer does not address the issue of the 'Invalid choice' error in the 'aws ecr get-login' command as described in the generated question. Instead, it provides unrelated instructions and suggestions for logging into the Amazon ECR registry and handling syntax errors.\"},\n",
       " {'Relevance': 'NON_RELEVANT',\n",
       "  'Explanation': 'The generated answer does not provide an alternative command as requested in the generated question, nor does it relate to the original answer about Docker commands for AWS ECR.'},\n",
       " {'Relevance': 'NON_RELEVANT',\n",
       "  'Explanation': 'The generated answer does not provide any information related to the original answer about AWS ECR login commands or the documentation link.'},\n",
       " {'Relevance': 'NON_RELEVANT',\n",
       "  'Explanation': 'The generated answer does not relate to the original answer. It provides a solution on how to launch the bitnami/tensorflow-serving image using docker run or docker-compose, while the original answer is about using a different base image due to the original image being outdated.'},\n",
       " {'Relevance': 'NON_RELEVANT',\n",
       "  'Explanation': \"The generated answer does not address the issue of CPU metrics showing as unknown in the original answer. Instead, it provides error messages related to TensorFlow Serving, which is unrelated to the original answer's context.\"},\n",
       " {'Relevance': 'NON_RELEVANT',\n",
       "  'Explanation': 'The generated answer explains how to delete an HPA but does not address the issue of the original answer, which is about fixing the unknown CPU metrics report issue.'},\n",
       " {'Relevance': 'NON_RELEVANT',\n",
       "  'Explanation': \"The generated answer provides information on how to check the kubectl version, which is not related to the original answer's problem description or solution.\"},\n",
       " {'Relevance': 'NON_RELEVANT',\n",
       "  'Explanation': 'The generated answer does not pertain to the solution description or the issue with Istio failing to update resources, but instead provides information on who added the solution description.'},\n",
       " {'Relevance': 'NON_RELEVANT',\n",
       "  'Explanation': 'The generated answer does not address the relevance of midterms or capstones, watch office hours from previous cohorts, or refer to the DTC youtube channel, which are the main points of the original answer.'},\n",
       " {'Relevance': 'NON_RELEVANT',\n",
       "  'Explanation': 'The generated answer does not relate to the original answer. The original answer discusses links that apply to all projects and where to find additional instructions, if any, for specific cohorts. The generated question and answer are about how to submit the midterm project, which is not mentioned in the original answer.'},\n",
       " {'Relevance': 'NON_RELEVANT',\n",
       "  'Explanation': \"The generated answer does not address or relate to the original answer's content about project submission, reviewing projects from previous cohorts, or the GitHub link. Instead, it discusses hashing emails for peer review with a specific algorithm and process, which is unrelated to the original answer.\"},\n",
       " {'Relevance': 'NON_RELEVANT',\n",
       "  'Explanation': 'The generated answer does not provide any information about how to find the specific projects assigned for review, or how the project evaluation process works. It only mentions a general g-sheet where projects and hashed emails will be compiled, but no details are given on how to access this g-sheet or how to relate it to the assigned projects.'},\n",
       " {'Relevance': 'NON_RELEVANT',\n",
       "  'Explanation': \"The generated answer is not relevant to the original answer, as it provides information about the number of peer projects to review, which is not mentioned or related to the original answer's content.\"},\n",
       " {'Relevance': 'NON_RELEVANT',\n",
       "  'Explanation': 'The generated answer discusses the assessment of projects based on individual performance and the peer review process, which is not related to the original answer about how the system is based on all the scores to ensure most people pass.'},\n",
       " {'Relevance': 'NON_RELEVANT',\n",
       "  'Explanation': \"The generated answer discusses how to ensure reproducibility in machine learning models and TensorFlow, which is not related to the original answer about the train.py file's purpose in reviewing a midterm project and its inclusion in the conda or pipenv environment.\"},\n",
       " {'Relevance': 'NON_RELEVANT',\n",
       "  'Explanation': 'The generated answer does not relate to the original answer in any way, as it discusses a midterm project and making posts, while the original answer focuses on installing a library and opening an image file.'},\n",
       " {'Relevance': 'NON_RELEVANT',\n",
       "  'Explanation': \"The generated answer does not provide any relation or connection to the original answer. It is a response to a generated question ('question2') which is not provided in the original answer.\"},\n",
       " {'Relevance': 'NON_RELEVANT',\n",
       "  'Explanation': \"The generated answer is not related to the original answer. The original answer is about installing a library and opening an image file, while the generated answer discusses calculating the mutual information score using a categorical variable named 'ocean_proximity' in the context of machine learning for classification.\"},\n",
       " {'Relevance': 'NON_RELEVANT',\n",
       "  'Explanation': \"The generated answer does not relate to the original answer in any way, as it discusses homework, midterm projects, and training models, which are unrelated to the original answer's content about installing the pillow library.\"},\n",
       " {'Relevance': 'NON_RELEVANT',\n",
       "  'Explanation': 'The generated answer does not relate to the original answer in any way. The original answer provides instructions on how to install a library and open an image file, while the generated answer discusses learning in public, training models, and clarifying guidelines with an instructor.'},\n",
       " {'Relevance': 'NON_RELEVANT',\n",
       "  'Explanation': 'The generated answer discusses the general steps for real-life training jobs and how to execute a train.py file. However, it does not address the relevance of having a train.py file specifically, which was the main point in the original answer. The generated answer is not relevant to the original answer.'},\n",
       " {'Relevance': 'NON_RELEVANT',\n",
       "  'Explanation': 'The generated answer does not address the original answer about creating a mobile app or interface for managing forms and validations. Instead, it discusses the content of a Machine Learning Zoomcamp course, which is not related to the original answer.'},\n",
       " {'Relevance': 'NON_RELEVANT',\n",
       "  'Explanation': 'The generated answer does not address the techniques for handling outliers mentioned in the original answer.'},\n",
       " {'Relevance': 'NON_RELEVANT',\n",
       "  'Explanation': 'The generated answer discusses alternatives for installing Kubernetes, TensorFlow Serving, and other tools, as well as deploying machine learning models on a Mac with an M1 chip. However, the original answer focuses on installing tflite_runtime in a pipenv environment, specifically addressing the error message and suggesting downgrading Python to 3.9 or using a different pip install command.'},\n",
       " {'Relevance': 'NON_RELEVANT',\n",
       "  'Explanation': 'The generated answer does not address the problem or solution provided in the original answer. It only mentions the name of the person who provided the solution, but it does not provide any context or details about the solution itself.'},\n",
       " {'Relevance': 'NON_RELEVANT',\n",
       "  'Explanation': 'The generated answer does not relate to the original answer. The original answer provides instructions on installing Nvidia drivers, Anaconda prompt, and Tensorflow with GPU support on Windows and WSL/Linux systems, while the generated answer focuses on uploading datasets on Kaggle.'},\n",
       " {'Relevance': 'NON_RELEVANT',\n",
       "  'Explanation': 'The generated answer is not related to the original answer as it addresses a different question about the recommended IDE for machine learning, while the original answer talks about accessing a public repository.'},\n",
       " {'Relevance': 'NON_RELEVANT',\n",
       "  'Explanation': 'The generated answer does not address or relate to the original answer about installing Conda environment and recommended IDE for machine learning.'},\n",
       " {'Relevance': 'NON_RELEVANT',\n",
       "  'Explanation': 'The generated answer is not related to the original answer, which is about installing Conda environment and recommending an IDE for machine learning.'},\n",
       " {'Relevance': 'NON_RELEVANT',\n",
       "  'Explanation': 'The generated answer does not address or relate to the original answer about installing and using wget for downloading data in Google Colab.'},\n",
       " {'Relevance': 'NON_RELEVANT',\n",
       "  'Explanation': 'The generated answer does not relate to the original answer. The original answer provides instructions on installing wget and downloading data using wget, whereas the generated answer explains the directory where the data is being downloaded to.'},\n",
       " {'Relevance': 'NON_RELEVANT',\n",
       "  'Explanation': 'The generated answer does not address or relate to the formatting of features in scikit-learn as mentioned in the original answer. The generated answer discusses who added the explanation, not the explanation itself.'},\n",
       " {'Relevance': 'NON_RELEVANT',\n",
       "  'Explanation': 'The generated answer does not relate to the original answer, which provides information about formatting features for scikit-learn and reshaping a 1D array to a 2D array.'},\n",
       " {'Relevance': 'NON_RELEVANT',\n",
       "  'Explanation': 'The generated answer discusses the role of the PATH in using the wget command and its relation to Python libraries, but it does not address the issue or solution related to the provided original answer about resolving errors when rerunning a Docker file on Windows due to missing Python 3.11 and pipenv or asdf.'},\n",
       " {'Relevance': 'NON_RELEVANT',\n",
       "  'Explanation': \"The generated answer discusses the example of Feature Importance for categorical values in lesson 3.6, which is not related to the original answer's question about whether to train a model only on the most important features or not.\"},\n",
       " {'Relevance': 'NON_RELEVANT',\n",
       "  'Explanation': 'The generated answer is not related to the original answer, which discusses strategies for handling large datasets in Pandas. The generated answer focuses on course sign-up, Q&A, and a specific project question.'},\n",
       " {'Relevance': 'NON_RELEVANT',\n",
       "  'Explanation': \"The generated answer does not address the original answer's content about TF and TF Serving versions needing to match. It focuses on a different aspect, the source of the advice, making it non-relevant to the original answer.\"}]"
      ]
     },
     "execution_count": 249,
     "metadata": {},
     "output_type": "execute_result"
    }
   ],
   "source": [
    "df_evl[df_evl.Relevance == 'NON_RELEVANT'].to_dict(orient='records')"
   ]
  },
  {
   "cell_type": "code",
   "execution_count": 251,
   "id": "8f97a659-4044-4e08-a399-7e615371e86d",
   "metadata": {},
   "outputs": [
    {
     "data": {
      "text/plain": [
       "{'Relevance': 'NON_RELEVANT',\n",
       " 'Explanation': \"The generated answer discusses the example of Feature Importance for categorical values in lesson 3.6, which is not related to the original answer's question about whether to train a model only on the most important features or not.\"}"
      ]
     },
     "execution_count": 251,
     "metadata": {},
     "output_type": "execute_result"
    }
   ],
   "source": [
    "df_evl.iloc[1805].to_dict()"
   ]
  },
  {
   "cell_type": "code",
   "execution_count": 254,
   "id": "59c22012-589e-4859-b8b9-1a71050c875e",
   "metadata": {},
   "outputs": [
    {
     "data": {
      "text/plain": [
       "{'question': 'What example covers Feature Importance for categorical values in lesson 3.6?',\n",
       " 'answer_llm': \"The example that covers Feature Importance for categorical values in lesson 3.6 is a horizontal bar chart visualization of feature importance. This is demonstrated in the code snippet provided by Radikal Lukafiardi. The code extracts the feature importances from the model, sorts the dataframe by feature importances in descending order, and creates a horizontal bar chart to illustrate the feature importances. The feature names are obtained using the DictVectorizer's get_feature_names_out() function, as explained by Quinn Avila. However, it is important to note that the example does not specifically use XGBoost model for feature importance calculation. Instead, it uses a decision tree model. If you want to get feature importance for an XGBoost model, you should use get_score() instead of feature_importances_ as explained by Ekaterina Kutovaia.\",\n",
       " 'answer_org': \"I’m just looking back at the lessons in week 3 (churn prediction project), and lesson 3.6 talks about Feature Importance for categorical values. At 8.12, the mutual info scores show that the some features are more important than others, but then in lesson 3.10 the Logistic Regression model is trained on all of the categorical variables (see 1:35). Once we have done feature importance, is it best to train your model only on the most important features?\\nNot necessarily - rather, any feature that can offer additional predictive value should be included (so, e.g. predict with & without including that feature; if excluding it drops performance, keep it, else drop it). A few individually important features might in fact be highly correlated with others, & dropping some might be fine. There are many feature selection algorithms, it might be interesting to read up on them (among the methods we've learned so far in this course, L1 regularization (Lasso) implicitly does feature selection by shrinking some weights all the way to zero).\\nBy Rileen Sinha\",\n",
       " 'course': 'machine-learning-zoomcamp',\n",
       " 'document': 'eb7a57a6'}"
      ]
     },
     "execution_count": 254,
     "metadata": {},
     "output_type": "execute_result"
    }
   ],
   "source": [
    "dict_llm[1805]"
   ]
  },
  {
   "cell_type": "code",
   "execution_count": 245,
   "id": "229debcd-c2a0-4a60-a6f3-3c9467c7ceed",
   "metadata": {},
   "outputs": [],
   "source": [
    "df_evl.to_csv('data/evaluations-aqa.csv', index=False)"
   ]
  },
  {
   "cell_type": "markdown",
   "id": "341a2ab0-70ea-4522-afbd-823a1023fee5",
   "metadata": {},
   "source": [
    "### second prompt"
   ]
  },
  {
   "cell_type": "code",
   "execution_count": null,
   "id": "5cd81904-e0fb-4196-a21f-dc2d8b8a0325",
   "metadata": {},
   "outputs": [
    {
     "data": {
      "application/vnd.jupyter.widget-view+json": {
       "model_id": "b890af0fd45b45fbac6d8d76b9f7cf80",
       "version_major": 2,
       "version_minor": 0
      },
      "text/plain": [
       "  0%|          | 0/1830 [00:00<?, ?it/s]"
      ]
     },
     "metadata": {},
     "output_type": "display_data"
    }
   ],
   "source": [
    "evaluations_2 = []\n",
    "\n",
    "for record in tqdm(dict_llm):\n",
    "    prompt = prompt2_template.format(**record)\n",
    "    evaluation = llm(prompt)\n",
    "    evaluations_2.append(evaluation)"
   ]
  },
  {
   "cell_type": "code",
   "execution_count": 387,
   "id": "7a0c481a-118f-4fce-8bd0-77efb633f4b4",
   "metadata": {},
   "outputs": [
    {
     "name": "stdout",
     "output_type": "stream",
     "text": [
      "Warning: Evaluation 645 is a list, not a dict. Using first element.\n",
      "Warning: Evaluation 978 is a list, not a dict. Using first element.\n",
      "Warning: Evaluation 1024 is a list, not a dict. Using first element.\n",
      "Warning: Evaluation 1527 is a list, not a dict. Using first element.\n",
      "Warning: Evaluation 1593 is a list, not a dict. Using first element.\n"
     ]
    }
   ],
   "source": [
    "# json_evaluations_2 = []\n",
    "\n",
    "# for i, str_eval in enumerate(evaluations_2):\n",
    "#     try:\n",
    "#         json_eval = json.loads(str_eval)\n",
    "\n",
    "#         if isinstance(json_eval, list):\n",
    "#             print(f\"Warning: Evaluation {i} is a list, not a dict. Using first element.\")\n",
    "#             if len(json_eval) > 0:\n",
    "#                 json_evaluations_2.append(json_eval[0])\n",
    "#             else:\n",
    "#                 print(f\"Warning: Empty list at index {i}, skipping.\")\n",
    "#         elif isinstance(json_eval, dict):\n",
    "#             json_evaluations_2.append(json_eval)\n",
    "#         else:\n",
    "#             print(f\"Unexpected type at index {i}: {type(json_eval)} — skipping.\")\n",
    "\n",
    "#     except json.JSONDecodeError as e:\n",
    "#         print(f\"JSON error at index {i}: {e} — skipping.\")\n",
    "\n",
    "json_evaluations_2 = []\n",
    "\n",
    "for i, str_eval in enumerate(evaluations_2):\n",
    "    json_eval = json.loads(str_eval)\n",
    "    json_evaluations_2.append(json_eval)"
   ]
  },
  {
   "cell_type": "code",
   "execution_count": 388,
   "id": "28ba673e-0eb9-4052-ac5c-15401e1b7824",
   "metadata": {},
   "outputs": [],
   "source": [
    "df_evl_2 = pd.DataFrame(json_evaluations_2)"
   ]
  },
  {
   "cell_type": "code",
   "execution_count": 389,
   "id": "2507780d-152b-4b37-9f70-5641ba7e1397",
   "metadata": {},
   "outputs": [
    {
     "data": {
      "text/html": [
       "<div>\n",
       "<style scoped>\n",
       "    .dataframe tbody tr th:only-of-type {\n",
       "        vertical-align: middle;\n",
       "    }\n",
       "\n",
       "    .dataframe tbody tr th {\n",
       "        vertical-align: top;\n",
       "    }\n",
       "\n",
       "    .dataframe thead th {\n",
       "        text-align: right;\n",
       "    }\n",
       "</style>\n",
       "<table border=\"1\" class=\"dataframe\">\n",
       "  <thead>\n",
       "    <tr style=\"text-align: right;\">\n",
       "      <th></th>\n",
       "      <th>Relevance</th>\n",
       "      <th>Explanation</th>\n",
       "    </tr>\n",
       "  </thead>\n",
       "  <tbody>\n",
       "    <tr>\n",
       "      <th>106</th>\n",
       "      <td>NON_RELEVANT</td>\n",
       "      <td>The generated answer does not address the ques...</td>\n",
       "    </tr>\n",
       "    <tr>\n",
       "      <th>111</th>\n",
       "      <td>NON_RELEVANT</td>\n",
       "      <td>The generated answer does not address the ques...</td>\n",
       "    </tr>\n",
       "    <tr>\n",
       "      <th>232</th>\n",
       "      <td>NON_RELEVANT</td>\n",
       "      <td>The generated answer suggests running a comman...</td>\n",
       "    </tr>\n",
       "    <tr>\n",
       "      <th>421</th>\n",
       "      <td>NON_RELEVANT</td>\n",
       "      <td>The generated answer is restating the question...</td>\n",
       "    </tr>\n",
       "    <tr>\n",
       "      <th>423</th>\n",
       "      <td>NON_RELEVANT</td>\n",
       "      <td>The generated answer is merely a repetition of...</td>\n",
       "    </tr>\n",
       "    <tr>\n",
       "      <th>...</th>\n",
       "      <td>...</td>\n",
       "      <td>...</td>\n",
       "    </tr>\n",
       "    <tr>\n",
       "      <th>1638</th>\n",
       "      <td>NON_RELEVANT</td>\n",
       "      <td>The generated answer repeats the question with...</td>\n",
       "    </tr>\n",
       "    <tr>\n",
       "      <th>1648</th>\n",
       "      <td>NON_RELEVANT</td>\n",
       "      <td>The generated answer does not provide any info...</td>\n",
       "    </tr>\n",
       "    <tr>\n",
       "      <th>1735</th>\n",
       "      <td>NON_RELEVANT</td>\n",
       "      <td>The given answer is not related to Bhaskar Sar...</td>\n",
       "    </tr>\n",
       "    <tr>\n",
       "      <th>1789</th>\n",
       "      <td>NON_RELEVANT</td>\n",
       "      <td>The generated answer does not address the ques...</td>\n",
       "    </tr>\n",
       "    <tr>\n",
       "      <th>1824</th>\n",
       "      <td>NON_RELEVANT</td>\n",
       "      <td>The generated answer does not provide any rele...</td>\n",
       "    </tr>\n",
       "  </tbody>\n",
       "</table>\n",
       "<p>68 rows × 2 columns</p>\n",
       "</div>"
      ],
      "text/plain": [
       "         Relevance                                        Explanation\n",
       "106   NON_RELEVANT  The generated answer does not address the ques...\n",
       "111   NON_RELEVANT  The generated answer does not address the ques...\n",
       "232   NON_RELEVANT  The generated answer suggests running a comman...\n",
       "421   NON_RELEVANT  The generated answer is restating the question...\n",
       "423   NON_RELEVANT  The generated answer is merely a repetition of...\n",
       "...            ...                                                ...\n",
       "1638  NON_RELEVANT  The generated answer repeats the question with...\n",
       "1648  NON_RELEVANT  The generated answer does not provide any info...\n",
       "1735  NON_RELEVANT  The given answer is not related to Bhaskar Sar...\n",
       "1789  NON_RELEVANT  The generated answer does not address the ques...\n",
       "1824  NON_RELEVANT  The generated answer does not provide any rele...\n",
       "\n",
       "[68 rows x 2 columns]"
      ]
     },
     "execution_count": 389,
     "metadata": {},
     "output_type": "execute_result"
    }
   ],
   "source": [
    "df_evl_2[df_evl_2.Relevance == 'NON_RELEVANT']"
   ]
  },
  {
   "cell_type": "code",
   "execution_count": null,
   "id": "abeec8ed-9e22-4b2b-b55c-a0ecf1da8ae2",
   "metadata": {},
   "outputs": [],
   "source": [
    "df_evl_2.to_csv('data/evaluations-qa.csv', index=False)"
   ]
  }
 ],
 "metadata": {
  "kernelspec": {
   "display_name": "Python 3 (ipykernel)",
   "language": "python",
   "name": "python3"
  },
  "language_info": {
   "codemirror_mode": {
    "name": "ipython",
    "version": 3
   },
   "file_extension": ".py",
   "mimetype": "text/x-python",
   "name": "python",
   "nbconvert_exporter": "python",
   "pygments_lexer": "ipython3",
   "version": "3.12.2"
  }
 },
 "nbformat": 4,
 "nbformat_minor": 5
}
