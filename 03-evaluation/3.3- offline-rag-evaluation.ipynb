{
 "cells": [
  {
   "cell_type": "code",
   "execution_count": 1,
   "id": "6313c8a8-bff6-4c33-9bfb-dcfc85324553",
   "metadata": {},
   "outputs": [],
   "source": [
    "import requests\n",
    "import pandas as pd\n"
   ]
  },
  {
   "cell_type": "code",
   "execution_count": 2,
   "id": "841f7d53-331e-407e-ab06-c56415fff316",
   "metadata": {},
   "outputs": [],
   "source": [
    "import os\n",
    "os.environ[\"SSL_CERT_FILE\"] = \"Fortinet_CA_SSL(15).cer\"\n"
   ]
  },
  {
   "cell_type": "markdown",
   "id": "8bfd87e2-5fdb-48c4-be62-4dd4507233f9",
   "metadata": {},
   "source": [
    "# Load documents with IDs and ground truth"
   ]
  },
  {
   "cell_type": "code",
   "execution_count": 3,
   "id": "0cf6e622-2e4f-44df-97a0-dfcfe45cbf38",
   "metadata": {},
   "outputs": [],
   "source": [
    "url_prefix = 'https://raw.githubusercontent.com/DataTalksClub/llm-zoomcamp/main/03-evaluation/'\n",
    "docs_url = url_prefix + 'search_evaluation/documents-with-ids.json'\n",
    "documents = requests.get(docs_url).json()\n",
    "\n",
    "ground_truth_url = url_prefix + 'search_evaluation/ground-truth-data.csv'\n",
    "df_ground_truth = pd.read_csv(ground_truth_url)\n",
    "df_ground_truth = df_ground_truth[df_ground_truth.course == 'machine-learning-zoomcamp']\n",
    "ground_truth = df_ground_truth.to_dict(orient='records')"
   ]
  },
  {
   "cell_type": "code",
   "execution_count": 4,
   "id": "c37d3e79-186f-47d3-886b-04f3db628891",
   "metadata": {},
   "outputs": [
    {
     "data": {
      "text/plain": [
       "{'text': 'It depends on your background and previous experience with modules. It is expected to require about 5 - 15 hours per week. [source1] [source2]\\nYou can also calculate it yourself using this data and then update this answer.',\n",
       " 'section': 'General course-related questions',\n",
       " 'question': 'Course - \\u200b\\u200bHow many hours per week am I expected to spend on this  course?',\n",
       " 'course': 'data-engineering-zoomcamp',\n",
       " 'id': 'ea739c65'}"
      ]
     },
     "execution_count": 4,
     "metadata": {},
     "output_type": "execute_result"
    }
   ],
   "source": [
    "documents[10]"
   ]
  },
  {
   "cell_type": "code",
   "execution_count": 5,
   "id": "c67b6fc4-e7dc-4d73-a125-ccadacefc873",
   "metadata": {},
   "outputs": [
    {
     "data": {
      "text/plain": [
       "{'question': 'Are sessions recorded if I miss one?',\n",
       " 'course': 'machine-learning-zoomcamp',\n",
       " 'document': '5170565b'}"
      ]
     },
     "execution_count": 5,
     "metadata": {},
     "output_type": "execute_result"
    }
   ],
   "source": [
    "ground_truth[10]"
   ]
  },
  {
   "cell_type": "code",
   "execution_count": 6,
   "id": "a01c98b2-b54d-4aaa-9983-cf8a3ff7919c",
   "metadata": {},
   "outputs": [
    {
     "data": {
      "text/plain": [
       "'Everything is recorded, so you won’t miss anything. You will be able to ask your questions for office hours in advance and we will cover them during the live stream. Also, you can always ask questions in Slack.'"
      ]
     },
     "execution_count": 6,
     "metadata": {},
     "output_type": "execute_result"
    }
   ],
   "source": [
    "doc_idx={d['id']: d for d in documents}\n",
    "doc_idx['5170565b']['text']"
   ]
  },
  {
   "cell_type": "markdown",
   "id": "4c80c092-e9d1-4791-a619-62f8f0e68e61",
   "metadata": {},
   "source": [
    "# Index data"
   ]
  },
  {
   "cell_type": "code",
   "execution_count": 7,
   "id": "14dd9b80-ef80-4769-8b61-f08a3244e70a",
   "metadata": {},
   "outputs": [],
   "source": [
    "pip install sentence_transformers --trusted-host pypi.org --trusted-host files.pythonhosted.org"
   ]
  },
  {
   "cell_type": "code",
   "execution_count": 8,
   "id": "c9a99a11-5f51-4f64-b12b-014b58a622be",
   "metadata": {},
   "outputs": [],
   "source": [
    "from sentence_transformers import SentenceTransformer\n",
    "from tqdm.auto import tqdm"
   ]
  },
  {
   "cell_type": "code",
   "execution_count": 9,
   "id": "bf398d4d-54a0-48b1-a833-03aeaf2ae421",
   "metadata": {},
   "outputs": [],
   "source": [
    "model_name = 'multi-qa-MiniLM-L6-cos-v1'\n",
    "model = SentenceTransformer(model_name)"
   ]
  },
  {
   "cell_type": "code",
   "execution_count": 10,
   "id": "02afbe20-7768-48c1-8f05-2d0aafdfa29e",
   "metadata": {},
   "outputs": [],
   "source": [
    "from elasticsearch import Elasticsearch"
   ]
  },
  {
   "cell_type": "code",
   "execution_count": 11,
   "id": "3ad474de-5b55-4237-a6a4-42f6ddc2eefc",
   "metadata": {},
   "outputs": [],
   "source": [
    "es_client = Elasticsearch(\"http://localhost:9200\")"
   ]
  },
  {
   "cell_type": "code",
   "execution_count": 14,
   "id": "92d0abdd-d146-4f1e-8f48-95ed59beca89",
   "metadata": {},
   "outputs": [
    {
     "data": {
      "text/plain": [
       "ObjectApiResponse({'acknowledged': True, 'shards_acknowledged': True, 'index': 'course-questions'})"
      ]
     },
     "execution_count": 14,
     "metadata": {},
     "output_type": "execute_result"
    }
   ],
   "source": [
    "index_settings = {\n",
    "    \"settings\": {\n",
    "        \"number_of_shards\": 1,\n",
    "        \"number_of_replicas\": 0\n",
    "    },\n",
    "    \"mappings\": {\n",
    "        \"properties\": {\n",
    "            \"text\": {\"type\": \"text\"},\n",
    "            \"section\": {\"type\": \"text\"},\n",
    "            \"question\": {\"type\": \"text\"},\n",
    "            \"course\": {\"type\": \"keyword\"},\n",
    "            \"id\": {\"type\": \"keyword\"},\n",
    "            \"question_text_vector\":{\n",
    "                \"type\": \"dense_vector\",\n",
    "                \"dims\": 384,\n",
    "                \"index\": True,\n",
    "                \"similarity\":\"cosine\"\n",
    "            }\n",
    "        }\n",
    "    }\n",
    "}\n",
    "\n",
    "index_name = \"course-questions\"\n",
    "\n",
    "es_client.indices.delete(index=index_name, ignore_unavailable=True)\n",
    "es_client.indices.create(index=index_name, body=index_settings)"
   ]
  },
  {
   "cell_type": "code",
   "execution_count": 15,
   "id": "e1bcb609-bc1e-4bc3-83ad-b07100a0cdcb",
   "metadata": {},
   "outputs": [],
   "source": [
    "import numpy as np\n",
    "np.float_ = np.float64"
   ]
  },
  {
   "cell_type": "code",
   "execution_count": 16,
   "id": "06d9b17c-9506-44e9-9eea-b7cea1affc7f",
   "metadata": {},
   "outputs": [
    {
     "name": "stderr",
     "output_type": "stream",
     "text": [
      "100%|███████████████████████████████████████████████████████████████████████████████████████████████████████████████████████████████████████| 948/948 [03:34<00:00,  4.42it/s]\n"
     ]
    }
   ],
   "source": [
    "from tqdm import tqdm \n",
    "\n",
    "for doc in tqdm(documents):\n",
    "    question = doc['question']\n",
    "    text = doc['text']\n",
    "    doc['question_text_vector'] = model.encode(question + ' ' + text)\n",
    "\n",
    "    es_client.index(index=index_name, document=doc)"
   ]
  },
  {
   "cell_type": "markdown",
   "id": "ea48eaaf-e03a-479d-8131-15046f400c8f",
   "metadata": {},
   "source": [
    "# Retrieval"
   ]
  },
  {
   "cell_type": "code",
   "execution_count": 17,
   "id": "1f8700cd-4c4d-4e24-a9d5-2a57131d02da",
   "metadata": {},
   "outputs": [],
   "source": [
    "def elastic_search_knn(field, vector, course):\n",
    "    knn = {\n",
    "        \"field\": field,\n",
    "        \"query_vector\": vector,\n",
    "        \"k\": 5,\n",
    "        \"num_candidates\": 10000,\n",
    "        \"filter\":{\n",
    "            \"term\":{\n",
    "                \"course\": course\n",
    "            }\n",
    "        }\n",
    "    }\n",
    "\n",
    "    search_query = {\n",
    "        \"knn\": knn,\n",
    "        \"_source\": [\"text\", \"section\", \"question\", \"course\", \"id\"]\n",
    "    }\n",
    "\n",
    "    es_results = es_client.search(\n",
    "        index=index_name,\n",
    "        body=search_query\n",
    "    )\n",
    "\n",
    "    result_docs = []\n",
    "\n",
    "    for hit in es_results['hits']['hits']:\n",
    "        result_docs.append(hit['_source'])\n",
    "\n",
    "    return result_docs"
   ]
  },
  {
   "cell_type": "code",
   "execution_count": 18,
   "id": "ec7d10fa-d520-421a-9bd5-197b8b921a8c",
   "metadata": {},
   "outputs": [],
   "source": [
    "def question_text_vector_knn(q):\n",
    "    question = q ['question']\n",
    "    course = q['course']\n",
    "\n",
    "    v_q = model.encode(question)\n",
    "    return elastic_search_knn ('question_text_vector', v_q, course)"
   ]
  },
  {
   "cell_type": "code",
   "execution_count": 19,
   "id": "19947d23-60f6-4ef1-96d0-e07534cb3bdb",
   "metadata": {},
   "outputs": [
    {
     "data": {
      "text/plain": [
       "[{'question': 'What if I miss a session?',\n",
       "  'course': 'machine-learning-zoomcamp',\n",
       "  'section': 'General course-related questions',\n",
       "  'text': 'Everything is recorded, so you won’t miss anything. You will be able to ask your questions for office hours in advance and we will cover them during the live stream. Also, you can always ask questions in Slack.',\n",
       "  'id': '5170565b'},\n",
       " {'question': 'Is it going to be live? When?',\n",
       "  'course': 'machine-learning-zoomcamp',\n",
       "  'section': 'General course-related questions',\n",
       "  'text': 'The course videos are pre-recorded, you can start watching the course right now.\\nWe will also occasionally have office hours - live sessions where we will answer your questions. The office hours sessions are recorded too.\\nYou can see the office hours as well as the pre-recorded course videos in the course playlist on YouTube.',\n",
       "  'id': '39fda9f0'},\n",
       " {'question': 'The same accuracy on epochs',\n",
       "  'course': 'machine-learning-zoomcamp',\n",
       "  'section': '8. Neural Networks and Deep Learning',\n",
       "  'text': \"Problem description\\nThe accuracy and the loss are both still the same or nearly the same while training.\\nSolution description\\nIn the homework, you should set class_mode='binary' while reading the data.\\nAlso, problem occurs when you choose the wrong optimizer, batch size, or learning rate\\nAdded by Ekaterina Kutovaia\",\n",
       "  'id': '7d11d5ce'},\n",
       " {'question': 'Useful Resource for Missing Data Treatment\\nhttps://www.kaggle.com/code/parulpandey/a-guide-to-handling-missing-values-in-python/notebook',\n",
       "  'course': 'machine-learning-zoomcamp',\n",
       "  'section': '2. Machine Learning for Regression',\n",
       "  'text': '(Hrithik Kumar Advani)',\n",
       "  'id': '81b8e8d0'},\n",
       " {'question': 'Will I get a certificate if I missed the midterm project?',\n",
       "  'course': 'machine-learning-zoomcamp',\n",
       "  'section': 'General course-related questions',\n",
       "  'text': \"Yes, it's possible. See the previous answer.\",\n",
       "  'id': '1d644223'}]"
      ]
     },
     "execution_count": 19,
     "metadata": {},
     "output_type": "execute_result"
    }
   ],
   "source": [
    "question_text_vector_knn(dict(\n",
    "    question= 'Are sessions recorded if I miss one?',\n",
    "    course = 'machine-learning-zoomcamp',\n",
    "))"
   ]
  },
  {
   "cell_type": "code",
   "execution_count": 20,
   "id": "1e62f8d7-84aa-48dc-92a7-0df37e2e97b6",
   "metadata": {},
   "outputs": [],
   "source": [
    "from mistralai import Mistral\n",
    "from mistralai.models import UserMessage\n",
    "import os\n",
    "from dotenv import load_dotenv"
   ]
  },
  {
   "cell_type": "code",
   "execution_count": 21,
   "id": "41492a60-8a89-45e6-b642-74c89345108b",
   "metadata": {},
   "outputs": [
    {
     "data": {
      "text/plain": [
       "True"
      ]
     },
     "execution_count": 21,
     "metadata": {},
     "output_type": "execute_result"
    }
   ],
   "source": [
    "# loads variables from .env\n",
    "load_dotenv()  "
   ]
  },
  {
   "cell_type": "code",
   "execution_count": 22,
   "id": "158d02ba-51ad-4145-b81e-54ff4d87eed8",
   "metadata": {},
   "outputs": [],
   "source": [
    "api_key = os.getenv(\"API_KEY\")"
   ]
  },
  {
   "cell_type": "code",
   "execution_count": 23,
   "id": "c5d7bd84-0c8d-43a6-8c11-fa3129af720b",
   "metadata": {},
   "outputs": [],
   "source": [
    "client = Mistral(api_key = api_key)"
   ]
  },
  {
   "cell_type": "code",
   "execution_count": 24,
   "id": "20bda5fb-897e-4be5-8abc-b7332f617835",
   "metadata": {},
   "outputs": [],
   "source": [
    "def llm(prompt):\n",
    "    response = client.chat.complete(\n",
    "        model= \"open-mistral-7b\",\n",
    "        messages=[UserMessage(content=prompt)],\n",
    "    )\n",
    "\n",
    "\n",
    "    return response.choices[0].message.content"
   ]
  },
  {
   "cell_type": "code",
   "execution_count": 25,
   "id": "94e26c3a-07fe-49f4-8ad2-672f32a0d6e6",
   "metadata": {},
   "outputs": [],
   "source": [
    "def build_prompt(query, search_results):\n",
    "\n",
    "    prompt_template = \"\"\"\n",
    "You're a course teaching assistant. Answer the QUESTION based on the CONTEXT from the FAQ database.\n",
    "Use only the facts from the CONTEXT when answering the QUESTION.\n",
    "\n",
    "QUESTION: {question}\n",
    "\n",
    "CONTEXT:\n",
    "{context}\n",
    "\"\"\".strip()\n",
    "\n",
    "    context = \"\"\n",
    "\n",
    "    for doc in search_results:\n",
    "        context = context + f\"section: {doc['section']}\\nquestion: {doc['question']}\\nanswer: {doc['text']}\\n\\n\"\n",
    "\n",
    "    prompt = prompt_template.format(question=query, context=context).strip()\n",
    "    return prompt\n"
   ]
  },
  {
   "cell_type": "code",
   "execution_count": 26,
   "id": "0e1fe3f0-32a3-464d-b770-1107e73b7d13",
   "metadata": {},
   "outputs": [],
   "source": [
    "def rag(query:dict) ->str:\n",
    "    search_results = question_text_vector_knn(query)\n",
    "    prompt = build_prompt(query['question'], search_results)\n",
    "    answer = llm(prompt)\n",
    "    return answer"
   ]
  },
  {
   "cell_type": "code",
   "execution_count": 27,
   "id": "aaf12f87-cded-4ac1-bb70-ec82ce44bebd",
   "metadata": {},
   "outputs": [
    {
     "data": {
      "text/plain": [
       "\"Based on the provided context, if you miss a session, the recorded sessions will be available for you to watch at your convenience. However, since the course videos are pre-recorded, the live sessions that might include office hours are also recorded. You can find these recordings in the course playlist on YouTube. If you have specific questions, you can ask them in advance or use the Slack channel for communication. It's important to note that certificates are usually awarded based on course completion, so missing the midterm project might affect your eligibility for a certificate, but it's best to refer to the specific course policies for more details.\""
      ]
     },
     "execution_count": 27,
     "metadata": {},
     "output_type": "execute_result"
    }
   ],
   "source": [
    "rag(ground_truth[10])"
   ]
  },
  {
   "cell_type": "code",
   "execution_count": 28,
   "id": "fd1f545b-f325-4123-8ee7-64a7c54da498",
   "metadata": {},
   "outputs": [
    {
     "data": {
      "text/plain": [
       "'Everything is recorded, so you won’t miss anything. You will be able to ask your questions for office hours in advance and we will cover them during the live stream. Also, you can always ask questions in Slack.'"
      ]
     },
     "execution_count": 28,
     "metadata": {},
     "output_type": "execute_result"
    }
   ],
   "source": [
    "doc_idx['5170565b']['text']"
   ]
  },
  {
   "cell_type": "markdown",
   "id": "061e1666-cc21-4e0b-993a-79951d53cce8",
   "metadata": {},
   "source": [
    "# Cosine similarity metric"
   ]
  },
  {
   "cell_type": "code",
   "execution_count": 29,
   "id": "05faeaaf-1c6f-4b50-9aed-a7e525650ee8",
   "metadata": {},
   "outputs": [
    {
     "data": {
      "text/plain": [
       "np.float32(0.5774827)"
      ]
     },
     "execution_count": 29,
     "metadata": {},
     "output_type": "execute_result"
    }
   ],
   "source": [
    "answer_org = 'Everything is recorded, so you won’t miss anything. You will be able to ask your questions for office hours in advance and we will cover them during the live stream. Also, you can always ask questions in Slack.'\n",
    "answer_llm = \"Based on the provided context, sessions are recorded if you miss one. You can watch the recorded sessions at your convenience. However, it's not specified if the recorded sessions include the specific content that was presented during the missed session. office hours are also recorded, and you can ask your questions in advance for these sessions.\"\n",
    "\n",
    "v_llm = model.encode(answer_llm)\n",
    "v_org = model.encode(answer_org)\n",
    "\n",
    "v_llm.dot(v_org)\n"
   ]
  },
  {
   "cell_type": "code",
   "execution_count": 30,
   "id": "4c9ed1ad-bd7f-4948-ac56-2c97aa031cab",
   "metadata": {},
   "outputs": [
    {
     "data": {
      "text/plain": [
       "{'question': 'How can I structure my questions and answers for the course?',\n",
       " 'course': 'machine-learning-zoomcamp',\n",
       " 'document': '0227b872'}"
      ]
     },
     "execution_count": 30,
     "metadata": {},
     "output_type": "execute_result"
    }
   ],
   "source": [
    "ground_truth[4]"
   ]
  },
  {
   "cell_type": "code",
   "execution_count": 31,
   "id": "effae656-e9ab-4188-936d-aad1d964a1dc",
   "metadata": {},
   "outputs": [
    {
     "name": "stderr",
     "output_type": "stream",
     "text": [
      "100%|█████████████████████████████████████████████████████████████████████████████████████████████████████████████████████████████████████| 1830/1830 [45:05<00:00,  1.48s/it]\n"
     ]
    }
   ],
   "source": [
    "answers = {}\n",
    "\n",
    "for i, rec in enumerate(tqdm(ground_truth)):\n",
    "    if i in answers:\n",
    "        continue\n",
    "        \n",
    "    answer_llm = rag(rec)\n",
    "    doc_id = rec['document']\n",
    "    original_doc = doc_idx[doc_id]\n",
    "    answer_org = original_doc['text']\n",
    "    question = original_doc['question']\n",
    "\n",
    "    answers[i] = {\n",
    "        'question': question,\n",
    "        'answer_llm': answer_llm,\n",
    "        'answer_org': answer_org, \n",
    "        'course': rec['course'],\n",
    "        'document': doc_id\n",
    "    }\n",
    "\n"
   ]
  },
  {
   "cell_type": "code",
   "execution_count": 34,
   "id": "a336f000-7023-4834-9766-e4511f6b2a6e",
   "metadata": {},
   "outputs": [],
   "source": [
    "results_llm = [None] * len(ground_truth)\n",
    "\n",
    "for i, val in answers.items():\n",
    "    results_llm[i] = val.copy()\n",
    "    results_llm[i].update(ground_truth[i])"
   ]
  },
  {
   "cell_type": "code",
   "execution_count": 36,
   "id": "fba3a004-1797-4097-8560-a17a78081aa6",
   "metadata": {},
   "outputs": [],
   "source": [
    "import pandas as pd"
   ]
  },
  {
   "cell_type": "code",
   "execution_count": 37,
   "id": "4c6409bc-e466-4918-ae23-5542d9fac8fc",
   "metadata": {},
   "outputs": [],
   "source": [
    "df_llm = pd.DataFrame(results_llm)"
   ]
  },
  {
   "cell_type": "code",
   "execution_count": 38,
   "id": "109ec4ca-0b94-4d88-a576-ff810b9c9fb1",
   "metadata": {},
   "outputs": [
    {
     "name": "stdout",
     "output_type": "stream",
     "text": [
      "mkdir: cannot create directory ‘data’: File exists\n"
     ]
    },
    {
     "name": "stderr",
     "output_type": "stream",
     "text": [
      "huggingface/tokenizers: The current process just got forked, after parallelism has already been used. Disabling parallelism to avoid deadlocks...\n",
      "To disable this warning, you can either:\n",
      "\t- Avoid using `tokenizers` before the fork if possible\n",
      "\t- Explicitly set the environment variable TOKENIZERS_PARALLELISM=(true | false)\n"
     ]
    }
   ],
   "source": [
    "!mkdir data"
   ]
  },
  {
   "cell_type": "code",
   "execution_count": 39,
   "id": "71b098bf-5445-4440-bdfa-72c57a6ee23d",
   "metadata": {},
   "outputs": [],
   "source": [
    "df_llm.to_csv('data/results-llm.csv', index=False)"
   ]
  },
  {
   "cell_type": "code",
   "execution_count": 40,
   "id": "a9f2b05a-4021-43b0-ac6d-15b2d95b0bc1",
   "metadata": {},
   "outputs": [
    {
     "data": {
      "text/html": [
       "<div>\n",
       "<style scoped>\n",
       "    .dataframe tbody tr th:only-of-type {\n",
       "        vertical-align: middle;\n",
       "    }\n",
       "\n",
       "    .dataframe tbody tr th {\n",
       "        vertical-align: top;\n",
       "    }\n",
       "\n",
       "    .dataframe thead th {\n",
       "        text-align: right;\n",
       "    }\n",
       "</style>\n",
       "<table border=\"1\" class=\"dataframe\">\n",
       "  <thead>\n",
       "    <tr style=\"text-align: right;\">\n",
       "      <th></th>\n",
       "      <th>question</th>\n",
       "      <th>answer_llm</th>\n",
       "      <th>answer_org</th>\n",
       "      <th>course</th>\n",
       "      <th>document</th>\n",
       "    </tr>\n",
       "  </thead>\n",
       "  <tbody>\n",
       "    <tr>\n",
       "      <th>0</th>\n",
       "      <td>Where can I sign up for the course?</td>\n",
       "      <td>To sign up for the course, you can access the ...</td>\n",
       "      <td>Machine Learning Zoomcamp FAQ\\nThe purpose of ...</td>\n",
       "      <td>machine-learning-zoomcamp</td>\n",
       "      <td>0227b872</td>\n",
       "    </tr>\n",
       "    <tr>\n",
       "      <th>1</th>\n",
       "      <td>Can you provide a link to sign up?</td>\n",
       "      <td>To sign up for the Machine Learning Zoomcamp, ...</td>\n",
       "      <td>Machine Learning Zoomcamp FAQ\\nThe purpose of ...</td>\n",
       "      <td>machine-learning-zoomcamp</td>\n",
       "      <td>0227b872</td>\n",
       "    </tr>\n",
       "    <tr>\n",
       "      <th>2</th>\n",
       "      <td>Is there an FAQ for this Machine Learning course?</td>\n",
       "      <td>Based on the provided context, there does not ...</td>\n",
       "      <td>Machine Learning Zoomcamp FAQ\\nThe purpose of ...</td>\n",
       "      <td>machine-learning-zoomcamp</td>\n",
       "      <td>0227b872</td>\n",
       "    </tr>\n",
       "    <tr>\n",
       "      <th>3</th>\n",
       "      <td>Does this course have a GitHub repository for ...</td>\n",
       "      <td>Based on the provided context, this course doe...</td>\n",
       "      <td>Machine Learning Zoomcamp FAQ\\nThe purpose of ...</td>\n",
       "      <td>machine-learning-zoomcamp</td>\n",
       "      <td>0227b872</td>\n",
       "    </tr>\n",
       "    <tr>\n",
       "      <th>4</th>\n",
       "      <td>How can I structure my questions and answers f...</td>\n",
       "      <td>To structure your questions and answers for th...</td>\n",
       "      <td>Machine Learning Zoomcamp FAQ\\nThe purpose of ...</td>\n",
       "      <td>machine-learning-zoomcamp</td>\n",
       "      <td>0227b872</td>\n",
       "    </tr>\n",
       "    <tr>\n",
       "      <th>...</th>\n",
       "      <td>...</td>\n",
       "      <td>...</td>\n",
       "      <td>...</td>\n",
       "      <td>...</td>\n",
       "      <td>...</td>\n",
       "    </tr>\n",
       "    <tr>\n",
       "      <th>1825</th>\n",
       "      <td>What are some suggested titles for listing the...</td>\n",
       "      <td>Based on the context provided, some suggested ...</td>\n",
       "      <td>I’ve seen LinkedIn users list DataTalksClub as...</td>\n",
       "      <td>machine-learning-zoomcamp</td>\n",
       "      <td>c6a22665</td>\n",
       "    </tr>\n",
       "    <tr>\n",
       "      <th>1826</th>\n",
       "      <td>Should I list the Machine Learning Zoomcamp ex...</td>\n",
       "      <td>Based on the provided context, it is best advi...</td>\n",
       "      <td>I’ve seen LinkedIn users list DataTalksClub as...</td>\n",
       "      <td>machine-learning-zoomcamp</td>\n",
       "      <td>c6a22665</td>\n",
       "    </tr>\n",
       "    <tr>\n",
       "      <th>1827</th>\n",
       "      <td>In which LinkedIn sections can I incorporate m...</td>\n",
       "      <td>Based on the context provided, you can incorpo...</td>\n",
       "      <td>I’ve seen LinkedIn users list DataTalksClub as...</td>\n",
       "      <td>machine-learning-zoomcamp</td>\n",
       "      <td>c6a22665</td>\n",
       "    </tr>\n",
       "    <tr>\n",
       "      <th>1828</th>\n",
       "      <td>Who gave advice on including a project link in...</td>\n",
       "      <td>Annaliese Bronz gave advice on including a pro...</td>\n",
       "      <td>I’ve seen LinkedIn users list DataTalksClub as...</td>\n",
       "      <td>machine-learning-zoomcamp</td>\n",
       "      <td>c6a22665</td>\n",
       "    </tr>\n",
       "    <tr>\n",
       "      <th>1829</th>\n",
       "      <td>Who suggested showcasing progress through Link...</td>\n",
       "      <td>The question \"Who suggested showcasing progres...</td>\n",
       "      <td>I’ve seen LinkedIn users list DataTalksClub as...</td>\n",
       "      <td>machine-learning-zoomcamp</td>\n",
       "      <td>c6a22665</td>\n",
       "    </tr>\n",
       "  </tbody>\n",
       "</table>\n",
       "<p>1830 rows × 5 columns</p>\n",
       "</div>"
      ],
      "text/plain": [
       "                                               question  \\\n",
       "0                   Where can I sign up for the course?   \n",
       "1                    Can you provide a link to sign up?   \n",
       "2     Is there an FAQ for this Machine Learning course?   \n",
       "3     Does this course have a GitHub repository for ...   \n",
       "4     How can I structure my questions and answers f...   \n",
       "...                                                 ...   \n",
       "1825  What are some suggested titles for listing the...   \n",
       "1826  Should I list the Machine Learning Zoomcamp ex...   \n",
       "1827  In which LinkedIn sections can I incorporate m...   \n",
       "1828  Who gave advice on including a project link in...   \n",
       "1829  Who suggested showcasing progress through Link...   \n",
       "\n",
       "                                             answer_llm  \\\n",
       "0     To sign up for the course, you can access the ...   \n",
       "1     To sign up for the Machine Learning Zoomcamp, ...   \n",
       "2     Based on the provided context, there does not ...   \n",
       "3     Based on the provided context, this course doe...   \n",
       "4     To structure your questions and answers for th...   \n",
       "...                                                 ...   \n",
       "1825  Based on the context provided, some suggested ...   \n",
       "1826  Based on the provided context, it is best advi...   \n",
       "1827  Based on the context provided, you can incorpo...   \n",
       "1828  Annaliese Bronz gave advice on including a pro...   \n",
       "1829  The question \"Who suggested showcasing progres...   \n",
       "\n",
       "                                             answer_org  \\\n",
       "0     Machine Learning Zoomcamp FAQ\\nThe purpose of ...   \n",
       "1     Machine Learning Zoomcamp FAQ\\nThe purpose of ...   \n",
       "2     Machine Learning Zoomcamp FAQ\\nThe purpose of ...   \n",
       "3     Machine Learning Zoomcamp FAQ\\nThe purpose of ...   \n",
       "4     Machine Learning Zoomcamp FAQ\\nThe purpose of ...   \n",
       "...                                                 ...   \n",
       "1825  I’ve seen LinkedIn users list DataTalksClub as...   \n",
       "1826  I’ve seen LinkedIn users list DataTalksClub as...   \n",
       "1827  I’ve seen LinkedIn users list DataTalksClub as...   \n",
       "1828  I’ve seen LinkedIn users list DataTalksClub as...   \n",
       "1829  I’ve seen LinkedIn users list DataTalksClub as...   \n",
       "\n",
       "                         course  document  \n",
       "0     machine-learning-zoomcamp  0227b872  \n",
       "1     machine-learning-zoomcamp  0227b872  \n",
       "2     machine-learning-zoomcamp  0227b872  \n",
       "3     machine-learning-zoomcamp  0227b872  \n",
       "4     machine-learning-zoomcamp  0227b872  \n",
       "...                         ...       ...  \n",
       "1825  machine-learning-zoomcamp  c6a22665  \n",
       "1826  machine-learning-zoomcamp  c6a22665  \n",
       "1827  machine-learning-zoomcamp  c6a22665  \n",
       "1828  machine-learning-zoomcamp  c6a22665  \n",
       "1829  machine-learning-zoomcamp  c6a22665  \n",
       "\n",
       "[1830 rows x 5 columns]"
      ]
     },
     "execution_count": 40,
     "metadata": {},
     "output_type": "execute_result"
    }
   ],
   "source": [
    "df_llm"
   ]
  },
  {
   "cell_type": "markdown",
   "id": "adba9a8b-f60a-423d-bbad-1823a7f2826c",
   "metadata": {},
   "source": [
    "## Cosine similarity"
   ]
  },
  {
   "cell_type": "code",
   "execution_count": 43,
   "id": "2700961f-ff4f-476e-9aa7-72039fb25d1a",
   "metadata": {},
   "outputs": [],
   "source": [
    "result_llm = df_llm.to_dict(orient='records')"
   ]
  },
  {
   "cell_type": "code",
   "execution_count": 45,
   "id": "a8b2e109-c0cb-477d-8ca4-c7fdd773802c",
   "metadata": {},
   "outputs": [],
   "source": [
    "record = result_llm[0]"
   ]
  },
  {
   "cell_type": "code",
   "execution_count": 46,
   "id": "ae658b4a-f5d0-4fc2-8b36-3d4d2e7242e9",
   "metadata": {},
   "outputs": [
    {
     "data": {
      "text/plain": [
       "{'question': 'Where can I sign up for the course?',\n",
       " 'answer_llm': \"To sign up for the course, you can access the course page at http://mlzoomcamp.com/. If you've already joined, you can start going through the course materials by clicking on the links and starting to watch the videos. You can also find the course playlist on YouTube. Since the course videos are pre-recorded, you can start watching the course right now. To receive a certificate, you need to submit 2 out of 3 course projects and review 3 peers’ projects by the deadline. You will need to provide the URL to your GitHub repo to receive a grade for your homework questions.\",\n",
       " 'answer_org': 'Machine Learning Zoomcamp FAQ\\nThe purpose of this document is to capture frequently asked technical questions.\\nWe did this for our data engineering course and it worked quite well. Check this document for inspiration on how to structure your questions and answers:\\nData Engineering Zoomcamp FAQ\\nIn the course GitHub repository there’s a link. Here it is: https://airtable.com/shryxwLd0COOEaqXo\\nwork',\n",
       " 'course': 'machine-learning-zoomcamp',\n",
       " 'document': '0227b872'}"
      ]
     },
     "execution_count": 46,
     "metadata": {},
     "output_type": "execute_result"
    }
   ],
   "source": [
    "record"
   ]
  },
  {
   "cell_type": "code",
   "execution_count": 51,
   "id": "2af1a774-bead-4095-abd4-744457bc19e4",
   "metadata": {},
   "outputs": [],
   "source": [
    "def compute_similarity(record):\n",
    "\n",
    "    answer_org = record['answer_org']\n",
    "    answer_llm = record['answer_llm']\n",
    "    \n",
    "    v_llm = model.encode(answer_llm)\n",
    "    v_org = model.encode(answer_org)\n",
    "    \n",
    "    return v_llm.dot(v_org)\n"
   ]
  },
  {
   "cell_type": "code",
   "execution_count": 52,
   "id": "90299377-abad-41f8-975f-4570c02bf7ac",
   "metadata": {},
   "outputs": [
    {
     "name": "stderr",
     "output_type": "stream",
     "text": [
      "100%|█████████████████████████████████████████████████████████████████████████████████████████████████████████████████████████████████████| 1830/1830 [01:38<00:00, 18.60it/s]\n"
     ]
    }
   ],
   "source": [
    "similarity = []\n",
    "\n",
    "for record in tqdm(result_llm):\n",
    "    sim = compute_similarity(record)\n",
    "    similarity.append(sim)"
   ]
  },
  {
   "cell_type": "code",
   "execution_count": 53,
   "id": "3e4ce955-dd25-4440-a16f-348706dc4841",
   "metadata": {},
   "outputs": [],
   "source": [
    "df_llm['cosine'] = similarity"
   ]
  },
  {
   "cell_type": "code",
   "execution_count": 54,
   "id": "fef8c669-359b-4686-bf7b-18a351066866",
   "metadata": {},
   "outputs": [
    {
     "data": {
      "text/html": [
       "<div>\n",
       "<style scoped>\n",
       "    .dataframe tbody tr th:only-of-type {\n",
       "        vertical-align: middle;\n",
       "    }\n",
       "\n",
       "    .dataframe tbody tr th {\n",
       "        vertical-align: top;\n",
       "    }\n",
       "\n",
       "    .dataframe thead th {\n",
       "        text-align: right;\n",
       "    }\n",
       "</style>\n",
       "<table border=\"1\" class=\"dataframe\">\n",
       "  <thead>\n",
       "    <tr style=\"text-align: right;\">\n",
       "      <th></th>\n",
       "      <th>question</th>\n",
       "      <th>answer_llm</th>\n",
       "      <th>answer_org</th>\n",
       "      <th>course</th>\n",
       "      <th>document</th>\n",
       "      <th>cosine</th>\n",
       "    </tr>\n",
       "  </thead>\n",
       "  <tbody>\n",
       "    <tr>\n",
       "      <th>0</th>\n",
       "      <td>Where can I sign up for the course?</td>\n",
       "      <td>To sign up for the course, you can access the ...</td>\n",
       "      <td>Machine Learning Zoomcamp FAQ\\nThe purpose of ...</td>\n",
       "      <td>machine-learning-zoomcamp</td>\n",
       "      <td>0227b872</td>\n",
       "      <td>0.377051</td>\n",
       "    </tr>\n",
       "    <tr>\n",
       "      <th>1</th>\n",
       "      <td>Can you provide a link to sign up?</td>\n",
       "      <td>To sign up for the Machine Learning Zoomcamp, ...</td>\n",
       "      <td>Machine Learning Zoomcamp FAQ\\nThe purpose of ...</td>\n",
       "      <td>machine-learning-zoomcamp</td>\n",
       "      <td>0227b872</td>\n",
       "      <td>0.701019</td>\n",
       "    </tr>\n",
       "    <tr>\n",
       "      <th>2</th>\n",
       "      <td>Is there an FAQ for this Machine Learning course?</td>\n",
       "      <td>Based on the provided context, there does not ...</td>\n",
       "      <td>Machine Learning Zoomcamp FAQ\\nThe purpose of ...</td>\n",
       "      <td>machine-learning-zoomcamp</td>\n",
       "      <td>0227b872</td>\n",
       "      <td>0.645183</td>\n",
       "    </tr>\n",
       "    <tr>\n",
       "      <th>3</th>\n",
       "      <td>Does this course have a GitHub repository for ...</td>\n",
       "      <td>Based on the provided context, this course doe...</td>\n",
       "      <td>Machine Learning Zoomcamp FAQ\\nThe purpose of ...</td>\n",
       "      <td>machine-learning-zoomcamp</td>\n",
       "      <td>0227b872</td>\n",
       "      <td>-0.031052</td>\n",
       "    </tr>\n",
       "    <tr>\n",
       "      <th>4</th>\n",
       "      <td>How can I structure my questions and answers f...</td>\n",
       "      <td>To structure your questions and answers for th...</td>\n",
       "      <td>Machine Learning Zoomcamp FAQ\\nThe purpose of ...</td>\n",
       "      <td>machine-learning-zoomcamp</td>\n",
       "      <td>0227b872</td>\n",
       "      <td>0.364987</td>\n",
       "    </tr>\n",
       "    <tr>\n",
       "      <th>...</th>\n",
       "      <td>...</td>\n",
       "      <td>...</td>\n",
       "      <td>...</td>\n",
       "      <td>...</td>\n",
       "      <td>...</td>\n",
       "      <td>...</td>\n",
       "    </tr>\n",
       "    <tr>\n",
       "      <th>1825</th>\n",
       "      <td>What are some suggested titles for listing the...</td>\n",
       "      <td>Based on the context provided, some suggested ...</td>\n",
       "      <td>I’ve seen LinkedIn users list DataTalksClub as...</td>\n",
       "      <td>machine-learning-zoomcamp</td>\n",
       "      <td>c6a22665</td>\n",
       "      <td>0.819249</td>\n",
       "    </tr>\n",
       "    <tr>\n",
       "      <th>1826</th>\n",
       "      <td>Should I list the Machine Learning Zoomcamp ex...</td>\n",
       "      <td>Based on the provided context, it is best advi...</td>\n",
       "      <td>I’ve seen LinkedIn users list DataTalksClub as...</td>\n",
       "      <td>machine-learning-zoomcamp</td>\n",
       "      <td>c6a22665</td>\n",
       "      <td>0.771161</td>\n",
       "    </tr>\n",
       "    <tr>\n",
       "      <th>1827</th>\n",
       "      <td>In which LinkedIn sections can I incorporate m...</td>\n",
       "      <td>Based on the context provided, you can incorpo...</td>\n",
       "      <td>I’ve seen LinkedIn users list DataTalksClub as...</td>\n",
       "      <td>machine-learning-zoomcamp</td>\n",
       "      <td>c6a22665</td>\n",
       "      <td>0.622954</td>\n",
       "    </tr>\n",
       "    <tr>\n",
       "      <th>1828</th>\n",
       "      <td>Who gave advice on including a project link in...</td>\n",
       "      <td>Annaliese Bronz gave advice on including a pro...</td>\n",
       "      <td>I’ve seen LinkedIn users list DataTalksClub as...</td>\n",
       "      <td>machine-learning-zoomcamp</td>\n",
       "      <td>c6a22665</td>\n",
       "      <td>0.387650</td>\n",
       "    </tr>\n",
       "    <tr>\n",
       "      <th>1829</th>\n",
       "      <td>Who suggested showcasing progress through Link...</td>\n",
       "      <td>The question \"Who suggested showcasing progres...</td>\n",
       "      <td>I’ve seen LinkedIn users list DataTalksClub as...</td>\n",
       "      <td>machine-learning-zoomcamp</td>\n",
       "      <td>c6a22665</td>\n",
       "      <td>0.328110</td>\n",
       "    </tr>\n",
       "  </tbody>\n",
       "</table>\n",
       "<p>1830 rows × 6 columns</p>\n",
       "</div>"
      ],
      "text/plain": [
       "                                               question  \\\n",
       "0                   Where can I sign up for the course?   \n",
       "1                    Can you provide a link to sign up?   \n",
       "2     Is there an FAQ for this Machine Learning course?   \n",
       "3     Does this course have a GitHub repository for ...   \n",
       "4     How can I structure my questions and answers f...   \n",
       "...                                                 ...   \n",
       "1825  What are some suggested titles for listing the...   \n",
       "1826  Should I list the Machine Learning Zoomcamp ex...   \n",
       "1827  In which LinkedIn sections can I incorporate m...   \n",
       "1828  Who gave advice on including a project link in...   \n",
       "1829  Who suggested showcasing progress through Link...   \n",
       "\n",
       "                                             answer_llm  \\\n",
       "0     To sign up for the course, you can access the ...   \n",
       "1     To sign up for the Machine Learning Zoomcamp, ...   \n",
       "2     Based on the provided context, there does not ...   \n",
       "3     Based on the provided context, this course doe...   \n",
       "4     To structure your questions and answers for th...   \n",
       "...                                                 ...   \n",
       "1825  Based on the context provided, some suggested ...   \n",
       "1826  Based on the provided context, it is best advi...   \n",
       "1827  Based on the context provided, you can incorpo...   \n",
       "1828  Annaliese Bronz gave advice on including a pro...   \n",
       "1829  The question \"Who suggested showcasing progres...   \n",
       "\n",
       "                                             answer_org  \\\n",
       "0     Machine Learning Zoomcamp FAQ\\nThe purpose of ...   \n",
       "1     Machine Learning Zoomcamp FAQ\\nThe purpose of ...   \n",
       "2     Machine Learning Zoomcamp FAQ\\nThe purpose of ...   \n",
       "3     Machine Learning Zoomcamp FAQ\\nThe purpose of ...   \n",
       "4     Machine Learning Zoomcamp FAQ\\nThe purpose of ...   \n",
       "...                                                 ...   \n",
       "1825  I’ve seen LinkedIn users list DataTalksClub as...   \n",
       "1826  I’ve seen LinkedIn users list DataTalksClub as...   \n",
       "1827  I’ve seen LinkedIn users list DataTalksClub as...   \n",
       "1828  I’ve seen LinkedIn users list DataTalksClub as...   \n",
       "1829  I’ve seen LinkedIn users list DataTalksClub as...   \n",
       "\n",
       "                         course  document    cosine  \n",
       "0     machine-learning-zoomcamp  0227b872  0.377051  \n",
       "1     machine-learning-zoomcamp  0227b872  0.701019  \n",
       "2     machine-learning-zoomcamp  0227b872  0.645183  \n",
       "3     machine-learning-zoomcamp  0227b872 -0.031052  \n",
       "4     machine-learning-zoomcamp  0227b872  0.364987  \n",
       "...                         ...       ...       ...  \n",
       "1825  machine-learning-zoomcamp  c6a22665  0.819249  \n",
       "1826  machine-learning-zoomcamp  c6a22665  0.771161  \n",
       "1827  machine-learning-zoomcamp  c6a22665  0.622954  \n",
       "1828  machine-learning-zoomcamp  c6a22665  0.387650  \n",
       "1829  machine-learning-zoomcamp  c6a22665  0.328110  \n",
       "\n",
       "[1830 rows x 6 columns]"
      ]
     },
     "execution_count": 54,
     "metadata": {},
     "output_type": "execute_result"
    }
   ],
   "source": [
    "df_llm"
   ]
  },
  {
   "cell_type": "code",
   "execution_count": 59,
   "id": "1544d698-6e33-4bf4-a4fe-4b566942c213",
   "metadata": {},
   "outputs": [
    {
     "data": {
      "text/plain": [
       "{'question': 'Does this course have a GitHub repository for the sign-up link?',\n",
       " 'answer_llm': 'Based on the provided context, this course does have a GitHub repository where students are required to provide the URL to their repo in order to receive a grade. However, the specific sign-up link for the repository is not mentioned in the context. It is recommended to create a personal GitHub repository for the course and share the URL for it. For details on how to create and connect a GitHub repository, you can refer to the links provided in the context.',\n",
       " 'answer_org': 'Machine Learning Zoomcamp FAQ\\nThe purpose of this document is to capture frequently asked technical questions.\\nWe did this for our data engineering course and it worked quite well. Check this document for inspiration on how to structure your questions and answers:\\nData Engineering Zoomcamp FAQ\\nIn the course GitHub repository there’s a link. Here it is: https://airtable.com/shryxwLd0COOEaqXo\\nwork',\n",
       " 'course': 'machine-learning-zoomcamp',\n",
       " 'document': '0227b872',\n",
       " 'cosine': -0.0310521200299263}"
      ]
     },
     "execution_count": 59,
     "metadata": {},
     "output_type": "execute_result"
    }
   ],
   "source": [
    "# Explore the onw with (-) cosine\n",
    "df_llm.iloc[3].to_dict()"
   ]
  },
  {
   "cell_type": "code",
   "execution_count": 61,
   "id": "7ad025c7-93a2-4208-8ba0-9a1a1cadc856",
   "metadata": {},
   "outputs": [
    {
     "data": {
      "text/plain": [
       "count    1830.000000\n",
       "mean        0.646647\n",
       "std         0.216452\n",
       "min        -0.133026\n",
       "25%         0.549507\n",
       "50%         0.699501\n",
       "75%         0.799357\n",
       "max         0.970514\n",
       "Name: cosine, dtype: float64"
      ]
     },
     "execution_count": 61,
     "metadata": {},
     "output_type": "execute_result"
    }
   ],
   "source": [
    "df_llm['cosine'].describe()"
   ]
  },
  {
   "cell_type": "code",
   "execution_count": 68,
   "id": "8e2f5001-2874-42f2-9072-09492e244d6a",
   "metadata": {},
   "outputs": [],
   "source": [
    "import seaborn as sns\n",
    "import matplotlib.pyplot as plt"
   ]
  },
  {
   "cell_type": "code",
   "execution_count": 70,
   "id": "50dc3c06-5ede-44c8-924e-01df5c2ef04c",
   "metadata": {},
   "outputs": [
    {
     "name": "stderr",
     "output_type": "stream",
     "text": [
      "/tmp/ipykernel_876/1332503850.py:1: UserWarning: \n",
      "\n",
      "`distplot` is a deprecated function and will be removed in seaborn v0.14.0.\n",
      "\n",
      "Please adapt your code to use either `displot` (a figure-level function with\n",
      "similar flexibility) or `histplot` (an axes-level function for histograms).\n",
      "\n",
      "For a guide to updating your code to use the new functions, please see\n",
      "https://gist.github.com/mwaskom/de44147ed2974457ad6372750bbe5751\n",
      "\n",
      "  sns.distplot(df_llm['cosine'], label = 'mll')\n"
     ]
    },
    {
     "data": {
      "text/plain": [
       "<matplotlib.legend.Legend at 0x7243143557f0>"
      ]
     },
     "execution_count": 70,
     "metadata": {},
     "output_type": "execute_result"
    },
    {
     "data": {
      "image/png": "[encoded data removed]",
      "text/plain": [
       "<Figure size 640x480 with 1 Axes>"
      ]
     },
     "metadata": {},
     "output_type": "display_data"
    }
   ],
   "source": [
    "sns.distplot(df_llm['cosine'], label = 'mll')\n",
    "plt.legend()"
   ]
  },
  {
   "cell_type": "code",
   "execution_count": 71,
   "id": "98f48d63-b5ca-401d-a8d3-c99e0e9bf8c8",
   "metadata": {},
   "outputs": [
    {
     "data": {
      "text/plain": [
       "<matplotlib.legend.Legend at 0x724314317a40>"
      ]
     },
     "execution_count": 71,
     "metadata": {},
     "output_type": "execute_result"
    },
    {
     "data": {
      "image/png": "[encoded data removed]",
      "text/plain": [
       "<Figure size 500x500 with 1 Axes>"
      ]
     },
     "metadata": {},
     "output_type": "display_data"
    }
   ],
   "source": [
    "sns.displot(df_llm['cosine'], label = 'mll')\n",
    "plt.legend()"
   ]
  },
  {
   "cell_type": "code",
   "execution_count": null,
   "id": "b20d4191-4e22-4741-bc59-a7404e07ae59",
   "metadata": {},
   "outputs": [],
   "source": []
  }
 ],
 "metadata": {
  "kernelspec": {
   "display_name": "Python 3 (ipykernel)",
   "language": "python",
   "name": "python3"
  },
  "language_info": {
   "codemirror_mode": {
    "name": "ipython",
    "version": 3
   },
   "file_extension": ".py",
   "mimetype": "text/x-python",
   "name": "python",
   "nbconvert_exporter": "python",
   "pygments_lexer": "ipython3",
   "version": "3.12.2"
  }
 },
 "nbformat": 4,
 "nbformat_minor": 5
}
