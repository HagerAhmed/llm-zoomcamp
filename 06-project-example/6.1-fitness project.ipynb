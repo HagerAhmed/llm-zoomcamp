{
 "cells": [
  {
   "cell_type": "code",
   "execution_count": 2,
   "id": "d9076821-3194-4d4f-9088-1f8802ff8284",
   "metadata": {},
   "outputs": [],
   "source": [
    "import pandas as pd"
   ]
  },
  {
   "cell_type": "markdown",
   "id": "c4ce2191-1ac1-460e-91e0-209f9d1157ab",
   "metadata": {},
   "source": [
    "# Ingestion"
   ]
  },
  {
   "cell_type": "code",
   "execution_count": 3,
   "id": "081724ea-2b8e-4f9e-b4e9-b568bada3d23",
   "metadata": {},
   "outputs": [],
   "source": [
    "# df.columns = df.columns.str.lower().str.replace(' ', '_')"
   ]
  },
  {
   "cell_type": "code",
   "execution_count": 4,
   "id": "cd6ccc39-b96d-418c-a6ac-ee4f215f1b5d",
   "metadata": {},
   "outputs": [],
   "source": [
    "df = pd.read_csv('data.csv')"
   ]
  },
  {
   "cell_type": "code",
   "execution_count": 5,
   "id": "4d1e79f5-3480-4069-9c52-af1f6203c1e3",
   "metadata": {},
   "outputs": [
    {
     "data": {
      "text/html": [
       "<div>\n",
       "<style scoped>\n",
       "    .dataframe tbody tr th:only-of-type {\n",
       "        vertical-align: middle;\n",
       "    }\n",
       "\n",
       "    .dataframe tbody tr th {\n",
       "        vertical-align: top;\n",
       "    }\n",
       "\n",
       "    .dataframe thead th {\n",
       "        text-align: right;\n",
       "    }\n",
       "</style>\n",
       "<table border=\"1\" class=\"dataframe\">\n",
       "  <thead>\n",
       "    <tr style=\"text-align: right;\">\n",
       "      <th></th>\n",
       "      <th>id</th>\n",
       "      <th>exercise_name</th>\n",
       "      <th>type_of_activity</th>\n",
       "      <th>type_of_equipment</th>\n",
       "      <th>body_part</th>\n",
       "      <th>type</th>\n",
       "      <th>muscle_groups_activated</th>\n",
       "      <th>instructions</th>\n",
       "    </tr>\n",
       "  </thead>\n",
       "  <tbody>\n",
       "    <tr>\n",
       "      <th>0</th>\n",
       "      <td>0</td>\n",
       "      <td>Push-Ups</td>\n",
       "      <td>Strength</td>\n",
       "      <td>Bodyweight</td>\n",
       "      <td>Upper Body</td>\n",
       "      <td>Push</td>\n",
       "      <td>Pectorals, Triceps, Deltoids</td>\n",
       "      <td>Start in a high plank position with your hands...</td>\n",
       "    </tr>\n",
       "    <tr>\n",
       "      <th>1</th>\n",
       "      <td>1</td>\n",
       "      <td>Squats</td>\n",
       "      <td>Strength</td>\n",
       "      <td>Bodyweight</td>\n",
       "      <td>Lower Body</td>\n",
       "      <td>Push</td>\n",
       "      <td>Quadriceps, Glutes, Hamstrings</td>\n",
       "      <td>Stand with feet shoulder-width apart. Lower yo...</td>\n",
       "    </tr>\n",
       "    <tr>\n",
       "      <th>2</th>\n",
       "      <td>2</td>\n",
       "      <td>Plank</td>\n",
       "      <td>Strength/Mobility</td>\n",
       "      <td>Bodyweight</td>\n",
       "      <td>Core</td>\n",
       "      <td>Hold</td>\n",
       "      <td>Rectus Abdominis, Transverse Abdominis</td>\n",
       "      <td>Start in a forearm plank position with your el...</td>\n",
       "    </tr>\n",
       "    <tr>\n",
       "      <th>3</th>\n",
       "      <td>3</td>\n",
       "      <td>Deadlift</td>\n",
       "      <td>Strength</td>\n",
       "      <td>Barbell</td>\n",
       "      <td>Lower Body</td>\n",
       "      <td>Pull</td>\n",
       "      <td>Glutes, Hamstrings, Lower Back</td>\n",
       "      <td>Stand with feet hip-width apart, barbell in fr...</td>\n",
       "    </tr>\n",
       "    <tr>\n",
       "      <th>4</th>\n",
       "      <td>4</td>\n",
       "      <td>Bicep Curls</td>\n",
       "      <td>Strength</td>\n",
       "      <td>Dumbbells</td>\n",
       "      <td>Upper Body</td>\n",
       "      <td>Pull</td>\n",
       "      <td>Biceps, Forearms</td>\n",
       "      <td>Stand with a dumbbell in each hand, arms fully...</td>\n",
       "    </tr>\n",
       "    <tr>\n",
       "      <th>...</th>\n",
       "      <td>...</td>\n",
       "      <td>...</td>\n",
       "      <td>...</td>\n",
       "      <td>...</td>\n",
       "      <td>...</td>\n",
       "      <td>...</td>\n",
       "      <td>...</td>\n",
       "      <td>...</td>\n",
       "    </tr>\n",
       "    <tr>\n",
       "      <th>202</th>\n",
       "      <td>202</td>\n",
       "      <td>Incline Dumbbell Row</td>\n",
       "      <td>Strength</td>\n",
       "      <td>Dumbbells</td>\n",
       "      <td>Upper Body</td>\n",
       "      <td>Pull</td>\n",
       "      <td>Latissimus Dorsi, Biceps</td>\n",
       "      <td>Lie face down on an incline bench with a dumbb...</td>\n",
       "    </tr>\n",
       "    <tr>\n",
       "      <th>203</th>\n",
       "      <td>203</td>\n",
       "      <td>Machine Lat Pulldown</td>\n",
       "      <td>Strength</td>\n",
       "      <td>Machine</td>\n",
       "      <td>Upper Body</td>\n",
       "      <td>Pull</td>\n",
       "      <td>Latissimus Dorsi, Biceps</td>\n",
       "      <td>Sit at a lat pulldown machine with a wide grip...</td>\n",
       "    </tr>\n",
       "    <tr>\n",
       "      <th>204</th>\n",
       "      <td>204</td>\n",
       "      <td>One-Arm Cable Row</td>\n",
       "      <td>Strength</td>\n",
       "      <td>Cable Machine</td>\n",
       "      <td>Upper Body</td>\n",
       "      <td>Pull</td>\n",
       "      <td>Latissimus Dorsi, Biceps</td>\n",
       "      <td>Stand facing a cable machine with the handle a...</td>\n",
       "    </tr>\n",
       "    <tr>\n",
       "      <th>205</th>\n",
       "      <td>205</td>\n",
       "      <td>Face Pull</td>\n",
       "      <td>Strength</td>\n",
       "      <td>Cable Machine</td>\n",
       "      <td>Upper Body</td>\n",
       "      <td>Pull</td>\n",
       "      <td>Rear Deltoids, Trapezius, Rhomboids</td>\n",
       "      <td>Attach a rope handle to a high cable pulley. P...</td>\n",
       "    </tr>\n",
       "    <tr>\n",
       "      <th>206</th>\n",
       "      <td>206</td>\n",
       "      <td>Dumbbell Bench Press</td>\n",
       "      <td>Strength</td>\n",
       "      <td>Dumbbells</td>\n",
       "      <td>Upper Body</td>\n",
       "      <td>Push</td>\n",
       "      <td>Pectorals, Triceps, Deltoids</td>\n",
       "      <td>Lie on a bench with a dumbbell in each hand. P...</td>\n",
       "    </tr>\n",
       "  </tbody>\n",
       "</table>\n",
       "<p>207 rows × 8 columns</p>\n",
       "</div>"
      ],
      "text/plain": [
       "      id         exercise_name   type_of_activity type_of_equipment  \\\n",
       "0      0              Push-Ups           Strength        Bodyweight   \n",
       "1      1                Squats           Strength        Bodyweight   \n",
       "2      2                 Plank  Strength/Mobility        Bodyweight   \n",
       "3      3              Deadlift           Strength           Barbell   \n",
       "4      4           Bicep Curls           Strength         Dumbbells   \n",
       "..   ...                   ...                ...               ...   \n",
       "202  202  Incline Dumbbell Row           Strength         Dumbbells   \n",
       "203  203  Machine Lat Pulldown           Strength           Machine   \n",
       "204  204     One-Arm Cable Row           Strength     Cable Machine   \n",
       "205  205             Face Pull           Strength     Cable Machine   \n",
       "206  206  Dumbbell Bench Press           Strength         Dumbbells   \n",
       "\n",
       "      body_part  type                 muscle_groups_activated  \\\n",
       "0    Upper Body  Push            Pectorals, Triceps, Deltoids   \n",
       "1    Lower Body  Push          Quadriceps, Glutes, Hamstrings   \n",
       "2          Core  Hold  Rectus Abdominis, Transverse Abdominis   \n",
       "3    Lower Body  Pull          Glutes, Hamstrings, Lower Back   \n",
       "4    Upper Body  Pull                        Biceps, Forearms   \n",
       "..          ...   ...                                     ...   \n",
       "202  Upper Body  Pull                Latissimus Dorsi, Biceps   \n",
       "203  Upper Body  Pull                Latissimus Dorsi, Biceps   \n",
       "204  Upper Body  Pull                Latissimus Dorsi, Biceps   \n",
       "205  Upper Body  Pull     Rear Deltoids, Trapezius, Rhomboids   \n",
       "206  Upper Body  Push            Pectorals, Triceps, Deltoids   \n",
       "\n",
       "                                          instructions  \n",
       "0    Start in a high plank position with your hands...  \n",
       "1    Stand with feet shoulder-width apart. Lower yo...  \n",
       "2    Start in a forearm plank position with your el...  \n",
       "3    Stand with feet hip-width apart, barbell in fr...  \n",
       "4    Stand with a dumbbell in each hand, arms fully...  \n",
       "..                                                 ...  \n",
       "202  Lie face down on an incline bench with a dumbb...  \n",
       "203  Sit at a lat pulldown machine with a wide grip...  \n",
       "204  Stand facing a cable machine with the handle a...  \n",
       "205  Attach a rope handle to a high cable pulley. P...  \n",
       "206  Lie on a bench with a dumbbell in each hand. P...  \n",
       "\n",
       "[207 rows x 8 columns]"
      ]
     },
     "execution_count": 5,
     "metadata": {},
     "output_type": "execute_result"
    }
   ],
   "source": [
    "df"
   ]
  },
  {
   "cell_type": "code",
   "execution_count": 6,
   "id": "6ddb5123-1ea5-4df6-abd3-eaa0fbd8418f",
   "metadata": {},
   "outputs": [
    {
     "name": "stdout",
     "output_type": "stream",
     "text": [
      "--2025-09-09 09:07:02--  https://raw.githubusercontent.com/alexeygrigorev/minsearch/main/minsearch.py\n",
      "Resolving raw.githubusercontent.com (raw.githubusercontent.com)... 185.199.109.133, 185.199.110.133, 185.199.111.133, ...\n",
      "Connecting to raw.githubusercontent.com (raw.githubusercontent.com)|185.199.109.133|:443... connected.\n",
      "HTTP request sent, awaiting response... 200 OK\n",
      "Length: 4273 (4.2K) [text/plain]\n",
      "Saving to: ‘minsearch.py.3’\n",
      "\n",
      "minsearch.py.3      100%[===================>]   4.17K  --.-KB/s    in 0.005s  \n",
      "\n",
      "2025-09-09 09:07:02 (895 KB/s) - ‘minsearch.py.3’ saved [4273/4273]\n",
      "\n"
     ]
    }
   ],
   "source": [
    "!wget https://raw.githubusercontent.com/alexeygrigorev/minsearch/main/minsearch.py --no-check-certificate"
   ]
  },
  {
   "cell_type": "code",
   "execution_count": 7,
   "id": "3347f921-fb1a-4522-a9e2-4ff33dadda23",
   "metadata": {},
   "outputs": [
    {
     "name": "stderr",
     "output_type": "stream",
     "text": [
      "/mnt/d/backup/llm-zoomcamp/06-project-example/minsearch.py:10: UserWarning: Now minsearch is installable via pip: 'pip install minsearch'. Remove the downloaded file and re-install it with pip.\n",
      "  warnings.warn(\n"
     ]
    }
   ],
   "source": [
    "import minsearch"
   ]
  },
  {
   "cell_type": "code",
   "execution_count": 8,
   "id": "3d1cc9bc-718b-4f66-8425-b084a620535b",
   "metadata": {},
   "outputs": [
    {
     "data": {
      "text/plain": [
       "Index(['id', 'exercise_name', 'type_of_activity', 'type_of_equipment',\n",
       "       'body_part', 'type', 'muscle_groups_activated', 'instructions'],\n",
       "      dtype='object')"
      ]
     },
     "execution_count": 8,
     "metadata": {},
     "output_type": "execute_result"
    }
   ],
   "source": [
    "df.columns"
   ]
  },
  {
   "cell_type": "code",
   "execution_count": 9,
   "id": "fd607f93-d28a-4340-b026-1eca505dee10",
   "metadata": {},
   "outputs": [],
   "source": [
    "documents = df.to_dict(orient='records')"
   ]
  },
  {
   "cell_type": "code",
   "execution_count": 10,
   "id": "0e77a16b-3480-418e-86ea-598424085568",
   "metadata": {},
   "outputs": [
    {
     "data": {
      "text/plain": [
       "{'id': 15,\n",
       " 'exercise_name': 'Tricep Dips',\n",
       " 'type_of_activity': 'Strength',\n",
       " 'type_of_equipment': 'Bodyweight',\n",
       " 'body_part': 'Upper Body',\n",
       " 'type': 'Push',\n",
       " 'muscle_groups_activated': 'Triceps, Deltoids',\n",
       " 'instructions': 'Place your hands behind you on a bench or chair. Lower your body by bending your elbows, then push back up to the starting position.'}"
      ]
     },
     "execution_count": 10,
     "metadata": {},
     "output_type": "execute_result"
    }
   ],
   "source": [
    "documents[15]"
   ]
  },
  {
   "cell_type": "code",
   "execution_count": 11,
   "id": "93832594-0c01-47ce-9db2-a3233457c72c",
   "metadata": {},
   "outputs": [],
   "source": [
    "index = minsearch.Index(\n",
    "    text_fields=['exercise_name', 'type_of_activity', 'type_of_equipment',\n",
    "       'body_part', 'type', 'muscle_groups_activated', 'instructions'],\n",
    "    keyword_fields=['id']\n",
    ")"
   ]
  },
  {
   "cell_type": "code",
   "execution_count": 12,
   "id": "196e7807-ee2d-45bc-901c-ba6b43f6d1ee",
   "metadata": {},
   "outputs": [
    {
     "data": {
      "text/plain": [
       "<minsearch.Index at 0x73bbba48c920>"
      ]
     },
     "execution_count": 12,
     "metadata": {},
     "output_type": "execute_result"
    }
   ],
   "source": [
    "index.fit(documents)"
   ]
  },
  {
   "cell_type": "code",
   "execution_count": 13,
   "id": "2c6f268b-e661-40b6-b6f7-30b7e024dded",
   "metadata": {},
   "outputs": [],
   "source": [
    "query = \"give me leg exercises for hamstrings\""
   ]
  },
  {
   "cell_type": "code",
   "execution_count": 14,
   "id": "7506f966-9383-433e-a25f-5da3a33be8ab",
   "metadata": {},
   "outputs": [
    {
     "data": {
      "text/plain": [
       "[{'id': 118,\n",
       "  'exercise_name': 'Leg Curl',\n",
       "  'type_of_activity': 'Strength',\n",
       "  'type_of_equipment': 'Machine',\n",
       "  'body_part': 'Lower Body',\n",
       "  'type': 'Pull',\n",
       "  'muscle_groups_activated': 'Hamstrings',\n",
       "  'instructions': 'Lie face down on a leg curl machine and curl the pad towards your glutes, then return to the starting position.'},\n",
       " {'id': 95,\n",
       "  'exercise_name': 'Machine Leg Curl',\n",
       "  'type_of_activity': 'Strength',\n",
       "  'type_of_equipment': 'Machine',\n",
       "  'body_part': 'Lower Body',\n",
       "  'type': 'Pull',\n",
       "  'muscle_groups_activated': 'Hamstrings',\n",
       "  'instructions': 'Sit on a leg curl machine and curl the pad down towards your glutes, then return to the starting position.'},\n",
       " {'id': 109,\n",
       "  'exercise_name': 'Seated Leg Curl',\n",
       "  'type_of_activity': 'Strength',\n",
       "  'type_of_equipment': 'Machine',\n",
       "  'body_part': 'Lower Body',\n",
       "  'type': 'Pull',\n",
       "  'muscle_groups_activated': 'Hamstrings',\n",
       "  'instructions': 'Sit on a leg curl machine and curl the pad down towards your glutes, then return to the starting position.'},\n",
       " {'id': 140,\n",
       "  'exercise_name': 'Lying Leg Curl',\n",
       "  'type_of_activity': 'Strength',\n",
       "  'type_of_equipment': 'Machine',\n",
       "  'body_part': 'Lower Body',\n",
       "  'type': 'Pull',\n",
       "  'muscle_groups_activated': 'Hamstrings',\n",
       "  'instructions': 'Lie face down on a leg curl machine and curl the pad towards your glutes, then return to the starting position.'},\n",
       " {'id': 164,\n",
       "  'exercise_name': 'Prone Leg Curl',\n",
       "  'type_of_activity': 'Strength',\n",
       "  'type_of_equipment': 'Machine',\n",
       "  'body_part': 'Lower Body',\n",
       "  'type': 'Pull',\n",
       "  'muscle_groups_activated': 'Hamstrings',\n",
       "  'instructions': 'Lie face down on a leg curl machine and curl the pad towards your glutes, then return to the starting position.'},\n",
       " {'id': 38,\n",
       "  'exercise_name': 'Leg Press',\n",
       "  'type_of_activity': 'Strength',\n",
       "  'type_of_equipment': 'Machine',\n",
       "  'body_part': 'Lower Body',\n",
       "  'type': 'Push',\n",
       "  'muscle_groups_activated': 'Quadriceps, Glutes, Hamstrings',\n",
       "  'instructions': 'Sit on a leg press machine with your feet shoulder-width apart on the platform. Push the platform away by extending your legs.'},\n",
       " {'id': 157,\n",
       "  'exercise_name': 'Single-Leg Squat',\n",
       "  'type_of_activity': 'Strength',\n",
       "  'type_of_equipment': 'Bodyweight',\n",
       "  'body_part': 'Lower Body',\n",
       "  'type': 'Push',\n",
       "  'muscle_groups_activated': 'Quadriceps, Glutes, Hamstrings',\n",
       "  'instructions': 'Stand on one leg with the other leg extended in front of you. Lower your hips until your thigh is parallel to the floor, then push back up.'},\n",
       " {'id': 93,\n",
       "  'exercise_name': 'Single-Leg Glute Bridge',\n",
       "  'type_of_activity': 'Strength',\n",
       "  'type_of_equipment': 'Bodyweight',\n",
       "  'body_part': 'Lower Body',\n",
       "  'type': 'Push',\n",
       "  'muscle_groups_activated': 'Glutes, Hamstrings',\n",
       "  'instructions': 'Lie on your back with one foot on the ground and the other leg extended. Lift your hips towards the ceiling.'},\n",
       " {'id': 8,\n",
       "  'exercise_name': 'Hamstring Stretch',\n",
       "  'type_of_activity': 'Mobility',\n",
       "  'type_of_equipment': 'Bodyweight',\n",
       "  'body_part': 'Lower Body',\n",
       "  'type': 'Stretch',\n",
       "  'muscle_groups_activated': 'Hamstrings',\n",
       "  'instructions': 'Stand upright and place one heel on a bench or step. Lean forward slightly to feel a stretch in the hamstring of the elevated leg.'},\n",
       " {'id': 40,\n",
       "  'exercise_name': 'Single-Leg Deadlift',\n",
       "  'type_of_activity': 'Strength',\n",
       "  'type_of_equipment': 'Dumbbells',\n",
       "  'body_part': 'Lower Body',\n",
       "  'type': 'Pull',\n",
       "  'muscle_groups_activated': 'Hamstrings, Glutes, Lower Back',\n",
       "  'instructions': 'Stand on one leg, holding a dumbbell in the opposite hand. Bend at the hips to lower the weight while extending the free leg behind you.'}]"
      ]
     },
     "execution_count": 14,
     "metadata": {},
     "output_type": "execute_result"
    }
   ],
   "source": [
    "index.search(query, num_results=10)"
   ]
  },
  {
   "cell_type": "markdown",
   "id": "226a314c-f5a1-49a8-bd02-bbfc7659c4d3",
   "metadata": {},
   "source": [
    "# RAG Flow"
   ]
  },
  {
   "cell_type": "code",
   "execution_count": 15,
   "id": "78171509-c8fa-4153-b0f3-e3d02a4b53e3",
   "metadata": {},
   "outputs": [],
   "source": [
    "from mistralai import Mistral\n",
    "from mistralai.models import UserMessage\n",
    "import os\n",
    "from dotenv import load_dotenv\n"
   ]
  },
  {
   "cell_type": "code",
   "execution_count": 16,
   "id": "7c3f3210-44ba-4109-a993-6edf285cd981",
   "metadata": {},
   "outputs": [
    {
     "data": {
      "text/plain": [
       "True"
      ]
     },
     "execution_count": 16,
     "metadata": {},
     "output_type": "execute_result"
    }
   ],
   "source": [
    "# loads variables from .env\n",
    "load_dotenv()  "
   ]
  },
  {
   "cell_type": "code",
   "execution_count": 17,
   "id": "ffd67c2b-b335-4075-9c3e-07b23b87b589",
   "metadata": {},
   "outputs": [],
   "source": [
    "api_key = os.getenv(\"API_KEY\")"
   ]
  },
  {
   "cell_type": "code",
   "execution_count": 18,
   "id": "62436307-b1c1-4a65-9962-1e698f9ed067",
   "metadata": {},
   "outputs": [
    {
     "name": "stdout",
     "output_type": "stream",
     "text": [
      "Certainly! Strengthening your hamstrings is crucial for overall leg strength, stability, and injury prevention. Here are some effective exercises specifically targeting the hamstrings:\n",
      "\n",
      "### 1. **Deadlifts**\n",
      "- **How to do it:** Stand with your feet hip-width apart. Hold a barbell or dumbbells in front of your thighs with an overhand grip. Keeping your back straight, hinge at your hips and slightly bend your knees to lower the weight toward the ground. Push through your heels to stand back up.\n",
      "- **Benefits:** Works the entire posterior chain, including the hamstrings, glutes, and lower back.\n",
      "\n",
      "### 2. **Leg Curls**\n",
      "- **How to do it:** Lie face down on a leg curl machine. Adjust the pad to rest just above your ankles. Slowly bend your knees to bring your heels toward your glutes, then slowly return to the starting position.\n",
      "- **Benefits:** Isolates the hamstrings.\n",
      "\n",
      "### 3. **Good Mornings**\n",
      "- **How to do it:** Stand with your feet shoulder-width apart, holding a barbell across your shoulders. Keeping your back straight, hinge at your hips and bend forward until your torso is parallel to the ground. Push through your heels to stand back up.\n",
      "- **Benefits:** Targets the hamstrings, glutes, and lower back.\n",
      "\n",
      "### 4. **Romanian Deadlifts**\n",
      "- **How to do it:** Stand with your feet hip-width apart, holding a barbell or dumbbells in front of your thighs. Keeping your back straight, hinge at your hips and lower the weight while keeping it close to your legs. Push through your heels to stand back up.\n",
      "- **Benefits:** Focuses on the hamstrings and glutes.\n",
      "\n",
      "### 5. **Swiss Ball Hamstring Curls**\n",
      "- **How to do it:** Lie on your back with your heels on a Swiss ball. Keeping your hips lifted, bend your knees to roll the ball toward your glutes, then straighten your legs to roll the ball back to the starting position.\n",
      "- **Benefits:** Challenges the hamstrings and engages the core for stability.\n",
      "\n",
      "### 6. **Glute Ham Raises**\n",
      "- **How to do it:** Use a glute-ham machine. Lie face down with your ankles secured under the roller pads. Keeping your body straight, lower your torso toward the ground, then use your hamstrings to pull yourself back up.\n",
      "- **Benefits:** Isolates the hamstrings and glutes.\n",
      "\n",
      "### 7. **Nordic Hamstring Curls**\n",
      "- **How to do it:** Kneel on a mat with your ankles secured by a partner or weight. Slowly lower your torso toward the ground, using your hamstrings to control the descent. Use your arms to push back up to the starting position.\n",
      "- **Benefits:** Highly effective for hamstring strength and eccentric loading.\n",
      "\n",
      "### 8. **Single-Leg Deadlifts**\n",
      "- **How to do it:** Stand on one leg, holding a dumbbell in the opposite hand. Keeping your back straight, hinge at your hip and lower the dumbbell toward the ground while extending your free leg behind you. Push through your heel to stand back up.\n",
      "- **Benefits:** Targets the hamstrings, glutes, and core while improving balance.\n",
      "\n",
      "### 9. **Kettlebell Swings**\n",
      "- **How to do it:** Stand with your feet shoulder-width apart, holding a kettlebell with both hands. Hinge at your hips and swing the kettlebell between your legs, then explosively stand up, using your hips and legs to swing the kettlebell to shoulder height.\n",
      "- **Benefits:** Dynamic exercise that targets the hamstrings, glutes, and core.\n",
      "\n",
      "### 10. **Sliding Leg Curls**\n",
      "- **How to do it:** Lie on your back with your heels on sliding discs or towels (on a smooth surface). Keeping your hips lifted, slide your heels away from your glutes, then pull them back in.\n",
      "- **Benefits:** Challenges the hamstrings and engages the core.\n",
      "\n",
      "### Tips for Effective Hamstring Training:\n",
      "- **Warm-Up:** Always start with a warm-up to prepare your muscles for exercise.\n",
      "- **Form:** Maintain proper form to avoid injury and maximize effectiveness.\n",
      "- **Progression:** Gradually increase weight or resistance as you get stronger.\n",
      "- **Stretching:** Include hamstring stretches to improve flexibility and reduce the risk of injury.\n",
      "\n",
      "By incorporating these exercises into your routine, you'll effectively target and strengthen your hamstrings.\n"
     ]
    }
   ],
   "source": [
    "client = Mistral(api_key = api_key)\n",
    "response = client.chat.complete(\n",
    "    model= \"mistral-large-2411\",\n",
    "    messages=[UserMessage(content=query)],\n",
    ")\n",
    "\n",
    "\n",
    "print(response.choices[0].message.content)"
   ]
  },
  {
   "cell_type": "markdown",
   "id": "2f452dea-a022-4516-8206-86be784ba9d1",
   "metadata": {},
   "source": [
    "## RAG flow\n"
   ]
  },
  {
   "cell_type": "code",
   "execution_count": 19,
   "id": "542bce80-4ce6-4be0-8f23-af132d11a659",
   "metadata": {},
   "outputs": [],
   "source": [
    "def search(query):\n",
    "    boost = {}\n",
    "\n",
    "    results = index.search(\n",
    "        query=query,\n",
    "        filter_dict={},\n",
    "        boost_dict=boost,\n",
    "        num_results=10\n",
    "    )\n",
    "\n",
    "    return results"
   ]
  },
  {
   "cell_type": "code",
   "execution_count": 20,
   "id": "fe9b2c53-1813-4856-a86c-d627ca7a08d4",
   "metadata": {},
   "outputs": [],
   "source": [
    "prompt_template = \"\"\"\n",
    "You're a fitness insrtuctor. Answer the QUESTION based on the CONTEXT from our exercises database.\n",
    "Use only the facts from the CONTEXT when answering the QUESTION.\n",
    "\n",
    "QUESTION: {question}\n",
    "\n",
    "CONTEXT:\n",
    "{context}\n",
    "\"\"\".strip()\n",
    "\n",
    "entry_template = \"\"\"\n",
    "exercise_name: {exercise_name}\n",
    "type_of_activity: {type_of_activity}\n",
    "type_of_equipment: {type_of_equipment}\n",
    "body_part: {body_part}\n",
    "type: {type}\n",
    "muscle_groups_activated: {muscle_groups_activated}\n",
    "instructions: {instructions}\n",
    "\"\"\".strip()\n",
    "\n",
    "def build_prompt(query, search_results):\n",
    "    context = \"\"\n",
    "    \n",
    "    for doc in search_results:\n",
    "        context = context + entry_template.format(**doc) + \"\\n\\n\"\n",
    "\n",
    "    prompt = prompt_template.format(question=query, context=context).strip()\n",
    "    return prompt"
   ]
  },
  {
   "cell_type": "code",
   "execution_count": 21,
   "id": "6f77b8a9-2f00-4e68-8626-c693d13e1760",
   "metadata": {},
   "outputs": [],
   "source": [
    "search_results = search(query)\n",
    "prompt = build_prompt(query, search_results)"
   ]
  },
  {
   "cell_type": "code",
   "execution_count": 22,
   "id": "310dc891-daad-4395-9de1-70090a73614d",
   "metadata": {},
   "outputs": [
    {
     "name": "stdout",
     "output_type": "stream",
     "text": [
      "You're a fitness insrtuctor. Answer the QUESTION based on the CONTEXT from our exercises database.\n",
      "Use only the facts from the CONTEXT when answering the QUESTION.\n",
      "\n",
      "QUESTION: give me leg exercises for hamstrings\n",
      "\n",
      "CONTEXT:\n",
      "exercise_name: Leg Curl\n",
      "type_of_activity: Strength\n",
      "type_of_equipment: Machine\n",
      "body_part: Lower Body\n",
      "type: Pull\n",
      "muscle_groups_activated: Hamstrings\n",
      "instructions: Lie face down on a leg curl machine and curl the pad towards your glutes, then return to the starting position.\n",
      "\n",
      "exercise_name: Machine Leg Curl\n",
      "type_of_activity: Strength\n",
      "type_of_equipment: Machine\n",
      "body_part: Lower Body\n",
      "type: Pull\n",
      "muscle_groups_activated: Hamstrings\n",
      "instructions: Sit on a leg curl machine and curl the pad down towards your glutes, then return to the starting position.\n",
      "\n",
      "exercise_name: Seated Leg Curl\n",
      "type_of_activity: Strength\n",
      "type_of_equipment: Machine\n",
      "body_part: Lower Body\n",
      "type: Pull\n",
      "muscle_groups_activated: Hamstrings\n",
      "instructions: Sit on a leg curl machine and curl the pad down towards your glutes, then return to the starting position.\n",
      "\n",
      "exercise_name: Lying Leg Curl\n",
      "type_of_activity: Strength\n",
      "type_of_equipment: Machine\n",
      "body_part: Lower Body\n",
      "type: Pull\n",
      "muscle_groups_activated: Hamstrings\n",
      "instructions: Lie face down on a leg curl machine and curl the pad towards your glutes, then return to the starting position.\n",
      "\n",
      "exercise_name: Prone Leg Curl\n",
      "type_of_activity: Strength\n",
      "type_of_equipment: Machine\n",
      "body_part: Lower Body\n",
      "type: Pull\n",
      "muscle_groups_activated: Hamstrings\n",
      "instructions: Lie face down on a leg curl machine and curl the pad towards your glutes, then return to the starting position.\n",
      "\n",
      "exercise_name: Leg Press\n",
      "type_of_activity: Strength\n",
      "type_of_equipment: Machine\n",
      "body_part: Lower Body\n",
      "type: Push\n",
      "muscle_groups_activated: Quadriceps, Glutes, Hamstrings\n",
      "instructions: Sit on a leg press machine with your feet shoulder-width apart on the platform. Push the platform away by extending your legs.\n",
      "\n",
      "exercise_name: Single-Leg Squat\n",
      "type_of_activity: Strength\n",
      "type_of_equipment: Bodyweight\n",
      "body_part: Lower Body\n",
      "type: Push\n",
      "muscle_groups_activated: Quadriceps, Glutes, Hamstrings\n",
      "instructions: Stand on one leg with the other leg extended in front of you. Lower your hips until your thigh is parallel to the floor, then push back up.\n",
      "\n",
      "exercise_name: Single-Leg Glute Bridge\n",
      "type_of_activity: Strength\n",
      "type_of_equipment: Bodyweight\n",
      "body_part: Lower Body\n",
      "type: Push\n",
      "muscle_groups_activated: Glutes, Hamstrings\n",
      "instructions: Lie on your back with one foot on the ground and the other leg extended. Lift your hips towards the ceiling.\n",
      "\n",
      "exercise_name: Hamstring Stretch\n",
      "type_of_activity: Mobility\n",
      "type_of_equipment: Bodyweight\n",
      "body_part: Lower Body\n",
      "type: Stretch\n",
      "muscle_groups_activated: Hamstrings\n",
      "instructions: Stand upright and place one heel on a bench or step. Lean forward slightly to feel a stretch in the hamstring of the elevated leg.\n",
      "\n",
      "exercise_name: Single-Leg Deadlift\n",
      "type_of_activity: Strength\n",
      "type_of_equipment: Dumbbells\n",
      "body_part: Lower Body\n",
      "type: Pull\n",
      "muscle_groups_activated: Hamstrings, Glutes, Lower Back\n",
      "instructions: Stand on one leg, holding a dumbbell in the opposite hand. Bend at the hips to lower the weight while extending the free leg behind you.\n"
     ]
    }
   ],
   "source": [
    "print(prompt)"
   ]
  },
  {
   "cell_type": "code",
   "execution_count": 23,
   "id": "11b92e00-0573-4e00-8349-828a1d5e86b8",
   "metadata": {},
   "outputs": [],
   "source": [
    "def llm(prompt, model='mistral-large-2411'):\n",
    "    client = Mistral(api_key = api_key)\n",
    "    response = client.chat.complete(\n",
    "        model= model,\n",
    "        messages=[UserMessage(content=prompt)],\n",
    "    )    \n",
    "    return response.choices[0].message.content"
   ]
  },
  {
   "cell_type": "code",
   "execution_count": 24,
   "id": "7e129468-5548-4272-98be-866c0169b10d",
   "metadata": {},
   "outputs": [],
   "source": [
    "def rag(query):\n",
    "    search_results = search(query)\n",
    "    prompt = build_prompt(query, search_results)\n",
    "    answer = llm(prompt)\n",
    "    return answer\n",
    "\n"
   ]
  },
  {
   "cell_type": "code",
   "execution_count": 25,
   "id": "3e64f1a1-947d-4ed0-a57b-a8f4fc3b226b",
   "metadata": {},
   "outputs": [
    {
     "name": "stdout",
     "output_type": "stream",
     "text": [
      "Based on the CONTEXT, here are some leg exercises that target the hamstrings:\n",
      "\n",
      "1. **Leg Curl**\n",
      "   - Lie face down on a leg curl machine and curl the pad towards your glutes, then return to the starting position.\n",
      "\n",
      "2. **Machine Leg Curl**\n",
      "   - Sit on a leg curl machine and curl the pad down towards your glutes, then return to the starting position.\n",
      "\n",
      "3. **Seated Leg Curl**\n",
      "   - Sit on a leg curl machine and curl the pad down towards your glutes, then return to the starting position.\n",
      "\n",
      "4. **Lying Leg Curl**\n",
      "   - Lie face down on a leg curl machine and curl the pad towards your glutes, then return to the starting position.\n",
      "\n",
      "5. **Prone Leg Curl**\n",
      "   - Lie face down on a leg curl machine and curl the pad towards your glutes, then return to the starting position.\n",
      "\n",
      "6. **Single-Leg Deadlift**\n",
      "   - Stand on one leg, holding a dumbbell in the opposite hand. Bend at the hips to lower the weight while extending the free leg behind you.\n",
      "\n",
      "7. **Single-Leg Glute Bridge**\n",
      "   - Lie on your back with one foot on the ground and the other leg extended. Lift your hips towards the ceiling.\n",
      "\n",
      "These exercises are specifically mentioned in the context and target the hamstrings.\n"
     ]
    }
   ],
   "source": [
    "# question = 'Is the Lat Pulldown considered a strength training activity, and if so, why?'\n",
    "answer = rag(query)\n",
    "print(answer)"
   ]
  },
  {
   "cell_type": "code",
   "execution_count": 26,
   "id": "3ffdaf5d-63d7-4d86-b5e1-0e3d5d401c89",
   "metadata": {},
   "outputs": [
    {
     "name": "stdout",
     "output_type": "stream",
     "text": [
      "Based on the CONTEXT, the core exercises that also help your back are:\n",
      "\n",
      "1. **Superman Exercise**: This exercise activates the Lower Back, Glutes, and Hamstrings. It involves lying face down and lifting your arms, chest, and legs off the ground simultaneously.\n",
      "\n",
      "2. **Machine Back Extension**: This exercise targets the Lower Back, Glutes, and Hamstrings. It involves sitting on a back extension machine and extending your hips to lift your torso.\n"
     ]
    }
   ],
   "source": [
    "# Ask another question \n",
    "answer = rag('I want some core exercises that also help my back')\n",
    "print(answer)"
   ]
  },
  {
   "cell_type": "markdown",
   "id": "4f677eeb-ec7d-4a6e-8a94-b495a0aae5d9",
   "metadata": {},
   "source": [
    "# Retrieval Evaluation"
   ]
  },
  {
   "cell_type": "code",
   "execution_count": null,
   "id": "328b876f-6bdf-47b3-ba43-6071ce6bc190",
   "metadata": {},
   "outputs": [],
   "source": []
  },
  {
   "cell_type": "code",
   "execution_count": null,
   "id": "e6c60642-065e-4ffa-b42a-291af6b310c9",
   "metadata": {},
   "outputs": [],
   "source": []
  },
  {
   "cell_type": "code",
   "execution_count": null,
   "id": "e2b2c0bf-c588-471a-9426-ca94499999e4",
   "metadata": {},
   "outputs": [],
   "source": []
  },
  {
   "cell_type": "code",
   "execution_count": null,
   "id": "26cd961d-15d6-4914-95f8-af0ce9dd8d94",
   "metadata": {},
   "outputs": [],
   "source": []
  }
 ],
 "metadata": {
  "kernelspec": {
   "display_name": "Python 3 (ipykernel)",
   "language": "python",
   "name": "python3"
  },
  "language_info": {
   "codemirror_mode": {
    "name": "ipython",
    "version": 3
   },
   "file_extension": ".py",
   "mimetype": "text/x-python",
   "name": "python",
   "nbconvert_exporter": "python",
   "pygments_lexer": "ipython3",
   "version": "3.12.2"
  }
 },
 "nbformat": 4,
 "nbformat_minor": 5
}
