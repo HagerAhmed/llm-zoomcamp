{
 "cells": [
  {
   "cell_type": "code",
   "execution_count": 1,
   "id": "d9076821-3194-4d4f-9088-1f8802ff8284",
   "metadata": {},
   "outputs": [
    {
     "name": "stderr",
     "output_type": "stream",
     "text": [
      "/mnt/d/backup/llm-zoomcamp/06-project-example/minsearch.py:10: UserWarning: Now minsearch is installable via pip: 'pip install minsearch'. Remove the downloaded file and re-install it with pip.\n",
      "  warnings.warn(\n"
     ]
    }
   ],
   "source": [
    "import pandas as pd\n",
    "import minsearch"
   ]
  },
  {
   "cell_type": "code",
   "execution_count": 2,
   "id": "5fe2b45f-3869-4098-b77f-b255b23275db",
   "metadata": {},
   "outputs": [],
   "source": [
    "import os\n",
    "os.environ[\"SSL_CERT_FILE\"] = \"Fortinet_CA_SSL(15).cer\""
   ]
  },
  {
   "cell_type": "code",
   "execution_count": 3,
   "id": "cd6ccc39-b96d-418c-a6ac-ee4f215f1b5d",
   "metadata": {},
   "outputs": [],
   "source": [
    "df = pd.read_csv('data.csv')"
   ]
  },
  {
   "cell_type": "code",
   "execution_count": 4,
   "id": "3347f921-fb1a-4522-a9e2-4ff33dadda23",
   "metadata": {},
   "outputs": [],
   "source": [
    "documents = df.to_dict(orient='records')"
   ]
  },
  {
   "cell_type": "code",
   "execution_count": 5,
   "id": "4d1e79f5-3480-4069-9c52-af1f6203c1e3",
   "metadata": {},
   "outputs": [
    {
     "data": {
      "text/plain": [
       "{'id': 40,\n",
       " 'exercise_name': 'Single-Leg Deadlift',\n",
       " 'type_of_activity': 'Strength',\n",
       " 'type_of_equipment': 'Dumbbells',\n",
       " 'body_part': 'Lower Body',\n",
       " 'type': 'Pull',\n",
       " 'muscle_groups_activated': 'Hamstrings, Glutes, Lower Back',\n",
       " 'instructions': 'Stand on one leg, holding a dumbbell in the opposite hand. Bend at the hips to lower the weight while extending the free leg behind you.'}"
      ]
     },
     "execution_count": 5,
     "metadata": {},
     "output_type": "execute_result"
    }
   ],
   "source": [
    "documents[40]"
   ]
  },
  {
   "cell_type": "code",
   "execution_count": 6,
   "id": "ab9b0058-d921-47b2-9ceb-e8985240f4ef",
   "metadata": {},
   "outputs": [],
   "source": [
    "index = minsearch.Index(\n",
    "    text_fields=['exercise_name', 'type_of_activity', 'type_of_equipment', 'body_part',\n",
    "       'type', 'muscle_groups_activated', 'instructions'],\n",
    "    keyword_fields=['id']\n",
    ")"
   ]
  },
  {
   "cell_type": "code",
   "execution_count": 7,
   "id": "5ea72636-3587-42c4-8440-ff26a138ab9e",
   "metadata": {},
   "outputs": [
    {
     "data": {
      "text/plain": [
       "<minsearch.Index at 0x79a8f4bc4440>"
      ]
     },
     "execution_count": 7,
     "metadata": {},
     "output_type": "execute_result"
    }
   ],
   "source": [
    "index.fit(documents)"
   ]
  },
  {
   "cell_type": "code",
   "execution_count": 8,
   "id": "70924b11-efa5-4a3a-a507-89a8076a771d",
   "metadata": {},
   "outputs": [],
   "source": [
    "prompt_template = \"\"\"\n",
    "You emulate a user of our finess assistant application.\n",
    "Formulate 5 questions this user might ask based on a provided exercise.\n",
    "Make the questions specific to this exercises.\n",
    "The record should contain the answer to the questions, and the questions should be \n",
    "complete and not too short. Use as fewer words as possible from the record. \n",
    "\n",
    "The record: \n",
    "\n",
    "exercise_name: {exercise_name}\n",
    "type_of_activity: {type_of_activity}\n",
    "type_of_equipment: {type_of_equipment}\n",
    "body_part: {body_part}\n",
    "type: {type}\n",
    "muscle_groups_activated: {muscle_groups_activated}\n",
    "instructions: {instructions}\n",
    "\n",
    "Provide the output in parsable JSON without using code blocks:\n",
    "\n",
    "{{\"questions\": [\"question1\", \"question2\", ..., \"question5\"]}}\n",
    "\"\"\".strip()\n",
    "\n"
   ]
  },
  {
   "cell_type": "code",
   "execution_count": 9,
   "id": "af5acc35-e20d-411d-af49-9aad711c1f78",
   "metadata": {},
   "outputs": [],
   "source": [
    "prompt = prompt_template.format(**documents[0])"
   ]
  },
  {
   "cell_type": "code",
   "execution_count": 10,
   "id": "12104524-0d21-4933-bbb9-96d3f2cfed7d",
   "metadata": {},
   "outputs": [
    {
     "name": "stdout",
     "output_type": "stream",
     "text": [
      "You emulate a user of our finess assistant application.\n",
      "Formulate 5 questions this user might ask based on a provided exercise.\n",
      "Make the questions specific to this exercises.\n",
      "The record should contain the answer to the questions, and the questions should be \n",
      "complete and not too short. Use as fewer words as possible from the record. \n",
      "\n",
      "The record: \n",
      "\n",
      "exercise_name: Push-Ups\n",
      "type_of_activity: Strength\n",
      "type_of_equipment: Bodyweight\n",
      "body_part: Upper Body\n",
      "type: Push\n",
      "muscle_groups_activated: Pectorals, Triceps, Deltoids\n",
      "instructions: Start in a high plank position with your hands under your shoulders. Lower your body until your chest nearly touches the floor. Push back up to the starting position.\n",
      "\n",
      "Provide the output in parsable JSON without using code blocks:\n",
      "\n",
      "{\"questions\": [\"question1\", \"question2\", ..., \"question5\"]}\n"
     ]
    }
   ],
   "source": [
    "print(prompt)"
   ]
  },
  {
   "cell_type": "markdown",
   "id": "226a314c-f5a1-49a8-bd02-bbfc7659c4d3",
   "metadata": {},
   "source": [
    "# RAG Flow"
   ]
  },
  {
   "cell_type": "code",
   "execution_count": 11,
   "id": "78171509-c8fa-4153-b0f3-e3d02a4b53e3",
   "metadata": {},
   "outputs": [],
   "source": [
    "from mistralai import Mistral\n",
    "from mistralai.models import UserMessage\n",
    "import os\n",
    "from dotenv import load_dotenv\n",
    "import json"
   ]
  },
  {
   "cell_type": "code",
   "execution_count": 12,
   "id": "7c3f3210-44ba-4109-a993-6edf285cd981",
   "metadata": {},
   "outputs": [
    {
     "data": {
      "text/plain": [
       "True"
      ]
     },
     "execution_count": 12,
     "metadata": {},
     "output_type": "execute_result"
    }
   ],
   "source": [
    "# loads variables from .env\n",
    "load_dotenv()  "
   ]
  },
  {
   "cell_type": "code",
   "execution_count": 13,
   "id": "ffd67c2b-b335-4075-9c3e-07b23b87b589",
   "metadata": {},
   "outputs": [],
   "source": [
    "api_key = os.getenv(\"API_KEY\")"
   ]
  },
  {
   "cell_type": "code",
   "execution_count": 14,
   "id": "11b92e00-0573-4e00-8349-828a1d5e86b8",
   "metadata": {},
   "outputs": [],
   "source": [
    "def llm(prompt, model='ministral-8b-latest'):\n",
    "    client = Mistral(api_key = api_key)\n",
    "    response = client.chat.complete(\n",
    "        model= model,\n",
    "        messages=[UserMessage(content=prompt)],\n",
    "    )    \n",
    "    return response.choices[0].message.content"
   ]
  },
  {
   "cell_type": "code",
   "execution_count": 15,
   "id": "a194e0a4-fc51-437b-9746-cd8a63c4cbac",
   "metadata": {},
   "outputs": [],
   "source": [
    "questions = llm(prompt)"
   ]
  },
  {
   "cell_type": "code",
   "execution_count": 16,
   "id": "16fdc413-54ef-409b-9646-04a63ba0da58",
   "metadata": {},
   "outputs": [
    {
     "data": {
      "text/plain": [
       "{'questions': ['What is the starting position for push-ups?',\n",
       "  'Which muscles are primarily activated during push-ups?',\n",
       "  'How do you lower your body during a push-up?',\n",
       "  'What is the final position after pushing back up?',\n",
       "  'What equipment is needed for push-ups?']}"
      ]
     },
     "execution_count": 16,
     "metadata": {},
     "output_type": "execute_result"
    }
   ],
   "source": [
    "json.loads(questions)"
   ]
  },
  {
   "cell_type": "markdown",
   "id": "9b6c81bb-2bf5-4bac-aea6-b3730b28ac4e",
   "metadata": {},
   "source": [
    "# Generate Questions"
   ]
  },
  {
   "cell_type": "code",
   "execution_count": 17,
   "id": "7e129468-5548-4272-98be-866c0169b10d",
   "metadata": {},
   "outputs": [],
   "source": [
    "def generate_question(doc):\n",
    "    prompt = prompt_template.format(**doc)\n",
    "    client = Mistral(api_key = api_key)\n",
    "    response = client.chat.complete(\n",
    "        model= 'mistral-large-2411',\n",
    "        messages=[UserMessage(content=prompt)],\n",
    "    )    \n",
    "    json_response = response.choices[0].message.content\n",
    "    return json_response\n"
   ]
  },
  {
   "cell_type": "code",
   "execution_count": 18,
   "id": "3e64f1a1-947d-4ed0-a57b-a8f4fc3b226b",
   "metadata": {},
   "outputs": [],
   "source": [
    "from tqdm.auto import tqdm\n"
   ]
  },
  {
   "cell_type": "code",
   "execution_count": 19,
   "id": "3ffdaf5d-63d7-4d86-b5e1-0e3d5d401c89",
   "metadata": {},
   "outputs": [],
   "source": [
    "results = {}"
   ]
  },
  {
   "cell_type": "code",
   "execution_count": 29,
   "id": "328b876f-6bdf-47b3-ba43-6071ce6bc190",
   "metadata": {},
   "outputs": [
    {
     "data": {
      "application/vnd.jupyter.widget-view+json": {
       "model_id": "8e313acc543c487faaf00b37da66b935",
       "version_major": 2,
       "version_minor": 0
      },
      "text/plain": [
       "  0%|          | 0/207 [00:00<?, ?it/s]"
      ]
     },
     "metadata": {},
     "output_type": "display_data"
    }
   ],
   "source": [
    "for doc in tqdm(documents):\n",
    "    doc_id = doc['id']\n",
    "    if doc_id in results:\n",
    "        continue \n",
    "    questions_raw = generate_question(doc)\n",
    "    questions = json.loads(questions_raw)\n",
    "    results[doc_id] = questions['questions']\n"
   ]
  },
  {
   "cell_type": "code",
   "execution_count": 30,
   "id": "1c937aff-2814-486f-b4d3-9bda3d109222",
   "metadata": {},
   "outputs": [
    {
     "data": {
      "text/plain": [
       "['What is the name of the exercise that involves lowering your body from a high plank position until your chest nearly touches the floor?',\n",
       " 'Which type of activity does the exercise involving pectorals, triceps, and deltoids fall under?',\n",
       " 'What kind of equipment is required for the exercise where you push your body back up to the starting position from a lowered plank?',\n",
       " 'Which part of the body is primarily targeted by the exercise that activates pectorals, triceps, and deltoids?',\n",
       " 'Can you describe the steps to perform the exercise that works the upper body using only bodyweight?']"
      ]
     },
     "execution_count": 30,
     "metadata": {},
     "output_type": "execute_result"
    }
   ],
   "source": [
    "results[0]"
   ]
  },
  {
   "cell_type": "code",
   "execution_count": 31,
   "id": "e6c60642-065e-4ffa-b42a-291af6b310c9",
   "metadata": {},
   "outputs": [],
   "source": [
    "# save the results\n",
    "\n",
    "final_results = []\n",
    "for doc_id, qs in results.items():\n",
    "    for q in qs:\n",
    "        final_results.append((doc_id, q))\n"
   ]
  },
  {
   "cell_type": "code",
   "execution_count": 32,
   "id": "e2b2c0bf-c588-471a-9426-ca94499999e4",
   "metadata": {},
   "outputs": [
    {
     "data": {
      "text/plain": [
       "(2, 'What muscle groups are activated during a Plank?')"
      ]
     },
     "execution_count": 32,
     "metadata": {},
     "output_type": "execute_result"
    }
   ],
   "source": [
    "final_results[10]"
   ]
  },
  {
   "cell_type": "code",
   "execution_count": 33,
   "id": "26cd961d-15d6-4914-95f8-af0ce9dd8d94",
   "metadata": {},
   "outputs": [],
   "source": [
    "df_results = pd.DataFrame(final_results, columns=['id', 'question'])"
   ]
  },
  {
   "cell_type": "code",
   "execution_count": 34,
   "id": "f9ebefda-4eb9-4c2c-9668-def4aa4e974b",
   "metadata": {},
   "outputs": [],
   "source": [
    "df_results.to_csv('groud-truth-retrieval.csv', index=False)"
   ]
  },
  {
   "cell_type": "code",
   "execution_count": 35,
   "id": "398c5234-3a19-41b1-8adc-2f8a1a193bf4",
   "metadata": {},
   "outputs": [
    {
     "name": "stdout",
     "output_type": "stream",
     "text": [
      "id,question\n",
      "0,What is the name of the exercise that involves lowering your body from a high plank position until your chest nearly touches the floor?\n",
      "0,\"Which type of activity does the exercise involving pectorals, triceps, and deltoids fall under?\"\n",
      "0,What kind of equipment is required for the exercise where you push your body back up to the starting position from a lowered plank?\n",
      "0,\"Which part of the body is primarily targeted by the exercise that activates pectorals, triceps, and deltoids?\"\n",
      "0,Can you describe the steps to perform the exercise that works the upper body using only bodyweight?\n",
      "1,What muscles do squats primarily work on?\n",
      "1,Do squats require any specific equipment?\n",
      "1,Which part of the body do squats target?\n",
      "1,How do you perform a squat correctly?\n"
     ]
    }
   ],
   "source": [
    "!head groud-truth-retrieval.csv"
   ]
  },
  {
   "cell_type": "markdown",
   "id": "62200087-6de3-4ae2-bc13-be0f2cde144f",
   "metadata": {},
   "source": [
    "# Retrieval Evaluation"
   ]
  },
  {
   "cell_type": "code",
   "execution_count": 36,
   "id": "7080571b-59d9-489a-857d-e27ab52c1f89",
   "metadata": {},
   "outputs": [],
   "source": [
    "df_question = pd.read_csv('groud-truth-retrieval.csv')"
   ]
  },
  {
   "cell_type": "code",
   "execution_count": 37,
   "id": "e2961d66-97ea-406b-8ba4-47ab3655bbaf",
   "metadata": {},
   "outputs": [
    {
     "data": {
      "text/html": [
       "<div>\n",
       "<style scoped>\n",
       "    .dataframe tbody tr th:only-of-type {\n",
       "        vertical-align: middle;\n",
       "    }\n",
       "\n",
       "    .dataframe tbody tr th {\n",
       "        vertical-align: top;\n",
       "    }\n",
       "\n",
       "    .dataframe thead th {\n",
       "        text-align: right;\n",
       "    }\n",
       "</style>\n",
       "<table border=\"1\" class=\"dataframe\">\n",
       "  <thead>\n",
       "    <tr style=\"text-align: right;\">\n",
       "      <th></th>\n",
       "      <th>id</th>\n",
       "      <th>question</th>\n",
       "    </tr>\n",
       "  </thead>\n",
       "  <tbody>\n",
       "    <tr>\n",
       "      <th>0</th>\n",
       "      <td>0</td>\n",
       "      <td>What is the name of the exercise that involves...</td>\n",
       "    </tr>\n",
       "    <tr>\n",
       "      <th>1</th>\n",
       "      <td>0</td>\n",
       "      <td>Which type of activity does the exercise invol...</td>\n",
       "    </tr>\n",
       "    <tr>\n",
       "      <th>2</th>\n",
       "      <td>0</td>\n",
       "      <td>What kind of equipment is required for the exe...</td>\n",
       "    </tr>\n",
       "    <tr>\n",
       "      <th>3</th>\n",
       "      <td>0</td>\n",
       "      <td>Which part of the body is primarily targeted b...</td>\n",
       "    </tr>\n",
       "    <tr>\n",
       "      <th>4</th>\n",
       "      <td>0</td>\n",
       "      <td>Can you describe the steps to perform the exer...</td>\n",
       "    </tr>\n",
       "    <tr>\n",
       "      <th>...</th>\n",
       "      <td>...</td>\n",
       "      <td>...</td>\n",
       "    </tr>\n",
       "    <tr>\n",
       "      <th>1030</th>\n",
       "      <td>206</td>\n",
       "      <td>What muscles does the Dumbbell Bench Press pri...</td>\n",
       "    </tr>\n",
       "    <tr>\n",
       "      <th>1031</th>\n",
       "      <td>206</td>\n",
       "      <td>What type of equipment is needed for the Dumbb...</td>\n",
       "    </tr>\n",
       "    <tr>\n",
       "      <th>1032</th>\n",
       "      <td>206</td>\n",
       "      <td>Which body part is worked by the Dumbbell Benc...</td>\n",
       "    </tr>\n",
       "    <tr>\n",
       "      <th>1033</th>\n",
       "      <td>206</td>\n",
       "      <td>How do you perform the Dumbbell Bench Press us...</td>\n",
       "    </tr>\n",
       "    <tr>\n",
       "      <th>1034</th>\n",
       "      <td>206</td>\n",
       "      <td>Is the Dumbbell Bench Press a push or pull exe...</td>\n",
       "    </tr>\n",
       "  </tbody>\n",
       "</table>\n",
       "<p>1035 rows × 2 columns</p>\n",
       "</div>"
      ],
      "text/plain": [
       "       id                                           question\n",
       "0       0  What is the name of the exercise that involves...\n",
       "1       0  Which type of activity does the exercise invol...\n",
       "2       0  What kind of equipment is required for the exe...\n",
       "3       0  Which part of the body is primarily targeted b...\n",
       "4       0  Can you describe the steps to perform the exer...\n",
       "...   ...                                                ...\n",
       "1030  206  What muscles does the Dumbbell Bench Press pri...\n",
       "1031  206  What type of equipment is needed for the Dumbb...\n",
       "1032  206  Which body part is worked by the Dumbbell Benc...\n",
       "1033  206  How do you perform the Dumbbell Bench Press us...\n",
       "1034  206  Is the Dumbbell Bench Press a push or pull exe...\n",
       "\n",
       "[1035 rows x 2 columns]"
      ]
     },
     "execution_count": 37,
     "metadata": {},
     "output_type": "execute_result"
    }
   ],
   "source": [
    "df_question"
   ]
  },
  {
   "cell_type": "code",
   "execution_count": 38,
   "id": "cc067997-3def-406e-ad9e-944a87ad146d",
   "metadata": {},
   "outputs": [],
   "source": [
    "ground_truth = df_question.to_dict(orient='records')\n"
   ]
  },
  {
   "cell_type": "code",
   "execution_count": 39,
   "id": "f7d5a04a-f3f1-4ba4-ac8c-7ec3f642a88c",
   "metadata": {},
   "outputs": [
    {
     "data": {
      "text/plain": [
       "{'id': 0,\n",
       " 'question': 'What is the name of the exercise that involves lowering your body from a high plank position until your chest nearly touches the floor?'}"
      ]
     },
     "execution_count": 39,
     "metadata": {},
     "output_type": "execute_result"
    }
   ],
   "source": [
    "ground_truth[0]"
   ]
  },
  {
   "cell_type": "code",
   "execution_count": 40,
   "id": "ac1bb3bd-02db-41d9-b822-1e7352417a0c",
   "metadata": {},
   "outputs": [],
   "source": [
    "def hit_rate(relevance_total):\n",
    "    cnt = 0\n",
    "\n",
    "    for line in relevance_total:\n",
    "        if True in line:\n",
    "            cnt = cnt + 1\n",
    "\n",
    "    return cnt / len(relevance_total)\n",
    "\n",
    "def mrr(relevance_total):\n",
    "    total_score = 0.0\n",
    "\n",
    "    for line in relevance_total:\n",
    "        for rank in range(len(line)):\n",
    "            if line[rank] == True:\n",
    "                total_score = total_score + 1 / (rank + 1)\n",
    "\n",
    "    return total_score / len(relevance_total)"
   ]
  },
  {
   "cell_type": "code",
   "execution_count": 41,
   "id": "1c1b5dc2-62a2-4ea6-9025-020d7286731c",
   "metadata": {},
   "outputs": [],
   "source": [
    "def minsearch_search(query):\n",
    "    boost = {}\n",
    "\n",
    "    results = index.search(\n",
    "        query=query,\n",
    "        filter_dict={},\n",
    "        boost_dict=boost,\n",
    "        num_results=10\n",
    "    )\n",
    "\n",
    "    return results"
   ]
  },
  {
   "cell_type": "code",
   "execution_count": 42,
   "id": "2de645c1-f911-4288-bc06-39232902dd6d",
   "metadata": {},
   "outputs": [],
   "source": [
    "def evaluate(ground_truth, search_function):\n",
    "    relevance_total = []\n",
    "\n",
    "    for q in tqdm(ground_truth):\n",
    "        doc_id = q['id']\n",
    "        results = search_function(q)\n",
    "        relevance = [d['id'] == doc_id for d in results]\n",
    "        relevance_total.append(relevance)\n",
    "\n",
    "    return {\n",
    "        'hit_rate': hit_rate(relevance_total),\n",
    "        'mrr': mrr(relevance_total),\n",
    "    }"
   ]
  },
  {
   "cell_type": "code",
   "execution_count": 43,
   "id": "4cbe925a-435e-4476-95fd-e9ad5764377b",
   "metadata": {},
   "outputs": [
    {
     "data": {
      "application/vnd.jupyter.widget-view+json": {
       "model_id": "0b0f3eb7b0a346cb8ec3b1c8e252d10b",
       "version_major": 2,
       "version_minor": 0
      },
      "text/plain": [
       "  0%|          | 0/1035 [00:00<?, ?it/s]"
      ]
     },
     "metadata": {},
     "output_type": "display_data"
    },
    {
     "data": {
      "text/plain": [
       "{'hit_rate': 0.9797101449275363, 'mrr': 0.8649490069779925}"
      ]
     },
     "execution_count": 43,
     "metadata": {},
     "output_type": "execute_result"
    }
   ],
   "source": [
    "evaluate(ground_truth, lambda q: minsearch_search(q['question']))"
   ]
  },
  {
   "cell_type": "markdown",
   "id": "755920b3-68fc-4062-a974-ef09189414d1",
   "metadata": {},
   "source": [
    "# Finding the best paramters"
   ]
  },
  {
   "cell_type": "code",
   "execution_count": 44,
   "id": "1c1085b2-becd-47d0-9f51-ce019882405c",
   "metadata": {},
   "outputs": [],
   "source": [
    "df_validation = df_question[:100]\n",
    "df_test = df_question[100:]"
   ]
  },
  {
   "cell_type": "code",
   "execution_count": 45,
   "id": "8798f9e9-f098-4d6f-acb3-94c35c65a08b",
   "metadata": {},
   "outputs": [],
   "source": [
    "import random\n",
    "\n",
    "def simple_optimize(param_ranges, objective_function, n_iterations=10):\n",
    "    best_params = None\n",
    "    best_score = float('-inf')  # Assuming we're minimizing. Use float('-inf') if maximizing.\n",
    "\n",
    "    for _ in range(n_iterations):\n",
    "        # Generate random parameters\n",
    "        current_params = {}\n",
    "        for param, (min_val, max_val) in param_ranges.items():\n",
    "            if isinstance(min_val, int) and isinstance(max_val, int):\n",
    "                current_params[param] = random.randint(min_val, max_val)\n",
    "            else:\n",
    "                current_params[param] = random.uniform(min_val, max_val)\n",
    "        \n",
    "        # Evaluate the objective function\n",
    "        current_score = objective_function(current_params)\n",
    "        \n",
    "        # Update best if current is better\n",
    "        if current_score > best_score:  # Change to > if maximizing\n",
    "            best_score = current_score\n",
    "            best_params = current_params\n",
    "    \n",
    "    return best_params, best_score"
   ]
  },
  {
   "cell_type": "code",
   "execution_count": 46,
   "id": "b5d26682-4109-493b-a710-8015d6f1b9d6",
   "metadata": {},
   "outputs": [],
   "source": [
    "gt_val = df_validation.to_dict(orient='records')"
   ]
  },
  {
   "cell_type": "code",
   "execution_count": 47,
   "id": "1046dd98-1207-4687-9927-e360049298d0",
   "metadata": {},
   "outputs": [],
   "source": [
    "def minsearch_search(query, boost=None):\n",
    "    \n",
    "    if boost is None:\n",
    "        boost = {}\n",
    "\n",
    "    results = index.search(\n",
    "        query=query,\n",
    "        filter_dict={},\n",
    "        boost_dict=boost,\n",
    "        num_results=10\n",
    "    )\n",
    "\n",
    "    return results"
   ]
  },
  {
   "cell_type": "code",
   "execution_count": 48,
   "id": "037cde54-ffd8-4340-8740-d16321a0e1a1",
   "metadata": {},
   "outputs": [],
   "source": [
    "param_ranges = {\n",
    " 'exercise_name': (0.0, 3.0),\n",
    " 'type_of_activity': (0.0, 3.0),\n",
    " 'type_of_equipment': (0.0, 3.0),\n",
    " 'body_part': (0.0, 3.0),\n",
    " 'type': (0.0, 3.0),\n",
    " 'muscle_groups_activated': (0.0, 3.0),\n",
    " 'instructions': (0.0, 3.0)\n",
    "}"
   ]
  },
  {
   "cell_type": "code",
   "execution_count": 49,
   "id": "00b55d79-8ffa-44d8-a744-4349c755a4fa",
   "metadata": {},
   "outputs": [],
   "source": [
    "def objective(boost_params):\n",
    "    def search_function(q):\n",
    "        return minsearch_search(q['question'], boost_params)\n",
    "\n",
    "    results = evaluate(gt_val, search_function)\n",
    "    return results['mrr']\n",
    "        "
   ]
  },
  {
   "cell_type": "code",
   "execution_count": 50,
   "id": "7f159bbc-f939-4ea3-a7a0-fa5c060aac2a",
   "metadata": {},
   "outputs": [
    {
     "data": {
      "application/vnd.jupyter.widget-view+json": {
       "model_id": "3825b61c77ca432a937677555395d747",
       "version_major": 2,
       "version_minor": 0
      },
      "text/plain": [
       "  0%|          | 0/100 [00:00<?, ?it/s]"
      ]
     },
     "metadata": {},
     "output_type": "display_data"
    },
    {
     "data": {
      "application/vnd.jupyter.widget-view+json": {
       "model_id": "7117c31471ed4d94b7edf19ec94302ad",
       "version_major": 2,
       "version_minor": 0
      },
      "text/plain": [
       "  0%|          | 0/100 [00:00<?, ?it/s]"
      ]
     },
     "metadata": {},
     "output_type": "display_data"
    },
    {
     "data": {
      "application/vnd.jupyter.widget-view+json": {
       "model_id": "b80da90de5974c058b2963d58c7e3c19",
       "version_major": 2,
       "version_minor": 0
      },
      "text/plain": [
       "  0%|          | 0/100 [00:00<?, ?it/s]"
      ]
     },
     "metadata": {},
     "output_type": "display_data"
    },
    {
     "data": {
      "application/vnd.jupyter.widget-view+json": {
       "model_id": "96a940ecce79446e80c5b97a65f08297",
       "version_major": 2,
       "version_minor": 0
      },
      "text/plain": [
       "  0%|          | 0/100 [00:00<?, ?it/s]"
      ]
     },
     "metadata": {},
     "output_type": "display_data"
    },
    {
     "data": {
      "application/vnd.jupyter.widget-view+json": {
       "model_id": "d30611a64f8b42d2b0d733cf3465f20e",
       "version_major": 2,
       "version_minor": 0
      },
      "text/plain": [
       "  0%|          | 0/100 [00:00<?, ?it/s]"
      ]
     },
     "metadata": {},
     "output_type": "display_data"
    },
    {
     "data": {
      "application/vnd.jupyter.widget-view+json": {
       "model_id": "93b33ee1f9c642868a8f24a328222b0a",
       "version_major": 2,
       "version_minor": 0
      },
      "text/plain": [
       "  0%|          | 0/100 [00:00<?, ?it/s]"
      ]
     },
     "metadata": {},
     "output_type": "display_data"
    },
    {
     "data": {
      "application/vnd.jupyter.widget-view+json": {
       "model_id": "8879c3cb3eb44ea09d1e559fea7de9b2",
       "version_major": 2,
       "version_minor": 0
      },
      "text/plain": [
       "  0%|          | 0/100 [00:00<?, ?it/s]"
      ]
     },
     "metadata": {},
     "output_type": "display_data"
    },
    {
     "data": {
      "application/vnd.jupyter.widget-view+json": {
       "model_id": "0d62765e4e274f03b79de20bca7e360a",
       "version_major": 2,
       "version_minor": 0
      },
      "text/plain": [
       "  0%|          | 0/100 [00:00<?, ?it/s]"
      ]
     },
     "metadata": {},
     "output_type": "display_data"
    },
    {
     "data": {
      "application/vnd.jupyter.widget-view+json": {
       "model_id": "7b36b2eb99674884aa1e8931b8303e18",
       "version_major": 2,
       "version_minor": 0
      },
      "text/plain": [
       "  0%|          | 0/100 [00:00<?, ?it/s]"
      ]
     },
     "metadata": {},
     "output_type": "display_data"
    },
    {
     "data": {
      "application/vnd.jupyter.widget-view+json": {
       "model_id": "238964745d0b4866bd2db3023441062d",
       "version_major": 2,
       "version_minor": 0
      },
      "text/plain": [
       "  0%|          | 0/100 [00:00<?, ?it/s]"
      ]
     },
     "metadata": {},
     "output_type": "display_data"
    },
    {
     "data": {
      "application/vnd.jupyter.widget-view+json": {
       "model_id": "2f3a06ac752e4d7f88208a167220a2fa",
       "version_major": 2,
       "version_minor": 0
      },
      "text/plain": [
       "  0%|          | 0/100 [00:00<?, ?it/s]"
      ]
     },
     "metadata": {},
     "output_type": "display_data"
    },
    {
     "data": {
      "application/vnd.jupyter.widget-view+json": {
       "model_id": "63202481b836451c8e16dcc6d91d27aa",
       "version_major": 2,
       "version_minor": 0
      },
      "text/plain": [
       "  0%|          | 0/100 [00:00<?, ?it/s]"
      ]
     },
     "metadata": {},
     "output_type": "display_data"
    },
    {
     "data": {
      "application/vnd.jupyter.widget-view+json": {
       "model_id": "30555ea4f2474f8a96b79fa243fdbe95",
       "version_major": 2,
       "version_minor": 0
      },
      "text/plain": [
       "  0%|          | 0/100 [00:00<?, ?it/s]"
      ]
     },
     "metadata": {},
     "output_type": "display_data"
    },
    {
     "data": {
      "application/vnd.jupyter.widget-view+json": {
       "model_id": "4baec38b1c75403dace8887b178f9bcf",
       "version_major": 2,
       "version_minor": 0
      },
      "text/plain": [
       "  0%|          | 0/100 [00:00<?, ?it/s]"
      ]
     },
     "metadata": {},
     "output_type": "display_data"
    },
    {
     "data": {
      "application/vnd.jupyter.widget-view+json": {
       "model_id": "83938508ac0841af987985c8867653df",
       "version_major": 2,
       "version_minor": 0
      },
      "text/plain": [
       "  0%|          | 0/100 [00:00<?, ?it/s]"
      ]
     },
     "metadata": {},
     "output_type": "display_data"
    },
    {
     "data": {
      "application/vnd.jupyter.widget-view+json": {
       "model_id": "e49cbc897a754e10b1df47a1dc154dda",
       "version_major": 2,
       "version_minor": 0
      },
      "text/plain": [
       "  0%|          | 0/100 [00:00<?, ?it/s]"
      ]
     },
     "metadata": {},
     "output_type": "display_data"
    },
    {
     "data": {
      "application/vnd.jupyter.widget-view+json": {
       "model_id": "be950dc5819a4e5b906c202ab9f81976",
       "version_major": 2,
       "version_minor": 0
      },
      "text/plain": [
       "  0%|          | 0/100 [00:00<?, ?it/s]"
      ]
     },
     "metadata": {},
     "output_type": "display_data"
    },
    {
     "data": {
      "application/vnd.jupyter.widget-view+json": {
       "model_id": "da50f34901bb4ee2b9ad9a4c99f8aad0",
       "version_major": 2,
       "version_minor": 0
      },
      "text/plain": [
       "  0%|          | 0/100 [00:00<?, ?it/s]"
      ]
     },
     "metadata": {},
     "output_type": "display_data"
    },
    {
     "data": {
      "application/vnd.jupyter.widget-view+json": {
       "model_id": "3fa0c39418d845f186463b440c6196ff",
       "version_major": 2,
       "version_minor": 0
      },
      "text/plain": [
       "  0%|          | 0/100 [00:00<?, ?it/s]"
      ]
     },
     "metadata": {},
     "output_type": "display_data"
    },
    {
     "data": {
      "application/vnd.jupyter.widget-view+json": {
       "model_id": "c2b21785e1284ab18cc405fa2f3a0549",
       "version_major": 2,
       "version_minor": 0
      },
      "text/plain": [
       "  0%|          | 0/100 [00:00<?, ?it/s]"
      ]
     },
     "metadata": {},
     "output_type": "display_data"
    },
    {
     "data": {
      "text/plain": [
       "({'exercise_name': 2.8680677352590713,\n",
       "  'type_of_activity': 2.155045199162053,\n",
       "  'type_of_equipment': 0.6202095792364494,\n",
       "  'body_part': 2.322273524060162,\n",
       "  'type': 2.2251659888513893,\n",
       "  'muscle_groups_activated': 1.4368469636881422,\n",
       "  'instructions': 1.9296650279967351},\n",
       " 0.8911666666666668)"
      ]
     },
     "execution_count": 50,
     "metadata": {},
     "output_type": "execute_result"
    }
   ],
   "source": [
    "simple_optimize(param_ranges, objective, n_iterations=20)"
   ]
  },
  {
   "cell_type": "markdown",
   "id": "41e7e28d-3c63-4174-8bb0-172b7fcd0d39",
   "metadata": {},
   "source": [
    "'mrr': 0.8649490069779925"
   ]
  },
  {
   "cell_type": "code",
   "execution_count": 51,
   "id": "f2d1d9df-f8f8-4c82-b3b2-ec5fc87d3c12",
   "metadata": {},
   "outputs": [
    {
     "data": {
      "application/vnd.jupyter.widget-view+json": {
       "model_id": "4c46d070665f4ec1bb559d608af1d5df",
       "version_major": 2,
       "version_minor": 0
      },
      "text/plain": [
       "  0%|          | 0/1035 [00:00<?, ?it/s]"
      ]
     },
     "metadata": {},
     "output_type": "display_data"
    },
    {
     "data": {
      "text/plain": [
       "{'hit_rate': 0.978743961352657, 'mrr': 0.9417149758454105}"
      ]
     },
     "execution_count": 51,
     "metadata": {},
     "output_type": "execute_result"
    }
   ],
   "source": [
    "# Apply the boost params in the whole dataset\n",
    "def minsearh_improved(query):\n",
    "    \n",
    "    boost = {\n",
    "          'exercise_name': 2.86,\n",
    "          'type_of_activity': 2.15,\n",
    "          'type_of_equipment': 0.62,\n",
    "          'body_part': 2.32,\n",
    "          'type': 2.22,\n",
    "          'muscle_groups_activated': 1.43,\n",
    "          'instructions': 1.92\n",
    "    }\n",
    "\n",
    "    results = index.search(\n",
    "        query=query,\n",
    "        filter_dict={},\n",
    "        boost_dict=boost,\n",
    "        num_results=10\n",
    "    )\n",
    "\n",
    "    return results\n",
    "\n",
    "\n",
    "evaluate(ground_truth, lambda q: minsearh_improved(q['question']))"
   ]
  },
  {
   "cell_type": "markdown",
   "id": "902d7351-901c-4598-87fe-ac6fcafe39a5",
   "metadata": {},
   "source": [
    "{'hit_rate': 0.9797101449275363, 'mrr': 0.8649490069779925}"
   ]
  },
  {
   "cell_type": "code",
   "execution_count": null,
   "id": "2f9e1a01-de80-4c42-b6bc-28b326eff51f",
   "metadata": {},
   "outputs": [],
   "source": []
  }
 ],
 "metadata": {
  "kernelspec": {
   "display_name": "Python 3 (ipykernel)",
   "language": "python",
   "name": "python3"
  },
  "language_info": {
   "codemirror_mode": {
    "name": "ipython",
    "version": 3
   },
   "file_extension": ".py",
   "mimetype": "text/x-python",
   "name": "python",
   "nbconvert_exporter": "python",
   "pygments_lexer": "ipython3",
   "version": "3.12.2"
  }
 },
 "nbformat": 4,
 "nbformat_minor": 5
}
