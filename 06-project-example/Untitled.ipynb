{
 "cells": [
  {
   "cell_type": "code",
   "execution_count": 36,
   "id": "592ca989-5659-47b4-b537-652de1a7ce3c",
   "metadata": {},
   "outputs": [],
   "source": [
    "import os\n",
    "os.environ[\"SSL_CERT_FILE\"] = \"Fortinet_CA_SSL(15).cer\"\n"
   ]
  },
  {
   "cell_type": "code",
   "execution_count": 1,
   "id": "d9076821-3194-4d4f-9088-1f8802ff8284",
   "metadata": {},
   "outputs": [],
   "source": [
    "import pandas as pd"
   ]
  },
  {
   "cell_type": "code",
   "execution_count": 2,
   "id": "081724ea-2b8e-4f9e-b4e9-b568bada3d23",
   "metadata": {},
   "outputs": [],
   "source": [
    "# df.columns = df.columns.str.lower().str.replace(' ', '_')"
   ]
  },
  {
   "cell_type": "code",
   "execution_count": 3,
   "id": "cd6ccc39-b96d-418c-a6ac-ee4f215f1b5d",
   "metadata": {},
   "outputs": [],
   "source": [
    "df = pd.read_csv('data.csv')"
   ]
  },
  {
   "cell_type": "code",
   "execution_count": 4,
   "id": "4d1e79f5-3480-4069-9c52-af1f6203c1e3",
   "metadata": {},
   "outputs": [
    {
     "data": {
      "text/html": [
       "<div>\n",
       "<style scoped>\n",
       "    .dataframe tbody tr th:only-of-type {\n",
       "        vertical-align: middle;\n",
       "    }\n",
       "\n",
       "    .dataframe tbody tr th {\n",
       "        vertical-align: top;\n",
       "    }\n",
       "\n",
       "    .dataframe thead th {\n",
       "        text-align: right;\n",
       "    }\n",
       "</style>\n",
       "<table border=\"1\" class=\"dataframe\">\n",
       "  <thead>\n",
       "    <tr style=\"text-align: right;\">\n",
       "      <th></th>\n",
       "      <th>id</th>\n",
       "      <th>exercise_name</th>\n",
       "      <th>type_of_activity</th>\n",
       "      <th>type_of_equipment</th>\n",
       "      <th>body_part</th>\n",
       "      <th>type</th>\n",
       "      <th>muscle_groups_activated</th>\n",
       "      <th>instructions</th>\n",
       "    </tr>\n",
       "  </thead>\n",
       "  <tbody>\n",
       "    <tr>\n",
       "      <th>0</th>\n",
       "      <td>0</td>\n",
       "      <td>Push-Ups</td>\n",
       "      <td>Strength</td>\n",
       "      <td>Bodyweight</td>\n",
       "      <td>Upper Body</td>\n",
       "      <td>Push</td>\n",
       "      <td>Pectorals, Triceps, Deltoids</td>\n",
       "      <td>Start in a high plank position with your hands...</td>\n",
       "    </tr>\n",
       "    <tr>\n",
       "      <th>1</th>\n",
       "      <td>1</td>\n",
       "      <td>Squats</td>\n",
       "      <td>Strength</td>\n",
       "      <td>Bodyweight</td>\n",
       "      <td>Lower Body</td>\n",
       "      <td>Push</td>\n",
       "      <td>Quadriceps, Glutes, Hamstrings</td>\n",
       "      <td>Stand with feet shoulder-width apart. Lower yo...</td>\n",
       "    </tr>\n",
       "    <tr>\n",
       "      <th>2</th>\n",
       "      <td>2</td>\n",
       "      <td>Plank</td>\n",
       "      <td>Strength/Mobility</td>\n",
       "      <td>Bodyweight</td>\n",
       "      <td>Core</td>\n",
       "      <td>Hold</td>\n",
       "      <td>Rectus Abdominis, Transverse Abdominis</td>\n",
       "      <td>Start in a forearm plank position with your el...</td>\n",
       "    </tr>\n",
       "    <tr>\n",
       "      <th>3</th>\n",
       "      <td>3</td>\n",
       "      <td>Deadlift</td>\n",
       "      <td>Strength</td>\n",
       "      <td>Barbell</td>\n",
       "      <td>Lower Body</td>\n",
       "      <td>Pull</td>\n",
       "      <td>Glutes, Hamstrings, Lower Back</td>\n",
       "      <td>Stand with feet hip-width apart, barbell in fr...</td>\n",
       "    </tr>\n",
       "    <tr>\n",
       "      <th>4</th>\n",
       "      <td>4</td>\n",
       "      <td>Bicep Curls</td>\n",
       "      <td>Strength</td>\n",
       "      <td>Dumbbells</td>\n",
       "      <td>Upper Body</td>\n",
       "      <td>Pull</td>\n",
       "      <td>Biceps, Forearms</td>\n",
       "      <td>Stand with a dumbbell in each hand, arms fully...</td>\n",
       "    </tr>\n",
       "    <tr>\n",
       "      <th>...</th>\n",
       "      <td>...</td>\n",
       "      <td>...</td>\n",
       "      <td>...</td>\n",
       "      <td>...</td>\n",
       "      <td>...</td>\n",
       "      <td>...</td>\n",
       "      <td>...</td>\n",
       "      <td>...</td>\n",
       "    </tr>\n",
       "    <tr>\n",
       "      <th>202</th>\n",
       "      <td>202</td>\n",
       "      <td>Incline Dumbbell Row</td>\n",
       "      <td>Strength</td>\n",
       "      <td>Dumbbells</td>\n",
       "      <td>Upper Body</td>\n",
       "      <td>Pull</td>\n",
       "      <td>Latissimus Dorsi, Biceps</td>\n",
       "      <td>Lie face down on an incline bench with a dumbb...</td>\n",
       "    </tr>\n",
       "    <tr>\n",
       "      <th>203</th>\n",
       "      <td>203</td>\n",
       "      <td>Machine Lat Pulldown</td>\n",
       "      <td>Strength</td>\n",
       "      <td>Machine</td>\n",
       "      <td>Upper Body</td>\n",
       "      <td>Pull</td>\n",
       "      <td>Latissimus Dorsi, Biceps</td>\n",
       "      <td>Sit at a lat pulldown machine with a wide grip...</td>\n",
       "    </tr>\n",
       "    <tr>\n",
       "      <th>204</th>\n",
       "      <td>204</td>\n",
       "      <td>One-Arm Cable Row</td>\n",
       "      <td>Strength</td>\n",
       "      <td>Cable Machine</td>\n",
       "      <td>Upper Body</td>\n",
       "      <td>Pull</td>\n",
       "      <td>Latissimus Dorsi, Biceps</td>\n",
       "      <td>Stand facing a cable machine with the handle a...</td>\n",
       "    </tr>\n",
       "    <tr>\n",
       "      <th>205</th>\n",
       "      <td>205</td>\n",
       "      <td>Face Pull</td>\n",
       "      <td>Strength</td>\n",
       "      <td>Cable Machine</td>\n",
       "      <td>Upper Body</td>\n",
       "      <td>Pull</td>\n",
       "      <td>Rear Deltoids, Trapezius, Rhomboids</td>\n",
       "      <td>Attach a rope handle to a high cable pulley. P...</td>\n",
       "    </tr>\n",
       "    <tr>\n",
       "      <th>206</th>\n",
       "      <td>206</td>\n",
       "      <td>Dumbbell Bench Press</td>\n",
       "      <td>Strength</td>\n",
       "      <td>Dumbbells</td>\n",
       "      <td>Upper Body</td>\n",
       "      <td>Push</td>\n",
       "      <td>Pectorals, Triceps, Deltoids</td>\n",
       "      <td>Lie on a bench with a dumbbell in each hand. P...</td>\n",
       "    </tr>\n",
       "  </tbody>\n",
       "</table>\n",
       "<p>207 rows × 8 columns</p>\n",
       "</div>"
      ],
      "text/plain": [
       "      id         exercise_name   type_of_activity type_of_equipment  \\\n",
       "0      0              Push-Ups           Strength        Bodyweight   \n",
       "1      1                Squats           Strength        Bodyweight   \n",
       "2      2                 Plank  Strength/Mobility        Bodyweight   \n",
       "3      3              Deadlift           Strength           Barbell   \n",
       "4      4           Bicep Curls           Strength         Dumbbells   \n",
       "..   ...                   ...                ...               ...   \n",
       "202  202  Incline Dumbbell Row           Strength         Dumbbells   \n",
       "203  203  Machine Lat Pulldown           Strength           Machine   \n",
       "204  204     One-Arm Cable Row           Strength     Cable Machine   \n",
       "205  205             Face Pull           Strength     Cable Machine   \n",
       "206  206  Dumbbell Bench Press           Strength         Dumbbells   \n",
       "\n",
       "      body_part  type                 muscle_groups_activated  \\\n",
       "0    Upper Body  Push            Pectorals, Triceps, Deltoids   \n",
       "1    Lower Body  Push          Quadriceps, Glutes, Hamstrings   \n",
       "2          Core  Hold  Rectus Abdominis, Transverse Abdominis   \n",
       "3    Lower Body  Pull          Glutes, Hamstrings, Lower Back   \n",
       "4    Upper Body  Pull                        Biceps, Forearms   \n",
       "..          ...   ...                                     ...   \n",
       "202  Upper Body  Pull                Latissimus Dorsi, Biceps   \n",
       "203  Upper Body  Pull                Latissimus Dorsi, Biceps   \n",
       "204  Upper Body  Pull                Latissimus Dorsi, Biceps   \n",
       "205  Upper Body  Pull     Rear Deltoids, Trapezius, Rhomboids   \n",
       "206  Upper Body  Push            Pectorals, Triceps, Deltoids   \n",
       "\n",
       "                                          instructions  \n",
       "0    Start in a high plank position with your hands...  \n",
       "1    Stand with feet shoulder-width apart. Lower yo...  \n",
       "2    Start in a forearm plank position with your el...  \n",
       "3    Stand with feet hip-width apart, barbell in fr...  \n",
       "4    Stand with a dumbbell in each hand, arms fully...  \n",
       "..                                                 ...  \n",
       "202  Lie face down on an incline bench with a dumbb...  \n",
       "203  Sit at a lat pulldown machine with a wide grip...  \n",
       "204  Stand facing a cable machine with the handle a...  \n",
       "205  Attach a rope handle to a high cable pulley. P...  \n",
       "206  Lie on a bench with a dumbbell in each hand. P...  \n",
       "\n",
       "[207 rows x 8 columns]"
      ]
     },
     "execution_count": 4,
     "metadata": {},
     "output_type": "execute_result"
    }
   ],
   "source": [
    "df"
   ]
  },
  {
   "cell_type": "code",
   "execution_count": 5,
   "id": "6ddb5123-1ea5-4df6-abd3-eaa0fbd8418f",
   "metadata": {},
   "outputs": [
    {
     "name": "stdout",
     "output_type": "stream",
     "text": [
      "--2025-09-07 11:46:53--  https://raw.githubusercontent.com/alexeygrigorev/minsearch/main/minsearch.py\n",
      "Resolving raw.githubusercontent.com (raw.githubusercontent.com)... 185.199.111.133, 185.199.108.133, 185.199.109.133, ...\n",
      "Connecting to raw.githubusercontent.com (raw.githubusercontent.com)|185.199.111.133|:443... connected.\n",
      "WARNING: cannot verify raw.githubusercontent.com's certificate, issued by ‘emailAddress=support@fortinet.com,CN=FG181FTK22900773,OU=Certificate Authority,O=Fortinet,L=Sunnyvale,ST=California,C=US’:\n",
      "  Unable to locally verify the issuer's authority.\n",
      "HTTP request sent, awaiting response... 200 OK\n",
      "Length: 4273 (4.2K) [text/plain]\n",
      "Saving to: ‘minsearch.py.1’\n",
      "\n",
      "minsearch.py.1      100%[===================>]   4.17K  --.-KB/s    in 0.001s  \n",
      "\n",
      "2025-09-07 11:46:54 (2.83 MB/s) - ‘minsearch.py.1’ saved [4273/4273]\n",
      "\n"
     ]
    }
   ],
   "source": [
    "!wget https://raw.githubusercontent.com/alexeygrigorev/minsearch/main/minsearch.py --no-check-certificate"
   ]
  },
  {
   "cell_type": "code",
   "execution_count": 6,
   "id": "3347f921-fb1a-4522-a9e2-4ff33dadda23",
   "metadata": {},
   "outputs": [
    {
     "name": "stderr",
     "output_type": "stream",
     "text": [
      "/mnt/d/backup/llm-zoomcamp/06-project-example/minsearch.py:10: UserWarning: Now minsearch is installable via pip: 'pip install minsearch'. Remove the downloaded file and re-install it with pip.\n",
      "  warnings.warn(\n"
     ]
    }
   ],
   "source": [
    "import minsearch"
   ]
  },
  {
   "cell_type": "code",
   "execution_count": 7,
   "id": "3d1cc9bc-718b-4f66-8425-b084a620535b",
   "metadata": {},
   "outputs": [
    {
     "data": {
      "text/plain": [
       "Index(['id', 'exercise_name', 'type_of_activity', 'type_of_equipment',\n",
       "       'body_part', 'type', 'muscle_groups_activated', 'instructions'],\n",
       "      dtype='object')"
      ]
     },
     "execution_count": 7,
     "metadata": {},
     "output_type": "execute_result"
    }
   ],
   "source": [
    "df.columns"
   ]
  },
  {
   "cell_type": "code",
   "execution_count": 8,
   "id": "fd607f93-d28a-4340-b026-1eca505dee10",
   "metadata": {},
   "outputs": [],
   "source": [
    "documents = df.to_dict(orient='records')"
   ]
  },
  {
   "cell_type": "code",
   "execution_count": 9,
   "id": "0e77a16b-3480-418e-86ea-598424085568",
   "metadata": {},
   "outputs": [
    {
     "data": {
      "text/plain": [
       "{'id': 15,\n",
       " 'exercise_name': 'Tricep Dips',\n",
       " 'type_of_activity': 'Strength',\n",
       " 'type_of_equipment': 'Bodyweight',\n",
       " 'body_part': 'Upper Body',\n",
       " 'type': 'Push',\n",
       " 'muscle_groups_activated': 'Triceps, Deltoids',\n",
       " 'instructions': 'Place your hands behind you on a bench or chair. Lower your body by bending your elbows, then push back up to the starting position.'}"
      ]
     },
     "execution_count": 9,
     "metadata": {},
     "output_type": "execute_result"
    }
   ],
   "source": [
    "documents[15]"
   ]
  },
  {
   "cell_type": "code",
   "execution_count": 21,
   "id": "93832594-0c01-47ce-9db2-a3233457c72c",
   "metadata": {},
   "outputs": [],
   "source": [
    "index = minsearch.Index(\n",
    "    text_fields=['exercise_name', 'type_of_activity', 'type_of_equipment',\n",
    "       'body_part', 'type', 'muscle_groups_activated', 'instructions'],\n",
    "    keyword_fields=[]\n",
    ")"
   ]
  },
  {
   "cell_type": "code",
   "execution_count": 22,
   "id": "196e7807-ee2d-45bc-901c-ba6b43f6d1ee",
   "metadata": {},
   "outputs": [
    {
     "data": {
      "text/plain": [
       "<minsearch.Index at 0x711102fd3ec0>"
      ]
     },
     "execution_count": 22,
     "metadata": {},
     "output_type": "execute_result"
    }
   ],
   "source": [
    "index.fit(documents)"
   ]
  },
  {
   "cell_type": "code",
   "execution_count": 27,
   "id": "2c6f268b-e661-40b6-b6f7-30b7e024dded",
   "metadata": {},
   "outputs": [],
   "source": [
    "query = \"give me leg exercises for hamstrings\""
   ]
  },
  {
   "cell_type": "code",
   "execution_count": 29,
   "id": "7506f966-9383-433e-a25f-5da3a33be8ab",
   "metadata": {},
   "outputs": [
    {
     "data": {
      "text/plain": [
       "[{'id': 118,\n",
       "  'exercise_name': 'Leg Curl',\n",
       "  'type_of_activity': 'Strength',\n",
       "  'type_of_equipment': 'Machine',\n",
       "  'body_part': 'Lower Body',\n",
       "  'type': 'Pull',\n",
       "  'muscle_groups_activated': 'Hamstrings',\n",
       "  'instructions': 'Lie face down on a leg curl machine and curl the pad towards your glutes, then return to the starting position.'},\n",
       " {'id': 95,\n",
       "  'exercise_name': 'Machine Leg Curl',\n",
       "  'type_of_activity': 'Strength',\n",
       "  'type_of_equipment': 'Machine',\n",
       "  'body_part': 'Lower Body',\n",
       "  'type': 'Pull',\n",
       "  'muscle_groups_activated': 'Hamstrings',\n",
       "  'instructions': 'Sit on a leg curl machine and curl the pad down towards your glutes, then return to the starting position.'},\n",
       " {'id': 109,\n",
       "  'exercise_name': 'Seated Leg Curl',\n",
       "  'type_of_activity': 'Strength',\n",
       "  'type_of_equipment': 'Machine',\n",
       "  'body_part': 'Lower Body',\n",
       "  'type': 'Pull',\n",
       "  'muscle_groups_activated': 'Hamstrings',\n",
       "  'instructions': 'Sit on a leg curl machine and curl the pad down towards your glutes, then return to the starting position.'},\n",
       " {'id': 140,\n",
       "  'exercise_name': 'Lying Leg Curl',\n",
       "  'type_of_activity': 'Strength',\n",
       "  'type_of_equipment': 'Machine',\n",
       "  'body_part': 'Lower Body',\n",
       "  'type': 'Pull',\n",
       "  'muscle_groups_activated': 'Hamstrings',\n",
       "  'instructions': 'Lie face down on a leg curl machine and curl the pad towards your glutes, then return to the starting position.'},\n",
       " {'id': 164,\n",
       "  'exercise_name': 'Prone Leg Curl',\n",
       "  'type_of_activity': 'Strength',\n",
       "  'type_of_equipment': 'Machine',\n",
       "  'body_part': 'Lower Body',\n",
       "  'type': 'Pull',\n",
       "  'muscle_groups_activated': 'Hamstrings',\n",
       "  'instructions': 'Lie face down on a leg curl machine and curl the pad towards your glutes, then return to the starting position.'},\n",
       " {'id': 38,\n",
       "  'exercise_name': 'Leg Press',\n",
       "  'type_of_activity': 'Strength',\n",
       "  'type_of_equipment': 'Machine',\n",
       "  'body_part': 'Lower Body',\n",
       "  'type': 'Push',\n",
       "  'muscle_groups_activated': 'Quadriceps, Glutes, Hamstrings',\n",
       "  'instructions': 'Sit on a leg press machine with your feet shoulder-width apart on the platform. Push the platform away by extending your legs.'},\n",
       " {'id': 157,\n",
       "  'exercise_name': 'Single-Leg Squat',\n",
       "  'type_of_activity': 'Strength',\n",
       "  'type_of_equipment': 'Bodyweight',\n",
       "  'body_part': 'Lower Body',\n",
       "  'type': 'Push',\n",
       "  'muscle_groups_activated': 'Quadriceps, Glutes, Hamstrings',\n",
       "  'instructions': 'Stand on one leg with the other leg extended in front of you. Lower your hips until your thigh is parallel to the floor, then push back up.'},\n",
       " {'id': 93,\n",
       "  'exercise_name': 'Single-Leg Glute Bridge',\n",
       "  'type_of_activity': 'Strength',\n",
       "  'type_of_equipment': 'Bodyweight',\n",
       "  'body_part': 'Lower Body',\n",
       "  'type': 'Push',\n",
       "  'muscle_groups_activated': 'Glutes, Hamstrings',\n",
       "  'instructions': 'Lie on your back with one foot on the ground and the other leg extended. Lift your hips towards the ceiling.'},\n",
       " {'id': 8,\n",
       "  'exercise_name': 'Hamstring Stretch',\n",
       "  'type_of_activity': 'Mobility',\n",
       "  'type_of_equipment': 'Bodyweight',\n",
       "  'body_part': 'Lower Body',\n",
       "  'type': 'Stretch',\n",
       "  'muscle_groups_activated': 'Hamstrings',\n",
       "  'instructions': 'Stand upright and place one heel on a bench or step. Lean forward slightly to feel a stretch in the hamstring of the elevated leg.'},\n",
       " {'id': 40,\n",
       "  'exercise_name': 'Single-Leg Deadlift',\n",
       "  'type_of_activity': 'Strength',\n",
       "  'type_of_equipment': 'Dumbbells',\n",
       "  'body_part': 'Lower Body',\n",
       "  'type': 'Pull',\n",
       "  'muscle_groups_activated': 'Hamstrings, Glutes, Lower Back',\n",
       "  'instructions': 'Stand on one leg, holding a dumbbell in the opposite hand. Bend at the hips to lower the weight while extending the free leg behind you.'}]"
      ]
     },
     "execution_count": 29,
     "metadata": {},
     "output_type": "execute_result"
    }
   ],
   "source": [
    "index.search(query, num_results=10)"
   ]
  },
  {
   "cell_type": "code",
   "execution_count": 34,
   "id": "78171509-c8fa-4153-b0f3-e3d02a4b53e3",
   "metadata": {},
   "outputs": [],
   "source": [
    "from mistralai import Mistral\n",
    "from mistralai.models import UserMessage\n",
    "import os\n",
    "from dotenv import load_dotenv\n"
   ]
  },
  {
   "cell_type": "code",
   "execution_count": 31,
   "id": "7c3f3210-44ba-4109-a993-6edf285cd981",
   "metadata": {},
   "outputs": [
    {
     "data": {
      "text/plain": [
       "True"
      ]
     },
     "execution_count": 31,
     "metadata": {},
     "output_type": "execute_result"
    }
   ],
   "source": [
    "# loads variables from .env\n",
    "load_dotenv()  "
   ]
  },
  {
   "cell_type": "code",
   "execution_count": 32,
   "id": "ffd67c2b-b335-4075-9c3e-07b23b87b589",
   "metadata": {},
   "outputs": [],
   "source": [
    "api_key = os.getenv(\"API_KEY\")"
   ]
  },
  {
   "cell_type": "code",
   "execution_count": 40,
   "id": "62436307-b1c1-4a65-9962-1e698f9ed067",
   "metadata": {},
   "outputs": [
    {
     "data": {
      "text/plain": [
       "'Here’s a **comprehensive list of hamstring exercises** to strengthen, build, and improve flexibility in your hamstrings. These exercises target the **biceps femoris, semitendinosus, and semimembranosus** muscles.\\n\\n---\\n\\n### **1. Bodyweight Hamstring Exercises (No Equipment)**\\nGreat for beginners or warm-ups:\\n- **Glute-Hamstring Raise (GHR) – Eccentric Focus**\\n  - Kneel on a soft surface, have a partner hold your ankles (or use a GHR machine).\\n  - Lower yourself slowly (3–5 sec) to the ground, resisting with your hamstrings.\\n  - Use your hands to push back up.\\n  - *Reps:* 3–5 (focus on slow negatives).\\n\\n- **Single-Leg Deadlift (Bodyweight)**\\n  - Stand on one leg, hinge at the hips, and extend the other leg back while lowering your torso.\\n  - Keep your back straight and engage your hamstrings.\\n  - *Reps:* 8–12 per leg.\\n\\n- **Sliding Leg Curl (Use towels or sliders on hard floor)**\\n  - Lie on your back, heels on sliders, lift hips, and slide heels toward your glutes.\\n  - *Reps:* 10–15.\\n\\n- **Nordic Hamstring Curl (Advanced)**\\n  - Kneel with ankles secured, lower yourself slowly to the ground, then push back up.\\n  - *Reps:* 3–6 (focus on control).\\n\\n- **Reverse Plank Leg Lift**\\n  - Sit with legs extended, hands behind you, lift one leg while keeping the other straight.\\n  - *Reps:* 10–12 per leg.\\n\\n---\\n\\n### **2. Dumbbell/Kettlebell Hamstring Exercises**\\n- **Romanian Deadlift (RDL)**\\n  - Hold dumbbells/kettlebells, hinge at hips, lower weights along legs while keeping knees slightly bent.\\n  - *Reps:* 8–12.\\n\\n- **Single-Leg RDL**\\n  - Same as RDL but on one leg (great for balance and unilateral strength).\\n  - *Reps:* 6–10 per leg.\\n\\n- **Dumbbell Good Morning**\\n  - Hold a dumbbell on your upper back, hinge forward at hips, then return.\\n  - *Reps:* 8–12.\\n\\n- **Kettlebell Swing (Hip Hinge Focus)**\\n  - Explosive hip drive to swing the kettlebell up (primarily hamstrings & glutes).\\n  - *Reps:* 12–15.\\n\\n---\\n\\n### **3. Barbell Hamstring Exercises (Heavy Loading)**\\n- **Barbell Romanian Deadlift (RDL)**\\n  - Similar to dumbbell RDL but with a barbell for heavier loads.\\n  - *Reps:* 6–10.\\n\\n- **Barbell Good Morning**\\n  - Bar on upper back, hinge forward, then drive hips forward.\\n  - *Reps:* 6–10.\\n\\n- **Barbell Hip Thrust (Hamstring Focus)**\\n  - Place feet higher on a bench to emphasize hamstrings over glutes.\\n  - *Reps:* 8–12.\\n\\n- **Deficit Deadlift (Stand on a plate)**\\n  - Increases range of motion, stretching hamstrings more.\\n  - *Reps:* 5–8.\\n\\n---\\n\\n### **4. Machine/Cable Hamstring Exercises**\\n- **Seated Leg Curl**\\n  - Adjust pad to hit hamstrings at different angles.\\n  - *Reps:* 10–15.\\n\\n- **Lying Leg Curl**\\n  - Lie face down, curl heels toward glutes.\\n  - *Reps:* 10–15.\\n\\n- **Standing Cable Leg Curl**\\n  - Attach ankle strap to low cable, curl heel toward glutes.\\n  - *Reps:* 10–12 per leg.\\n\\n- **Glute-Hamstring Developer (GHD) Machine**\\n  - Full hamstring and glute engagement.\\n  - *Reps:* 8–12.\\n\\n---\\n\\n### **5. Resistance Band Hamstring Exercises**\\n- **Band-Resisted Leg Curl**\\n  - Anchor band to a low point, loop around ankle, curl heel up.\\n  - *Reps:* 12–15 per leg.\\n\\n- **Band Pull-Throughs**\\n  - Step on band, hinge at hips, pull band through legs.\\n  - *Reps:* 10–12.\\n\\n- **Band Nordic Hamstring Curl**\\n  - Anchor band behind you, kneel, and lower slowly.\\n  - *Reps:* 5–8.\\n\\n---\\n\\n### **6. Stretching & Mobility for Hamstrings**\\n- **Seated Forward Fold** (30–60 sec)\\n- **Standing Toe Touch** (30 sec per leg)\\n- **Lying Hamstring Stretch with Strap** (30 sec per leg)\\n- **Dynamic Leg Swings** (10 per leg)\\n\\n---\\n\\n### **Sample Hamstring Workout Routine**\\n**Beginner:**\\n1. Bodyweight Glute-Ham Raise (3x5)\\n2. Dumbbell RDL (3x10)\\n3. Seated Leg Curl (3x12)\\n4. Standing Hamstring Stretch (30 sec per leg)\\n\\n**Intermediate/Advanced:**\\n1. Barbell RDL (4x8)\\n2. Nordic Hamstring Curl (3x6)\\n3. Single-Leg Cable Leg Curl (3x10 per leg)\\n4. Band Pull-Throughs (3x12)\\n\\n**For Flexibility & Injury Prevention:**\\n- **Eccentric Hamstring Curls (Slow Negatives)** – 3x5\\n- **Dynamic Stretching (Leg Swings, Lunge with Twist)** – 2x10 per leg\\n\\n---\\n### **Key Tips:**\\n✅ **Progressive Overload** – Increase weight/reps gradually.\\n✅ **Control the Eccentric** – Lower weights slowly (3–5 sec) for hamstring growth.\\n✅ **Hip Hinge, Don’t Round Your Back** – Keep spine neutral to avoid injury.\\n✅ **Train Unilaterally** – Single-leg work fixes imbalances.\\n✅ **Stretch Post-Workout** – Reduces tightness and improves recovery.\\n\\nWould you like a **sport-specific** (e.g., sprinting, soccer, powerlifting) hamstring program? Let me know! 💪'"
      ]
     },
     "execution_count": 40,
     "metadata": {},
     "output_type": "execute_result"
    }
   ],
   "source": [
    "client = Mistral(api_key = api_key)\n",
    "response = client.chat.complete(\n",
    "    model= \"mistral-medium-latest\",\n",
    "    messages=[UserMessage(content=query)],\n",
    ")\n",
    "\n",
    "\n",
    "response.choices[0].message.content"
   ]
  },
  {
   "cell_type": "markdown",
   "id": "2f452dea-a022-4516-8206-86be784ba9d1",
   "metadata": {},
   "source": [
    "## RAG flow\n"
   ]
  },
  {
   "cell_type": "code",
   "execution_count": 41,
   "id": "542bce80-4ce6-4be0-8f23-af132d11a659",
   "metadata": {},
   "outputs": [],
   "source": [
    "def search(query):\n",
    "    boost = {}\n",
    "\n",
    "    results = index.search(\n",
    "        query=query,\n",
    "        filter_dict={},\n",
    "        boost_dict=boost,\n",
    "        num_results=10\n",
    "    )\n",
    "\n",
    "    return results"
   ]
  },
  {
   "cell_type": "code",
   "execution_count": 42,
   "id": "fe9b2c53-1813-4856-a86c-d627ca7a08d4",
   "metadata": {},
   "outputs": [],
   "source": [
    "prompt_template = \"\"\"\n",
    "You're a fitness insrtuctor. Answer the QUESTION based on the CONTEXT from our exercises database.\n",
    "Use only the facts from the CONTEXT when answering the QUESTION.\n",
    "\n",
    "QUESTION: {question}\n",
    "\n",
    "CONTEXT:\n",
    "{context}\n",
    "\"\"\".strip()\n",
    "\n",
    "entry_template = \"\"\"\n",
    "exercise_name: {exercise_name}\n",
    "type_of_activity: {type_of_activity}\n",
    "type_of_equipment: {type_of_equipment}\n",
    "body_part: {body_part}\n",
    "type: {type}\n",
    "muscle_groups_activated: {muscle_groups_activated}\n",
    "instructions: {instructions}\n",
    "\"\"\".strip()\n",
    "\n",
    "def build_prompt(query, search_results):\n",
    "    context = \"\"\n",
    "    \n",
    "    for doc in search_results:\n",
    "        context = context + entry_template.format(**doc) + \"\\n\\n\"\n",
    "\n",
    "    prompt = prompt_template.format(question=query, context=context).strip()\n",
    "    return prompt"
   ]
  },
  {
   "cell_type": "code",
   "execution_count": 48,
   "id": "6f77b8a9-2f00-4e68-8626-c693d13e1760",
   "metadata": {},
   "outputs": [],
   "source": [
    "search_results = search(query)\n",
    "prompt = build_prompt(query, search_results)"
   ]
  },
  {
   "cell_type": "code",
   "execution_count": 50,
   "id": "310dc891-daad-4395-9de1-70090a73614d",
   "metadata": {},
   "outputs": [
    {
     "name": "stdout",
     "output_type": "stream",
     "text": [
      "You're a fitness insrtuctor. Answer the QUESTION based on the CONTEXT from our exercises database.\n",
      "Use only the facts from the CONTEXT when answering the QUESTION.\n",
      "\n",
      "QUESTION: give me leg exercises for hamstrings\n",
      "\n",
      "CONTEXT:\n",
      "exercise_name: Leg Curl\n",
      "type_of_activity: Strength\n",
      "type_of_equipment: Machine\n",
      "body_part: Lower Body\n",
      "type: Pull\n",
      "muscle_groups_activated: Hamstrings\n",
      "instructions: Lie face down on a leg curl machine and curl the pad towards your glutes, then return to the starting position.\n",
      "\n",
      "exercise_name: Machine Leg Curl\n",
      "type_of_activity: Strength\n",
      "type_of_equipment: Machine\n",
      "body_part: Lower Body\n",
      "type: Pull\n",
      "muscle_groups_activated: Hamstrings\n",
      "instructions: Sit on a leg curl machine and curl the pad down towards your glutes, then return to the starting position.\n",
      "\n",
      "exercise_name: Seated Leg Curl\n",
      "type_of_activity: Strength\n",
      "type_of_equipment: Machine\n",
      "body_part: Lower Body\n",
      "type: Pull\n",
      "muscle_groups_activated: Hamstrings\n",
      "instructions: Sit on a leg curl machine and curl the pad down towards your glutes, then return to the starting position.\n",
      "\n",
      "exercise_name: Lying Leg Curl\n",
      "type_of_activity: Strength\n",
      "type_of_equipment: Machine\n",
      "body_part: Lower Body\n",
      "type: Pull\n",
      "muscle_groups_activated: Hamstrings\n",
      "instructions: Lie face down on a leg curl machine and curl the pad towards your glutes, then return to the starting position.\n",
      "\n",
      "exercise_name: Prone Leg Curl\n",
      "type_of_activity: Strength\n",
      "type_of_equipment: Machine\n",
      "body_part: Lower Body\n",
      "type: Pull\n",
      "muscle_groups_activated: Hamstrings\n",
      "instructions: Lie face down on a leg curl machine and curl the pad towards your glutes, then return to the starting position.\n",
      "\n",
      "exercise_name: Leg Press\n",
      "type_of_activity: Strength\n",
      "type_of_equipment: Machine\n",
      "body_part: Lower Body\n",
      "type: Push\n",
      "muscle_groups_activated: Quadriceps, Glutes, Hamstrings\n",
      "instructions: Sit on a leg press machine with your feet shoulder-width apart on the platform. Push the platform away by extending your legs.\n",
      "\n",
      "exercise_name: Single-Leg Squat\n",
      "type_of_activity: Strength\n",
      "type_of_equipment: Bodyweight\n",
      "body_part: Lower Body\n",
      "type: Push\n",
      "muscle_groups_activated: Quadriceps, Glutes, Hamstrings\n",
      "instructions: Stand on one leg with the other leg extended in front of you. Lower your hips until your thigh is parallel to the floor, then push back up.\n",
      "\n",
      "exercise_name: Single-Leg Glute Bridge\n",
      "type_of_activity: Strength\n",
      "type_of_equipment: Bodyweight\n",
      "body_part: Lower Body\n",
      "type: Push\n",
      "muscle_groups_activated: Glutes, Hamstrings\n",
      "instructions: Lie on your back with one foot on the ground and the other leg extended. Lift your hips towards the ceiling.\n",
      "\n",
      "exercise_name: Hamstring Stretch\n",
      "type_of_activity: Mobility\n",
      "type_of_equipment: Bodyweight\n",
      "body_part: Lower Body\n",
      "type: Stretch\n",
      "muscle_groups_activated: Hamstrings\n",
      "instructions: Stand upright and place one heel on a bench or step. Lean forward slightly to feel a stretch in the hamstring of the elevated leg.\n",
      "\n",
      "exercise_name: Single-Leg Deadlift\n",
      "type_of_activity: Strength\n",
      "type_of_equipment: Dumbbells\n",
      "body_part: Lower Body\n",
      "type: Pull\n",
      "muscle_groups_activated: Hamstrings, Glutes, Lower Back\n",
      "instructions: Stand on one leg, holding a dumbbell in the opposite hand. Bend at the hips to lower the weight while extending the free leg behind you.\n"
     ]
    }
   ],
   "source": [
    "print(prompt)"
   ]
  },
  {
   "cell_type": "code",
   "execution_count": 44,
   "id": "11b92e00-0573-4e00-8349-828a1d5e86b8",
   "metadata": {},
   "outputs": [],
   "source": [
    "def llm(prompt, model='mistral-medium-latest'):\n",
    "    client = Mistral(api_key = api_key)\n",
    "    response = client.chat.complete(\n",
    "        model= model,\n",
    "        messages=[UserMessage(content=prompt)],\n",
    "    )    \n",
    "    return response.choices[0].message.content"
   ]
  },
  {
   "cell_type": "code",
   "execution_count": 51,
   "id": "7e129468-5548-4272-98be-866c0169b10d",
   "metadata": {},
   "outputs": [],
   "source": [
    "def rag(query):\n",
    "    search_results = search(query)\n",
    "    prompt = build_prompt(query, search_results)\n",
    "    answer = llm(prompt)\n",
    "    return answer\n",
    "\n"
   ]
  },
  {
   "cell_type": "code",
   "execution_count": 52,
   "id": "3e64f1a1-947d-4ed0-a57b-a8f4fc3b226b",
   "metadata": {},
   "outputs": [
    {
     "name": "stdout",
     "output_type": "stream",
     "text": [
      "Here are the **hamstring-focused leg exercises** from the database:\n",
      "\n",
      "### **Machine-Based Exercises (Strength, Pull)**\n",
      "1. **Leg Curl**\n",
      "   - *Instructions:* Lie face down on a leg curl machine and curl the pad towards your glutes, then return to the starting position.\n",
      "\n",
      "2. **Machine Leg Curl**\n",
      "   - *Instructions:* Sit on a leg curl machine and curl the pad down towards your glutes, then return to the starting position.\n",
      "\n",
      "3. **Seated Leg Curl**\n",
      "   - *Instructions:* Sit on a leg curl machine and curl the pad down towards your glutes, then return to the starting position.\n",
      "\n",
      "4. **Lying Leg Curl**\n",
      "   - *Instructions:* Lie face down on a leg curl machine and curl the pad towards your glutes, then return to the starting position.\n",
      "\n",
      "5. **Prone Leg Curl**\n",
      "   - *Instructions:* Lie face down on a leg curl machine and curl the pad towards your glutes, then return to the starting position.\n",
      "\n",
      "### **Bodyweight & Dumbbell Exercises (Strength, Pull/Push)**\n",
      "6. **Single-Leg Deadlift** *(Dumbbells, Pull)*\n",
      "   - *Instructions:* Stand on one leg, holding a dumbbell in the opposite hand. Bend at the hips to lower the weight while extending the free leg behind you.\n",
      "\n",
      "7. **Single-Leg Glute Bridge** *(Bodyweight, Push – also targets hamstrings)*\n",
      "   - *Instructions:* Lie on your back with one foot on the ground and the other leg extended. Lift your hips towards the ceiling.\n",
      "\n",
      "### **Mobility (Stretch)**\n",
      "8. **Hamstring Stretch** *(Bodyweight, Stretch)*\n",
      "   - *Instructions:* Stand upright and place one heel on a bench or step. Lean forward slightly to feel a stretch in the hamstring of the elevated leg.\n",
      "\n",
      "---\n",
      "**Note:** *Leg Press* and *Single-Leg Squat* also engage the hamstrings but are primarily **quad-dominant** exercises. For **isolated hamstring work**, prioritize **leg curls** and **single-leg deadlifts**.\n"
     ]
    }
   ],
   "source": [
    "# question = 'Is the Lat Pulldown considered a strength training activity, and if so, why?'\n",
    "answer = rag(query)\n",
    "print(answer)"
   ]
  },
  {
   "cell_type": "code",
   "execution_count": 53,
   "id": "3ffdaf5d-63d7-4d86-b5e1-0e3d5d401c89",
   "metadata": {},
   "outputs": [
    {
     "name": "stdout",
     "output_type": "stream",
     "text": [
      "Based on the **CONTEXT**, here are the **core exercises that also help your back** by activating the **lower back** muscles:\n",
      "\n",
      "1. **Superman Exercise**\n",
      "   - **Muscles Worked:** Lower Back, Glutes, Hamstrings\n",
      "   - **Instructions:** Lie face down on the floor with arms extended. Lift your arms, chest, and legs off the ground simultaneously, then lower them back down.\n",
      "\n",
      "2. **Machine Back Extension**\n",
      "   - **Muscles Worked:** Lower Back, Glutes, Hamstrings\n",
      "   - **Instructions:** Sit on a back extension machine with your feet braced. Extend your hips to lift your torso, then lower back down.\n",
      "\n",
      "These two exercises specifically target the **lower back** while engaging the core. If you want additional core stability, you could pair them with exercises like the **Dead Bug** or **Side Plank with Leg Lift**, though those focus more on the **obliques and rectus abdominis** rather than the back.\n"
     ]
    }
   ],
   "source": [
    "# Ask another question \n",
    "answer = rag('I want some core exercises that also help my back')\n",
    "print(answer)"
   ]
  },
  {
   "cell_type": "code",
   "execution_count": null,
   "id": "a82f10b5-181a-406e-835d-8528aa4c679b",
   "metadata": {},
   "outputs": [],
   "source": []
  }
 ],
 "metadata": {
  "kernelspec": {
   "display_name": "Python 3 (ipykernel)",
   "language": "python",
   "name": "python3"
  },
  "language_info": {
   "codemirror_mode": {
    "name": "ipython",
    "version": 3
   },
   "file_extension": ".py",
   "mimetype": "text/x-python",
   "name": "python",
   "nbconvert_exporter": "python",
   "pygments_lexer": "ipython3",
   "version": "3.12.2"
  }
 },
 "nbformat": 4,
 "nbformat_minor": 5
}
