{
 "cells": [
  {
   "cell_type": "markdown",
   "id": "517bc80b-0dec-4507-b58d-c5cc7f88d0e0",
   "metadata": {},
   "source": [
    "# First, let's install the required libraries for this task.\n"
   ]
  },
  {
   "cell_type": "code",
   "execution_count": 2,
   "id": "41c5025c-f6b3-4451-b74f-122b7490f7c8",
   "metadata": {},
   "outputs": [
    {
     "name": "stdout",
     "output_type": "stream",
     "text": [
      "Requirement already satisfied: dlt[qdrant] in /home/hager/home/hager/miniconda33/lib/python3.12/site-packages (1.12.3)\n",
      "Requirement already satisfied: qdrant-client[fastembed] in /home/hager/home/hager/miniconda33/lib/python3.12/site-packages (1.14.2)\n",
      "Requirement already satisfied: click>=7.1 in /home/hager/home/hager/miniconda33/lib/python3.12/site-packages (from dlt[qdrant]) (8.1.8)\n",
      "Requirement already satisfied: fsspec>=2022.4.0 in /home/hager/home/hager/miniconda33/lib/python3.12/site-packages (from dlt[qdrant]) (2025.5.1)\n",
      "Requirement already satisfied: gitpython>=3.1.29 in /home/hager/home/hager/miniconda33/lib/python3.12/site-packages (from dlt[qdrant]) (3.1.44)\n",
      "Requirement already satisfied: giturlparse>=0.10.0 in /home/hager/home/hager/miniconda33/lib/python3.12/site-packages (from dlt[qdrant]) (0.12.0)\n",
      "Requirement already satisfied: hexbytes>=0.2.2 in /home/hager/home/hager/miniconda33/lib/python3.12/site-packages (from dlt[qdrant]) (1.3.1)\n",
      "Requirement already satisfied: humanize>=4.4.0 in /home/hager/home/hager/miniconda33/lib/python3.12/site-packages (from dlt[qdrant]) (4.12.3)\n",
      "Requirement already satisfied: jsonpath-ng>=1.5.3 in /home/hager/home/hager/miniconda33/lib/python3.12/site-packages (from dlt[qdrant]) (1.7.0)\n",
      "Requirement already satisfied: orjson!=3.10.1,!=3.9.11,!=3.9.12,!=3.9.13,!=3.9.14,<4,>=3.6.7 in /home/hager/home/hager/miniconda33/lib/python3.12/site-packages (from dlt[qdrant]) (3.10.15)\n",
      "Requirement already satisfied: packaging>=21.1 in /home/hager/home/hager/miniconda33/lib/python3.12/site-packages (from dlt[qdrant]) (24.1)\n",
      "Requirement already satisfied: pathvalidate>=2.5.2 in /home/hager/home/hager/miniconda33/lib/python3.12/site-packages (from dlt[qdrant]) (3.3.1)\n",
      "Requirement already satisfied: pendulum>=2.1.2 in /home/hager/home/hager/miniconda33/lib/python3.12/site-packages (from dlt[qdrant]) (3.1.0)\n",
      "Requirement already satisfied: pluggy>=1.3.0 in /home/hager/home/hager/miniconda33/lib/python3.12/site-packages (from dlt[qdrant]) (1.5.0)\n",
      "Requirement already satisfied: pytz>=2022.6 in /home/hager/home/hager/miniconda33/lib/python3.12/site-packages (from dlt[qdrant]) (2025.2)\n",
      "Requirement already satisfied: pyyaml>=5.4.1 in /home/hager/home/hager/miniconda33/lib/python3.12/site-packages (from dlt[qdrant]) (6.0.2)\n",
      "Requirement already satisfied: requests>=2.26.0 in /home/hager/home/hager/miniconda33/lib/python3.12/site-packages (from dlt[qdrant]) (2.32.3)\n",
      "Requirement already satisfied: requirements-parser>=0.5.0 in /home/hager/home/hager/miniconda33/lib/python3.12/site-packages (from dlt[qdrant]) (0.13.0)\n",
      "Requirement already satisfied: rich-argparse>=1.6.0 in /home/hager/home/hager/miniconda33/lib/python3.12/site-packages (from dlt[qdrant]) (1.7.1)\n",
      "Requirement already satisfied: semver>=3.0.0 in /home/hager/home/hager/miniconda33/lib/python3.12/site-packages (from dlt[qdrant]) (3.0.4)\n",
      "Requirement already satisfied: setuptools>=65.6.0 in /home/hager/home/hager/miniconda33/lib/python3.12/site-packages (from dlt[qdrant]) (75.1.0)\n",
      "Requirement already satisfied: simplejson>=3.17.5 in /home/hager/home/hager/miniconda33/lib/python3.12/site-packages (from dlt[qdrant]) (3.20.1)\n",
      "Requirement already satisfied: sqlglot>=25.4.0 in /home/hager/home/hager/miniconda33/lib/python3.12/site-packages (from dlt[qdrant]) (26.33.0)\n",
      "Requirement already satisfied: tenacity>=8.0.2 in /home/hager/home/hager/miniconda33/lib/python3.12/site-packages (from dlt[qdrant]) (9.0.0)\n",
      "Requirement already satisfied: tomlkit>=0.11.3 in /home/hager/home/hager/miniconda33/lib/python3.12/site-packages (from dlt[qdrant]) (0.13.3)\n",
      "Requirement already satisfied: typing-extensions>=4.8.0 in /home/hager/home/hager/miniconda33/lib/python3.12/site-packages (from dlt[qdrant]) (4.12.2)\n",
      "Requirement already satisfied: tzdata>=2022.1 in /home/hager/home/hager/miniconda33/lib/python3.12/site-packages (from dlt[qdrant]) (2025.2)\n",
      "Requirement already satisfied: fastembed==0.6.1 in /home/hager/home/hager/miniconda33/lib/python3.12/site-packages (from qdrant-client[fastembed]) (0.6.1)\n",
      "Requirement already satisfied: grpcio>=1.41.0 in /home/hager/home/hager/miniconda33/lib/python3.12/site-packages (from qdrant-client[fastembed]) (1.73.0)\n",
      "Requirement already satisfied: httpx>=0.20.0 in /home/hager/home/hager/miniconda33/lib/python3.12/site-packages (from httpx[http2]>=0.20.0->qdrant-client[fastembed]) (0.28.1)\n",
      "Requirement already satisfied: numpy>=1.26 in /home/hager/home/hager/miniconda33/lib/python3.12/site-packages (from qdrant-client[fastembed]) (2.2.4)\n",
      "Requirement already satisfied: portalocker<3.0.0,>=2.7.0 in /home/hager/home/hager/miniconda33/lib/python3.12/site-packages (from qdrant-client[fastembed]) (2.10.1)\n",
      "Requirement already satisfied: protobuf>=3.20.0 in /home/hager/home/hager/miniconda33/lib/python3.12/site-packages (from qdrant-client[fastembed]) (6.31.1)\n",
      "Requirement already satisfied: pydantic!=2.0.*,!=2.1.*,!=2.2.0,>=1.10.8 in /home/hager/home/hager/miniconda33/lib/python3.12/site-packages (from qdrant-client[fastembed]) (2.10.6)\n",
      "Requirement already satisfied: urllib3<3,>=1.26.14 in /home/hager/home/hager/miniconda33/lib/python3.12/site-packages (from qdrant-client[fastembed]) (2.2.3)\n",
      "Requirement already satisfied: huggingface-hub<1.0,>=0.20 in /home/hager/home/hager/miniconda33/lib/python3.12/site-packages (from fastembed==0.6.1->qdrant-client[fastembed]) (0.32.4)\n",
      "Requirement already satisfied: loguru<0.8.0,>=0.7.2 in /home/hager/home/hager/miniconda33/lib/python3.12/site-packages (from fastembed==0.6.1->qdrant-client[fastembed]) (0.7.3)\n",
      "Requirement already satisfied: mmh3<6.0.0,>=4.1.0 in /home/hager/home/hager/miniconda33/lib/python3.12/site-packages (from fastembed==0.6.1->qdrant-client[fastembed]) (5.1.0)\n",
      "Requirement already satisfied: onnxruntime!=1.20.0,>=1.17.0 in /home/hager/home/hager/miniconda33/lib/python3.12/site-packages (from fastembed==0.6.1->qdrant-client[fastembed]) (1.22.0)\n",
      "Requirement already satisfied: pillow<12.0.0,>=10.3.0 in /home/hager/home/hager/miniconda33/lib/python3.12/site-packages (from fastembed==0.6.1->qdrant-client[fastembed]) (11.2.1)\n",
      "Requirement already satisfied: py-rust-stemmers<0.2.0,>=0.1.0 in /home/hager/home/hager/miniconda33/lib/python3.12/site-packages (from fastembed==0.6.1->qdrant-client[fastembed]) (0.1.5)\n",
      "Requirement already satisfied: tokenizers<1.0,>=0.15 in /home/hager/home/hager/miniconda33/lib/python3.12/site-packages (from fastembed==0.6.1->qdrant-client[fastembed]) (0.21.1)\n",
      "Requirement already satisfied: tqdm<5.0,>=4.66 in /home/hager/home/hager/miniconda33/lib/python3.12/site-packages (from fastembed==0.6.1->qdrant-client[fastembed]) (4.66.5)\n",
      "Requirement already satisfied: gitdb<5,>=4.0.1 in /home/hager/home/hager/miniconda33/lib/python3.12/site-packages (from gitpython>=3.1.29->dlt[qdrant]) (4.0.12)\n",
      "Requirement already satisfied: anyio in /home/hager/home/hager/miniconda33/lib/python3.12/site-packages (from httpx>=0.20.0->httpx[http2]>=0.20.0->qdrant-client[fastembed]) (4.9.0)\n",
      "Requirement already satisfied: certifi in /home/hager/home/hager/miniconda33/lib/python3.12/site-packages (from httpx>=0.20.0->httpx[http2]>=0.20.0->qdrant-client[fastembed]) (2025.6.15)\n",
      "Requirement already satisfied: httpcore==1.* in /home/hager/home/hager/miniconda33/lib/python3.12/site-packages (from httpx>=0.20.0->httpx[http2]>=0.20.0->qdrant-client[fastembed]) (1.0.7)\n",
      "Requirement already satisfied: idna in /home/hager/home/hager/miniconda33/lib/python3.12/site-packages (from httpx>=0.20.0->httpx[http2]>=0.20.0->qdrant-client[fastembed]) (3.7)\n",
      "Requirement already satisfied: h11<0.15,>=0.13 in /home/hager/home/hager/miniconda33/lib/python3.12/site-packages (from httpcore==1.*->httpx>=0.20.0->httpx[http2]>=0.20.0->qdrant-client[fastembed]) (0.14.0)\n",
      "Requirement already satisfied: h2<5,>=3 in /home/hager/home/hager/miniconda33/lib/python3.12/site-packages (from httpx[http2]>=0.20.0->qdrant-client[fastembed]) (4.2.0)\n",
      "Requirement already satisfied: ply in /home/hager/home/hager/miniconda33/lib/python3.12/site-packages (from jsonpath-ng>=1.5.3->dlt[qdrant]) (3.11)\n",
      "Requirement already satisfied: python-dateutil>=2.6 in /home/hager/home/hager/miniconda33/lib/python3.12/site-packages (from pendulum>=2.1.2->dlt[qdrant]) (2.9.0.post0)\n",
      "Requirement already satisfied: annotated-types>=0.6.0 in /home/hager/home/hager/miniconda33/lib/python3.12/site-packages (from pydantic!=2.0.*,!=2.1.*,!=2.2.0,>=1.10.8->qdrant-client[fastembed]) (0.7.0)\n",
      "Requirement already satisfied: pydantic-core==2.27.2 in /home/hager/home/hager/miniconda33/lib/python3.12/site-packages (from pydantic!=2.0.*,!=2.1.*,!=2.2.0,>=1.10.8->qdrant-client[fastembed]) (2.27.2)\n",
      "Requirement already satisfied: charset-normalizer<4,>=2 in /home/hager/home/hager/miniconda33/lib/python3.12/site-packages (from requests>=2.26.0->dlt[qdrant]) (3.3.2)\n",
      "Requirement already satisfied: rich>=11.0.0 in /home/hager/home/hager/miniconda33/lib/python3.12/site-packages (from rich-argparse>=1.6.0->dlt[qdrant]) (14.0.0)\n",
      "Requirement already satisfied: smmap<6,>=3.0.1 in /home/hager/home/hager/miniconda33/lib/python3.12/site-packages (from gitdb<5,>=4.0.1->gitpython>=3.1.29->dlt[qdrant]) (5.0.2)\n",
      "Requirement already satisfied: hyperframe<7,>=6.1 in /home/hager/home/hager/miniconda33/lib/python3.12/site-packages (from h2<5,>=3->httpx[http2]>=0.20.0->qdrant-client[fastembed]) (6.1.0)\n",
      "Requirement already satisfied: hpack<5,>=4.1 in /home/hager/home/hager/miniconda33/lib/python3.12/site-packages (from h2<5,>=3->httpx[http2]>=0.20.0->qdrant-client[fastembed]) (4.1.0)\n",
      "Requirement already satisfied: filelock in /home/hager/home/hager/miniconda33/lib/python3.12/site-packages (from huggingface-hub<1.0,>=0.20->fastembed==0.6.1->qdrant-client[fastembed]) (3.18.0)\n",
      "Requirement already satisfied: hf-xet<2.0.0,>=1.1.2 in /home/hager/home/hager/miniconda33/lib/python3.12/site-packages (from huggingface-hub<1.0,>=0.20->fastembed==0.6.1->qdrant-client[fastembed]) (1.1.3)\n",
      "Requirement already satisfied: coloredlogs in /home/hager/home/hager/miniconda33/lib/python3.12/site-packages (from onnxruntime!=1.20.0,>=1.17.0->fastembed==0.6.1->qdrant-client[fastembed]) (15.0.1)\n",
      "Requirement already satisfied: flatbuffers in /home/hager/home/hager/miniconda33/lib/python3.12/site-packages (from onnxruntime!=1.20.0,>=1.17.0->fastembed==0.6.1->qdrant-client[fastembed]) (25.2.10)\n",
      "Requirement already satisfied: sympy in /home/hager/home/hager/miniconda33/lib/python3.12/site-packages (from onnxruntime!=1.20.0,>=1.17.0->fastembed==0.6.1->qdrant-client[fastembed]) (1.14.0)\n",
      "Requirement already satisfied: six>=1.5 in /home/hager/home/hager/miniconda33/lib/python3.12/site-packages (from python-dateutil>=2.6->pendulum>=2.1.2->dlt[qdrant]) (1.17.0)\n",
      "Requirement already satisfied: markdown-it-py>=2.2.0 in /home/hager/home/hager/miniconda33/lib/python3.12/site-packages (from rich>=11.0.0->rich-argparse>=1.6.0->dlt[qdrant]) (3.0.0)\n",
      "Requirement already satisfied: pygments<3.0.0,>=2.13.0 in /home/hager/home/hager/miniconda33/lib/python3.12/site-packages (from rich>=11.0.0->rich-argparse>=1.6.0->dlt[qdrant]) (2.19.1)\n",
      "Requirement already satisfied: sniffio>=1.1 in /home/hager/home/hager/miniconda33/lib/python3.12/site-packages (from anyio->httpx>=0.20.0->httpx[http2]>=0.20.0->qdrant-client[fastembed]) (1.3.1)\n",
      "Requirement already satisfied: mdurl~=0.1 in /home/hager/home/hager/miniconda33/lib/python3.12/site-packages (from markdown-it-py>=2.2.0->rich>=11.0.0->rich-argparse>=1.6.0->dlt[qdrant]) (0.1.2)\n",
      "Requirement already satisfied: humanfriendly>=9.1 in /home/hager/home/hager/miniconda33/lib/python3.12/site-packages (from coloredlogs->onnxruntime!=1.20.0,>=1.17.0->fastembed==0.6.1->qdrant-client[fastembed]) (10.0)\n",
      "Requirement already satisfied: mpmath<1.4,>=1.1.0 in /home/hager/home/hager/miniconda33/lib/python3.12/site-packages (from sympy->onnxruntime!=1.20.0,>=1.17.0->fastembed==0.6.1->qdrant-client[fastembed]) (1.3.0)\n"
     ]
    }
   ],
   "source": [
    "!pip install --trusted-host pypi.org --trusted-host files.pythonhosted.org \"dlt[qdrant]\" \"qdrant-client[fastembed]\""
   ]
  },
  {
   "cell_type": "markdown",
   "id": "8ecd6ff2-5e00-474f-9220-8ef3859523c4",
   "metadata": {},
   "source": [
    "## knowing the dlt Version"
   ]
  },
  {
   "cell_type": "code",
   "execution_count": 3,
   "id": "4ae641b6-3f74-4646-83a2-3dccd628c7ab",
   "metadata": {},
   "outputs": [
    {
     "name": "stdout",
     "output_type": "stream",
     "text": [
      "\u001b[39mdlt 1.12.3\u001b[0m\n"
     ]
    }
   ],
   "source": [
    "! dlt --version"
   ]
  },
  {
   "cell_type": "code",
   "execution_count": 4,
   "id": "c1263ac4-558a-4e04-a221-529c207e81b7",
   "metadata": {},
   "outputs": [],
   "source": [
    "# import required libraries\n",
    "import dlt\n",
    "import requests\n",
    "import pandas as pd\n",
    "from datetime import datetime\n",
    "from dlt.destinations import qdrant"
   ]
  },
  {
   "cell_type": "markdown",
   "id": "2ece79c6-e2e1-461f-a152-1ac42036d984",
   "metadata": {},
   "source": [
    "# Creating a dlt pipeline for the FAQ data"
   ]
  },
  {
   "cell_type": "code",
   "execution_count": 5,
   "id": "5390b09f-f667-4aec-89c1-54144e1c469c",
   "metadata": {},
   "outputs": [],
   "source": [
    "@dlt.resource(write_disposition=\"replace\", name=\"zoomcamp_faq_data\")\n",
    "def zoomcamp_faq_data():\n",
    "  docs_url = \"https://github.com/alexeygrigorev/llm-rag-workshop/raw/main/notebooks/documents.json\"\n",
    "  docs_response = requests.get(docs_url)\n",
    "  documents_raw = docs_response.json()\n",
    "\n",
    "  for course in documents_raw:\n",
    "    course_name = course['course']\n",
    "\n",
    "    for doc in course['documents']:\n",
    "      doc['course'] = course_name\n",
    "      yield doc"
   ]
  },
  {
   "cell_type": "code",
   "execution_count": 6,
   "id": "af77f653-e984-48a7-84d8-465ecf2a311f",
   "metadata": {},
   "outputs": [],
   "source": [
    "qdrant_destination = qdrant(\n",
    "  qd_path=\"db.qdrant\",\n",
    ")"
   ]
  },
  {
   "cell_type": "code",
   "execution_count": 7,
   "id": "b30a9dce-52c9-4da0-a726-78acf69ec517",
   "metadata": {},
   "outputs": [
    {
     "name": "stdout",
     "output_type": "stream",
     "text": [
      "Run started at 2025-07-07 06:28:34.676448+00:00 and COMPLETED in 2 minutes and 11.23 seconds with 4 steps.\n",
      "Step extract COMPLETED in 1.11 seconds.\n",
      "\n",
      "Load package 1751869718.1916485 is EXTRACTED and NOT YET LOADED to the destination and contains no failed jobs\n",
      "\n",
      "Step normalize COMPLETED in 0.08 seconds.\n",
      "Normalized data for the following tables:\n",
      "- _dlt_pipeline_state: 1 row(s)\n",
      "- zoomcamp_faq_data: 948 row(s)\n",
      "\n",
      "Load package 1751869718.1916485 is NORMALIZED and NOT YET LOADED to the destination and contains no failed jobs\n",
      "\n",
      "Step load COMPLETED in 2 minutes and 6.53 seconds.\n",
      "Pipeline zoomcamp_pipeline load step completed in 2 minutes and 6.52 seconds\n",
      "1 load package(s) were loaded to destination qdrant and into dataset zoomcamp_tagged_data\n",
      "The qdrant destination used /mnt/d/llm-zoomcamp/llm-zoomcamp/db.qdrant location to store data\n",
      "Load package 1751869718.1916485 is LOADED and contains no failed jobs\n",
      "\n",
      "Step run COMPLETED in 2 minutes and 11.23 seconds.\n",
      "Pipeline zoomcamp_pipeline load step completed in 2 minutes and 6.52 seconds\n",
      "1 load package(s) were loaded to destination qdrant and into dataset zoomcamp_tagged_data\n",
      "The qdrant destination used /mnt/d/llm-zoomcamp/llm-zoomcamp/db.qdrant location to store data\n",
      "Load package 1751869718.1916485 is LOADED and contains no failed jobs\n"
     ]
    }
   ],
   "source": [
    "pipeline = dlt.pipeline(\n",
    "    pipeline_name = \"zoomcamp_pipeline\",\n",
    "    destination = qdrant_destination,\n",
    "    dataset_name = \"zoomcamp_tagged_data\"\n",
    ")\n",
    "\n",
    "load_info = pipeline.run(zoomcamp_faq_data())\n",
    "print(pipeline.last_trace)\n",
    "\n",
    "\n",
    "pipeline = dlt.pipeline(\n",
    "    pipeline_name=\"zoomcamp_pipeline\",\n",
    "    destination=qdrant_destination,\n",
    "    dataset_name=\"zoomcamp_tagged_data\"\n",
    "\n",
    ")"
   ]
  },
  {
   "cell_type": "code",
   "execution_count": null,
   "id": "53ab4422-f56b-4ef6-8291-23a225bb83ec",
   "metadata": {},
   "outputs": [],
   "source": []
  }
 ],
 "metadata": {
  "kernelspec": {
   "display_name": "Python 3 (ipykernel)",
   "language": "python",
   "name": "python3"
  },
  "language_info": {
   "codemirror_mode": {
    "name": "ipython",
    "version": 3
   },
   "file_extension": ".py",
   "mimetype": "text/x-python",
   "name": "python",
   "nbconvert_exporter": "python",
   "pygments_lexer": "ipython3",
   "version": "3.12.2"
  }
 },
 "nbformat": 4,
 "nbformat_minor": 5
}
