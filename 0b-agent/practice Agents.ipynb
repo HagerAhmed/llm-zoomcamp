{
 "cells": [
  {
   "cell_type": "code",
   "execution_count": 2,
   "id": "a79a0be8-606d-40c8-a51a-87b4b5aa1de6",
   "metadata": {},
   "outputs": [],
   "source": [
    "from mistralai import Mistral\n",
    "from mistralai.models import UserMessage\n",
    "from dotenv import load_dotenv\n",
    "import os\n",
    "import json"
   ]
  },
  {
   "cell_type": "markdown",
   "id": "d67b96f5-c693-4af1-97ee-eae3f6b9b8ab",
   "metadata": {},
   "source": [
    "# Preparation"
   ]
  },
  {
   "cell_type": "markdown",
   "id": "ed4ea055-a20c-493e-bdaa-dd2225ec3520",
   "metadata": {},
   "source": [
    "### Generate fake weather data"
   ]
  },
  {
   "cell_type": "code",
   "execution_count": 3,
   "id": "dfe78e9a-25e6-41c2-8ba8-cfd87b7896b2",
   "metadata": {},
   "outputs": [],
   "source": [
    "import random\n",
    "\n",
    "known_weather_data = {\n",
    "    'berlin': 20.0\n",
    "}\n",
    "\n",
    "def get_weather(city: str) -> float:\n",
    "    city = city.strip().lower()\n",
    "\n",
    "    if city in known_weather_data:\n",
    "        return known_weather_data[city]\n",
    "\n",
    "    return round(random.uniform(-5, 35), 1)"
   ]
  },
  {
   "cell_type": "code",
   "execution_count": 4,
   "id": "eb082cee-87bd-4bd8-9675-8b1366d7b4bb",
   "metadata": {},
   "outputs": [
    {
     "data": {
      "text/plain": [
       "7.2"
      ]
     },
     "execution_count": 4,
     "metadata": {},
     "output_type": "execute_result"
    }
   ],
   "source": [
    "get_weather('Cairo')"
   ]
  },
  {
   "cell_type": "markdown",
   "id": "be5f82a8-3440-4dec-b6bf-a420e11850bc",
   "metadata": {},
   "source": [
    "# Q1. Define function description"
   ]
  },
  {
   "cell_type": "code",
   "execution_count": 5,
   "id": "fe636a53-95c2-456d-8e45-437ccf9916ad",
   "metadata": {},
   "outputs": [],
   "source": [
    "get_weather_tool = {\n",
    "    \"type\": \"function\",\n",
    "    \"name\": \"get_weather\",\n",
    "    \"description\": \"Get the temperature for a given city\",\n",
    "    \"parameters\": {\n",
    "        \"type\": \"object\",\n",
    "        \"properties\": {\n",
    "            \"city\": {\n",
    "                \"type\": \"string\",\n",
    "                \"description\": \"Name the city to get its temperature.\"\n",
    "            }\n",
    "        },\n",
    "        \"required\": [\"city\"],\n",
    "        \"additionalProperties\": False\n",
    "    }\n",
    "}"
   ]
  },
  {
   "cell_type": "code",
   "execution_count": 6,
   "id": "d593bd76-f729-4a5e-a879-ab4a19d0fea8",
   "metadata": {},
   "outputs": [],
   "source": [
    "get_weather_tool = {\n",
    "    \"type\": \"function\",\n",
    "    \"function\": {           \n",
    "        \"name\": \"get_weather\",\n",
    "        \"description\": \"Get the temperature for a given city\",\n",
    "        \"parameters\": {\n",
    "            \"type\": \"object\",\n",
    "            \"properties\": {\n",
    "                \"city\": {\n",
    "                    \"type\": \"string\",\n",
    "                    \"description\": \"Name the city to get its temperature.\"\n",
    "                }\n",
    "            },\n",
    "            \"required\": [\"city\"],\n",
    "            \"additionalProperties\": False\n",
    "        }\n",
    "    }\n",
    "}\n"
   ]
  },
  {
   "cell_type": "code",
   "execution_count": 7,
   "id": "ab0a3155-41c6-4335-890d-9bed62c49c4e",
   "metadata": {},
   "outputs": [
    {
     "data": {
      "text/plain": [
       "True"
      ]
     },
     "execution_count": 7,
     "metadata": {},
     "output_type": "execute_result"
    }
   ],
   "source": [
    "load_dotenv()"
   ]
  },
  {
   "cell_type": "code",
   "execution_count": 8,
   "id": "2df3521f-84aa-4587-bd1a-dc6b127e5533",
   "metadata": {},
   "outputs": [],
   "source": [
    "api_key = os.getenv(\"API_KEY\")"
   ]
  },
  {
   "cell_type": "code",
   "execution_count": 9,
   "id": "b96ee19e-b4ca-4009-97b9-51dbb050ae92",
   "metadata": {},
   "outputs": [],
   "source": [
    "client = Mistral(api_key = api_key )"
   ]
  },
  {
   "cell_type": "code",
   "execution_count": 10,
   "id": "9839b9f2-c962-40da-a735-504d2ebcdad6",
   "metadata": {},
   "outputs": [
    {
     "data": {
      "text/plain": [
       "[ChatCompletionChoice(index=0, message=AssistantMessage(content='', tool_calls=[ToolCall(function=FunctionCall(name='get_weather', arguments='{\"city\": \"Berlin\"}'), id='LaPWlw939', type=None, index=0)], prefix=False, role='assistant'), finish_reason='tool_calls')]"
      ]
     },
     "execution_count": 10,
     "metadata": {},
     "output_type": "execute_result"
    }
   ],
   "source": [
    "question = \"What's the current temperature in Berlin, Germany?\"\n",
    "\n",
    "system_prompt = \"\"\"\n",
    "You are a weather program. \n",
    "Your task is to fetch the current temperature for the specified city in Celsius.\n",
    "The city will be provided by the user. Make sure to only return the temperature.\n",
    "\"\"\".strip()\n",
    "\n",
    "tools = [get_weather_tool]\n",
    "\n",
    "chat_messages = [\n",
    "    {\"role\": \"system\", \"content\": system_prompt},\n",
    "    {\"role\": \"user\", \"content\": question}\n",
    "]\n",
    "\n",
    "response = client.chat.complete(\n",
    "    model = \"mistral-medium-latest\",\n",
    "    messages = chat_messages, \n",
    "    tools = tools,\n",
    "    tool_choice = \"any\", \n",
    "    parallel_tool_calls = False,\n",
    ")\n",
    "response.choices\n",
    "\n"
   ]
  },
  {
   "cell_type": "code",
   "execution_count": 11,
   "id": "add85abe-899d-4e74-ad06-81068b8418c8",
   "metadata": {},
   "outputs": [],
   "source": [
    "calls = response.choices\n",
    "call = calls[0]\n",
    "f_name = call.message.tool_calls[0].function.name\n",
    "arguments = json.loads(call.message.tool_calls[0].function.arguments)"
   ]
  },
  {
   "cell_type": "code",
   "execution_count": 12,
   "id": "d077146e-f83b-4b29-aca3-3902ab59a43c",
   "metadata": {},
   "outputs": [],
   "source": [
    "f = globals()[f_name]"
   ]
  },
  {
   "cell_type": "code",
   "execution_count": 13,
   "id": "a868650e-6574-4ef5-a1b9-716cd507d160",
   "metadata": {},
   "outputs": [
    {
     "data": {
      "text/plain": [
       "20.0"
      ]
     },
     "execution_count": 13,
     "metadata": {},
     "output_type": "execute_result"
    }
   ],
   "source": [
    "search_results = f(**arguments)\n",
    "search_results"
   ]
  },
  {
   "cell_type": "markdown",
   "id": "d951bb28-c869-4727-98ec-37e33b9471e7",
   "metadata": {},
   "source": [
    "# Q2. Adding another tool"
   ]
  },
  {
   "cell_type": "code",
   "execution_count": 14,
   "id": "6fdaa93a-4eaf-45ae-b087-d4c27cc85edf",
   "metadata": {},
   "outputs": [],
   "source": [
    "def set_weather(city: str, temp: float) -> None:\n",
    "    city = city.strip().lower()\n",
    "    known_weather_data[city] = temp\n",
    "    return 'OK'"
   ]
  },
  {
   "cell_type": "code",
   "execution_count": 15,
   "id": "c7c88492-d4ec-41a1-a375-07c32bc4b302",
   "metadata": {},
   "outputs": [],
   "source": [
    "# Add description \n",
    "\n",
    "set_weather_tool = {\n",
    "    \"type\": \"function\",\n",
    "    \"function\": {\n",
    "        \"name\": \"set_weather\",\n",
    "        \"description\": \"Add or update the temperature (°C) for a specified city in the weather database.\",\n",
    "        \"parameters\": {\n",
    "            \"type\": \"object\",\n",
    "            \"properties\": {\n",
    "                \"city\": {\n",
    "                    \"type\": \"string\",\n",
    "                    \"description\": \"Name of the city to add or update in the weather database\"\n",
    "                },\n",
    "                \"temp\": {\n",
    "                    \"type\": \"number\",\n",
    "                    \"description\": \"Temperature in Celsius to set for the city\"\n",
    "                }\n",
    "            },\n",
    "        \"required\": [\"city\", \"temp\"],\n",
    "        \"additionalProperties\": False\n",
    "        }\n",
    "    }\n",
    "}\n",
    "\n"
   ]
  },
  {
   "cell_type": "code",
   "execution_count": 16,
   "id": "899837ce-7576-49d2-909c-63b94cf540d2",
   "metadata": {},
   "outputs": [
    {
     "data": {
      "text/plain": [
       "[ChatCompletionChoice(index=0, message=AssistantMessage(content='', tool_calls=[ToolCall(function=FunctionCall(name='get_weather', arguments='{\"city\": \"Berlin\"}'), id='T61QPnS8G', type=None, index=0)], prefix=False, role='assistant'), finish_reason='tool_calls')]"
      ]
     },
     "execution_count": 16,
     "metadata": {},
     "output_type": "execute_result"
    }
   ],
   "source": [
    "question = \"What's the current temperature in berlin?\"\n",
    "\n",
    "system_prompt = \"\"\"\n",
    "You are a data assistant. \n",
    "Your task is to fetch the current temperature from get_weather_tool.\n",
    "save the result in the database.\n",
    "\"\"\".strip()\n",
    "\n",
    "tools = [get_weather_tool, set_weather_tool]\n",
    "\n",
    "chat_messages = [\n",
    "    {\"role\": \"system\", \"content\": system_prompt},\n",
    "    {\"role\": \"user\", \"content\": question}\n",
    "]\n",
    "\n",
    "response = client.chat.complete(\n",
    "    model = \"mistral-medium-latest\",\n",
    "    messages = chat_messages, \n",
    "    tools = tools,\n",
    "    tool_choice = \"any\", \n",
    "    parallel_tool_calls = False,\n",
    ")\n",
    "response.choices\n",
    "\n"
   ]
  },
  {
   "cell_type": "markdown",
   "id": "ef38d678-8606-4967-96a4-1a052bb5381d",
   "metadata": {},
   "source": [
    "# Q3. Install FastMCP"
   ]
  },
  {
   "cell_type": "code",
   "execution_count": 17,
   "id": "2a53752f-cf45-43e8-9f3b-a65e8c40b4ba",
   "metadata": {},
   "outputs": [
    {
     "name": "stdout",
     "output_type": "stream",
     "text": [
      "Requirement already satisfied: fastmcp in /home/hager/home/hager/miniconda33/lib/python3.12/site-packages (2.10.5)\n",
      "Requirement already satisfied: authlib>=1.5.2 in /home/hager/home/hager/miniconda33/lib/python3.12/site-packages (from fastmcp) (1.6.0)\n",
      "Requirement already satisfied: cyclopts>=3.0.0 in /home/hager/home/hager/miniconda33/lib/python3.12/site-packages (from fastmcp) (3.22.2)\n",
      "Requirement already satisfied: exceptiongroup>=1.2.2 in /home/hager/home/hager/miniconda33/lib/python3.12/site-packages (from fastmcp) (1.3.0)\n",
      "Requirement already satisfied: httpx>=0.28.1 in /home/hager/home/hager/miniconda33/lib/python3.12/site-packages (from fastmcp) (0.28.1)\n",
      "Requirement already satisfied: mcp>=1.10.0 in /home/hager/home/hager/miniconda33/lib/python3.12/site-packages (from fastmcp) (1.11.0)\n",
      "Requirement already satisfied: openapi-pydantic>=0.5.1 in /home/hager/home/hager/miniconda33/lib/python3.12/site-packages (from fastmcp) (0.5.1)\n",
      "Requirement already satisfied: pydantic>=2.11.7 in /home/hager/home/hager/miniconda33/lib/python3.12/site-packages (from pydantic[email]>=2.11.7->fastmcp) (2.11.7)\n",
      "Requirement already satisfied: pyperclip>=1.9.0 in /home/hager/home/hager/miniconda33/lib/python3.12/site-packages (from fastmcp) (1.9.0)\n",
      "Requirement already satisfied: python-dotenv>=1.1.0 in /home/hager/home/hager/miniconda33/lib/python3.12/site-packages (from fastmcp) (1.1.1)\n",
      "Requirement already satisfied: rich>=13.9.4 in /home/hager/home/hager/miniconda33/lib/python3.12/site-packages (from fastmcp) (14.0.0)\n",
      "Requirement already satisfied: cryptography in /home/hager/home/hager/miniconda33/lib/python3.12/site-packages (from authlib>=1.5.2->fastmcp) (43.0.3)\n",
      "Requirement already satisfied: attrs>=23.1.0 in /home/hager/home/hager/miniconda33/lib/python3.12/site-packages (from cyclopts>=3.0.0->fastmcp) (25.3.0)\n",
      "Requirement already satisfied: docstring-parser>=0.15 in /home/hager/home/hager/miniconda33/lib/python3.12/site-packages (from cyclopts>=3.0.0->fastmcp) (0.16)\n",
      "Requirement already satisfied: rich-rst<2.0.0,>=1.3.1 in /home/hager/home/hager/miniconda33/lib/python3.12/site-packages (from cyclopts>=3.0.0->fastmcp) (1.3.1)\n",
      "Requirement already satisfied: typing-extensions>=4.6.0 in /home/hager/home/hager/miniconda33/lib/python3.12/site-packages (from exceptiongroup>=1.2.2->fastmcp) (4.12.2)\n",
      "Requirement already satisfied: anyio in /home/hager/home/hager/miniconda33/lib/python3.12/site-packages (from httpx>=0.28.1->fastmcp) (4.9.0)\n",
      "Requirement already satisfied: certifi in /home/hager/home/hager/miniconda33/lib/python3.12/site-packages (from httpx>=0.28.1->fastmcp) (2025.6.15)\n",
      "Requirement already satisfied: httpcore==1.* in /home/hager/home/hager/miniconda33/lib/python3.12/site-packages (from httpx>=0.28.1->fastmcp) (1.0.7)\n",
      "Requirement already satisfied: idna in /home/hager/home/hager/miniconda33/lib/python3.12/site-packages (from httpx>=0.28.1->fastmcp) (3.7)\n",
      "Requirement already satisfied: h11<0.15,>=0.13 in /home/hager/home/hager/miniconda33/lib/python3.12/site-packages (from httpcore==1.*->httpx>=0.28.1->fastmcp) (0.14.0)\n",
      "Requirement already satisfied: httpx-sse>=0.4 in /home/hager/home/hager/miniconda33/lib/python3.12/site-packages (from mcp>=1.10.0->fastmcp) (0.4.0)\n",
      "Requirement already satisfied: jsonschema>=4.20.0 in /home/hager/home/hager/miniconda33/lib/python3.12/site-packages (from mcp>=1.10.0->fastmcp) (4.24.0)\n",
      "Requirement already satisfied: pydantic-settings>=2.5.2 in /home/hager/home/hager/miniconda33/lib/python3.12/site-packages (from mcp>=1.10.0->fastmcp) (2.7.1)\n",
      "Requirement already satisfied: python-multipart>=0.0.9 in /home/hager/home/hager/miniconda33/lib/python3.12/site-packages (from mcp>=1.10.0->fastmcp) (0.0.20)\n",
      "Requirement already satisfied: sse-starlette>=1.6.1 in /home/hager/home/hager/miniconda33/lib/python3.12/site-packages (from mcp>=1.10.0->fastmcp) (2.4.1)\n",
      "Requirement already satisfied: starlette>=0.27 in /home/hager/home/hager/miniconda33/lib/python3.12/site-packages (from mcp>=1.10.0->fastmcp) (0.45.3)\n",
      "Requirement already satisfied: uvicorn>=0.23.1 in /home/hager/home/hager/miniconda33/lib/python3.12/site-packages (from mcp>=1.10.0->fastmcp) (0.34.0)\n",
      "Requirement already satisfied: annotated-types>=0.6.0 in /home/hager/home/hager/miniconda33/lib/python3.12/site-packages (from pydantic>=2.11.7->pydantic[email]>=2.11.7->fastmcp) (0.7.0)\n",
      "Requirement already satisfied: pydantic-core==2.33.2 in /home/hager/home/hager/miniconda33/lib/python3.12/site-packages (from pydantic>=2.11.7->pydantic[email]>=2.11.7->fastmcp) (2.33.2)\n",
      "Requirement already satisfied: typing-inspection>=0.4.0 in /home/hager/home/hager/miniconda33/lib/python3.12/site-packages (from pydantic>=2.11.7->pydantic[email]>=2.11.7->fastmcp) (0.4.1)\n",
      "Requirement already satisfied: email-validator>=2.0.0 in /home/hager/home/hager/miniconda33/lib/python3.12/site-packages (from pydantic[email]>=2.11.7->fastmcp) (2.2.0)\n",
      "Requirement already satisfied: markdown-it-py>=2.2.0 in /home/hager/home/hager/miniconda33/lib/python3.12/site-packages (from rich>=13.9.4->fastmcp) (3.0.0)\n",
      "Requirement already satisfied: pygments<3.0.0,>=2.13.0 in /home/hager/home/hager/miniconda33/lib/python3.12/site-packages (from rich>=13.9.4->fastmcp) (2.19.1)\n",
      "Requirement already satisfied: sniffio>=1.1 in /home/hager/home/hager/miniconda33/lib/python3.12/site-packages (from anyio->httpx>=0.28.1->fastmcp) (1.3.1)\n",
      "Requirement already satisfied: dnspython>=2.0.0 in /home/hager/home/hager/miniconda33/lib/python3.12/site-packages (from email-validator>=2.0.0->pydantic[email]>=2.11.7->fastmcp) (2.7.0)\n",
      "Requirement already satisfied: jsonschema-specifications>=2023.03.6 in /home/hager/home/hager/miniconda33/lib/python3.12/site-packages (from jsonschema>=4.20.0->mcp>=1.10.0->fastmcp) (2025.4.1)\n",
      "Requirement already satisfied: referencing>=0.28.4 in /home/hager/home/hager/miniconda33/lib/python3.12/site-packages (from jsonschema>=4.20.0->mcp>=1.10.0->fastmcp) (0.36.2)\n",
      "Requirement already satisfied: rpds-py>=0.7.1 in /home/hager/home/hager/miniconda33/lib/python3.12/site-packages (from jsonschema>=4.20.0->mcp>=1.10.0->fastmcp) (0.25.1)\n",
      "Requirement already satisfied: mdurl~=0.1 in /home/hager/home/hager/miniconda33/lib/python3.12/site-packages (from markdown-it-py>=2.2.0->rich>=13.9.4->fastmcp) (0.1.2)\n",
      "Requirement already satisfied: docutils in /home/hager/home/hager/miniconda33/lib/python3.12/site-packages (from rich-rst<2.0.0,>=1.3.1->cyclopts>=3.0.0->fastmcp) (0.21.2)\n",
      "Requirement already satisfied: click>=7.0 in /home/hager/home/hager/miniconda33/lib/python3.12/site-packages (from uvicorn>=0.23.1->mcp>=1.10.0->fastmcp) (8.1.8)\n",
      "Requirement already satisfied: cffi>=1.12 in /home/hager/home/hager/miniconda33/lib/python3.12/site-packages (from cryptography->authlib>=1.5.2->fastmcp) (1.17.1)\n",
      "Requirement already satisfied: pycparser in /home/hager/home/hager/miniconda33/lib/python3.12/site-packages (from cffi>=1.12->cryptography->authlib>=1.5.2->fastmcp) (2.21)\n",
      "Note: you may need to restart the kernel to use updated packages.\n"
     ]
    }
   ],
   "source": [
    "pip install fastmcp --trusted-host pypi.org --trusted-host files.pythonhosted.org"
   ]
  },
  {
   "cell_type": "code",
   "execution_count": 18,
   "id": "98cddb28-4ef3-4ff6-be77-1b7dc825a3cb",
   "metadata": {},
   "outputs": [
    {
     "name": "stdout",
     "output_type": "stream",
     "text": [
      "\u001b[39;49m2.10.5\u001b[0m\n"
     ]
    }
   ],
   "source": [
    "!fastmcp --version "
   ]
  },
  {
   "cell_type": "markdown",
   "id": "4d7018d1-ceb3-4481-9144-cc6a79c90aff",
   "metadata": {},
   "source": [
    "# Q4. Simple MCP Server"
   ]
  },
  {
   "cell_type": "markdown",
   "id": "963b445b-0676-4091-bab8-145e3bc2e512",
   "metadata": {},
   "source": [
    "The code have been saved in weather_server.py and run it by (fastmcp run weather_server.py)\n",
    "\n",
    "and the output is \n",
    "\n",
    "\n",
    "[07/15/25 13:20:11] INFO     Starting MCP server 'Demo 🚀' with transport 'stdio"
   ]
  },
  {
   "cell_type": "markdown",
   "id": "19985a35-9f33-49ad-ba94-7cf9d4efb006",
   "metadata": {},
   "source": [
    "# Q5. Protocol"
   ]
  },
  {
   "cell_type": "markdown",
   "id": "48e011de-9db3-40b4-96ed-a1d32eb49601",
   "metadata": {},
   "source": [
    "{\"jsonrpc\": \"2.0\", \"id\": 3, \"method\": \"tools/call\", \"params\": {\"name\": \"get_weather\", \"arguments\": {\"city\": \"Berlin\"}}}\n",
    "\n",
    "\n",
    "OUTPUT:\n",
    "\n",
    "\n",
    "{\"jsonrpc\":\"2.0\",\"id\":3,\"result\":{\"content\":[{\"type\":\"text\",\"text\":\"20.0\"}],\"structuredContent\":{\"result\":20.0},\"isError\":false}}"
   ]
  },
  {
   "cell_type": "markdown",
   "id": "281d1256-8d72-4fb4-8da8-c0e53d4ffbc7",
   "metadata": {},
   "source": [
    "# Q6. Client"
   ]
  },
  {
   "cell_type": "code",
   "execution_count": 19,
   "id": "3b1c97fd-9a3d-4c1b-92fd-004e71a5f8e2",
   "metadata": {},
   "outputs": [],
   "source": [
    "from fastmcp import Client\n",
    "import weather_server"
   ]
  },
  {
   "cell_type": "code",
   "execution_count": 20,
   "id": "5fb2dbbb-43b4-42a6-aa79-572f7c35a47a",
   "metadata": {},
   "outputs": [
    {
     "name": "stdout",
     "output_type": "stream",
     "text": [
      "Available tools:\n",
      "name='get_weather' title=None description='Retrieves the temperature for a specified city.\\n\\nParameters:\\n    city (str): The name of the city for which to retrieve weather data.\\n\\nReturns:\\n    float: The temperature associated with the city.    ' inputSchema={'properties': {'city': {'title': 'City', 'type': 'string'}}, 'required': ['city'], 'type': 'object'} outputSchema={'properties': {'result': {'title': 'Result', 'type': 'number'}}, 'required': ['result'], 'title': '_WrappedResult', 'type': 'object', 'x-fastmcp-wrap-result': True} annotations=None meta=None\n",
      "name='set_weather' title=None description=\"Sets the temperature for a specified city.\\nParameters:\\n    city (str): The name of the city for which to set the weather data.\\n    temp (float): The temperature to associate with the city.\\n\\nReturns:\\n    str: A confirmation string 'OK' indicating successful update.\" inputSchema={'properties': {'city': {'title': 'City', 'type': 'string'}, 'temp': {'title': 'Temp', 'type': 'number'}}, 'required': ['city', 'temp'], 'type': 'object'} outputSchema=None annotations=None meta=None\n"
     ]
    }
   ],
   "source": [
    "async def main():\n",
    "    async with Client(\"weather_server.py\") as mcp_client:\n",
    "        tools = await mcp_client.list_tools()\n",
    "        print(\"Available tools:\")\n",
    "        for tool in tools:\n",
    "            print(tool)\n",
    "\n",
    "await main()"
   ]
  },
  {
   "cell_type": "code",
   "execution_count": null,
   "id": "0f002124-b892-4b1c-9606-be0761a4ef11",
   "metadata": {},
   "outputs": [],
   "source": []
  }
 ],
 "metadata": {
  "kernelspec": {
   "display_name": "Python 3 (ipykernel)",
   "language": "python",
   "name": "python3"
  },
  "language_info": {
   "codemirror_mode": {
    "name": "ipython",
    "version": 3
   },
   "file_extension": ".py",
   "mimetype": "text/x-python",
   "name": "python",
   "nbconvert_exporter": "python",
   "pygments_lexer": "ipython3",
   "version": "3.12.2"
  }
 },
 "nbformat": 4,
 "nbformat_minor": 5
}
