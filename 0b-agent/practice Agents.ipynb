{
 "cells": [
  {
   "cell_type": "code",
   "execution_count": null,
   "id": "74292558-ab47-4463-b9bc-f5fd26850c48",
   "metadata": {},
   "outputs": [],
   "source": [
    "import os\n",
    "os.environ[\"SSL_CERT_FILE\"] = \"Fortinet_CA_SSL(15).cer\"\n"
   ]
  },
  {
   "cell_type": "code",
   "execution_count": null,
   "id": "a79a0be8-606d-40c8-a51a-87b4b5aa1de6",
   "metadata": {},
   "outputs": [],
   "source": [
    "from mistralai import Mistral\n",
    "from mistralai.models import UserMessage\n",
    "from dotenv import load_dotenv\n",
    "import os\n",
    "import json"
   ]
  },
  {
   "cell_type": "markdown",
   "id": "d67b96f5-c693-4af1-97ee-eae3f6b9b8ab",
   "metadata": {},
   "source": [
    "# Preparation"
   ]
  },
  {
   "cell_type": "markdown",
   "id": "ed4ea055-a20c-493e-bdaa-dd2225ec3520",
   "metadata": {},
   "source": [
    "### Generate fake weather data"
   ]
  },
  {
   "cell_type": "code",
   "execution_count": null,
   "id": "dfe78e9a-25e6-41c2-8ba8-cfd87b7896b2",
   "metadata": {},
   "outputs": [],
   "source": [
    "import random\n",
    "\n",
    "known_weather_data = {\n",
    "    'berlin': 20.0\n",
    "}\n",
    "\n",
    "def get_weather(city: str) -> float:\n",
    "    city = city.strip().lower()\n",
    "\n",
    "    if city in known_weather_data:\n",
    "        return known_weather_data[city]\n",
    "\n",
    "    return round(random.uniform(-5, 35), 1)"
   ]
  },
  {
   "cell_type": "code",
   "execution_count": null,
   "id": "eb082cee-87bd-4bd8-9675-8b1366d7b4bb",
   "metadata": {},
   "outputs": [],
   "source": [
    "get_weather('Cairo')"
   ]
  },
  {
   "cell_type": "markdown",
   "id": "be5f82a8-3440-4dec-b6bf-a420e11850bc",
   "metadata": {},
   "source": [
    "# Q1. Define function description"
   ]
  },
  {
   "cell_type": "code",
   "execution_count": null,
   "id": "fe636a53-95c2-456d-8e45-437ccf9916ad",
   "metadata": {},
   "outputs": [],
   "source": [
    "get_weather_tool = {\n",
    "    \"type\": \"function\",\n",
    "    \"name\": \"get_weather\",\n",
    "    \"description\": \"Get the temperature for a given city\",\n",
    "    \"parameters\": {\n",
    "        \"type\": \"object\",\n",
    "        \"properties\": {\n",
    "            \"city\": {\n",
    "                \"type\": \"string\",\n",
    "                \"description\": \"Name the city to get its temperature.\"\n",
    "            }\n",
    "        },\n",
    "        \"required\": [\"city\"],\n",
    "        \"additionalProperties\": False\n",
    "    }\n",
    "}"
   ]
  },
  {
   "cell_type": "code",
   "execution_count": null,
   "id": "d593bd76-f729-4a5e-a879-ab4a19d0fea8",
   "metadata": {},
   "outputs": [],
   "source": [
    "get_weather_tool = {\n",
    "    \"type\": \"function\",\n",
    "    \"function\": {           \n",
    "        \"name\": \"get_weather\",\n",
    "        \"description\": \"Get the temperature for a given city\",\n",
    "        \"parameters\": {\n",
    "            \"type\": \"object\",\n",
    "            \"properties\": {\n",
    "                \"city\": {\n",
    "                    \"type\": \"string\",\n",
    "                    \"description\": \"Name the city to get its temperature.\"\n",
    "                }\n",
    "            },\n",
    "            \"required\": [\"city\"],\n",
    "            \"additionalProperties\": False\n",
    "        }\n",
    "    }\n",
    "}\n"
   ]
  },
  {
   "cell_type": "code",
   "execution_count": null,
   "id": "ab0a3155-41c6-4335-890d-9bed62c49c4e",
   "metadata": {},
   "outputs": [],
   "source": [
    "load_dotenv()"
   ]
  },
  {
   "cell_type": "code",
   "execution_count": null,
   "id": "2df3521f-84aa-4587-bd1a-dc6b127e5533",
   "metadata": {},
   "outputs": [],
   "source": [
    "api_key = os.getenv(\"API_KEY\")"
   ]
  },
  {
   "cell_type": "code",
   "execution_count": null,
   "id": "b96ee19e-b4ca-4009-97b9-51dbb050ae92",
   "metadata": {},
   "outputs": [],
   "source": [
    "client = Mistral(api_key = api_key )"
   ]
  },
  {
   "cell_type": "code",
   "execution_count": null,
   "id": "9839b9f2-c962-40da-a735-504d2ebcdad6",
   "metadata": {},
   "outputs": [],
   "source": [
    "question = \"What's the current temperature in Berlin, Germany?\"\n",
    "\n",
    "system_prompt = \"\"\"\n",
    "You are a weather program. \n",
    "Your task is to fetch the current temperature for the specified city in Celsius.\n",
    "The city will be provided by the user. Make sure to only return the temperature.\n",
    "\"\"\".strip()\n",
    "\n",
    "tools = [get_weather_tool]\n",
    "\n",
    "chat_messages = [\n",
    "    {\"role\": \"system\", \"content\": system_prompt},\n",
    "    {\"role\": \"user\", \"content\": question}\n",
    "]\n",
    "\n",
    "response = client.chat.complete(\n",
    "    model = \"mistral-medium-latest\",\n",
    "    messages = chat_messages, \n",
    "    tools = tools,\n",
    "    tool_choice = \"any\", \n",
    "    parallel_tool_calls = False,\n",
    ")\n",
    "response.choices\n",
    "\n"
   ]
  },
  {
   "cell_type": "code",
   "execution_count": null,
   "id": "add85abe-899d-4e74-ad06-81068b8418c8",
   "metadata": {},
   "outputs": [],
   "source": [
    "calls = response.choices\n",
    "call = calls[0]\n",
    "f_name = call.message.tool_calls[0].function.name\n",
    "arguments = json.loads(call.message.tool_calls[0].function.arguments)"
   ]
  },
  {
   "cell_type": "code",
   "execution_count": null,
   "id": "d077146e-f83b-4b29-aca3-3902ab59a43c",
   "metadata": {},
   "outputs": [],
   "source": [
    "f = globals()[f_name]"
   ]
  },
  {
   "cell_type": "code",
   "execution_count": null,
   "id": "a868650e-6574-4ef5-a1b9-716cd507d160",
   "metadata": {},
   "outputs": [],
   "source": [
    "search_results = f(**arguments)\n",
    "search_results"
   ]
  },
  {
   "cell_type": "markdown",
   "id": "d951bb28-c869-4727-98ec-37e33b9471e7",
   "metadata": {},
   "source": [
    "# Q2. Adding another tool"
   ]
  },
  {
   "cell_type": "code",
   "execution_count": null,
   "id": "6fdaa93a-4eaf-45ae-b087-d4c27cc85edf",
   "metadata": {},
   "outputs": [],
   "source": [
    "def set_weather(city: str, temp: float) -> None:\n",
    "    city = city.strip().lower()\n",
    "    known_weather_data[city] = temp\n",
    "    return 'OK'"
   ]
  },
  {
   "cell_type": "code",
   "execution_count": null,
   "id": "c7c88492-d4ec-41a1-a375-07c32bc4b302",
   "metadata": {},
   "outputs": [],
   "source": [
    "# Add description \n",
    "\n",
    "set_weather_tool = {\n",
    "    \"type\": \"function\",\n",
    "    \"function\": {\n",
    "        \"name\": \"set_weather\",\n",
    "        \"description\": \"Add or update the temperature (°C) for a specified city in the weather database.\",\n",
    "        \"parameters\": {\n",
    "            \"type\": \"object\",\n",
    "            \"properties\": {\n",
    "                \"city\": {\n",
    "                    \"type\": \"string\",\n",
    "                    \"description\": \"Name of the city to add or update in the weather database\"\n",
    "                },\n",
    "                \"temp\": {\n",
    "                    \"type\": \"number\",\n",
    "                    \"description\": \"Temperature in Celsius to set for the city\"\n",
    "                }\n",
    "            },\n",
    "        \"required\": [\"city\", \"temp\"],\n",
    "        \"additionalProperties\": False\n",
    "        }\n",
    "    }\n",
    "}\n",
    "\n"
   ]
  },
  {
   "cell_type": "code",
   "execution_count": null,
   "id": "899837ce-7576-49d2-909c-63b94cf540d2",
   "metadata": {},
   "outputs": [],
   "source": [
    "question = \"What's the current temperature in berlin?\"\n",
    "\n",
    "system_prompt = \"\"\"\n",
    "You are a data assistant. \n",
    "Your task is to fetch the current temperature from get_weather_tool.\n",
    "save the result in the database.\n",
    "\"\"\".strip()\n",
    "\n",
    "tools = [get_weather_tool, set_weather_tool]\n",
    "\n",
    "chat_messages = [\n",
    "    {\"role\": \"system\", \"content\": system_prompt},\n",
    "    {\"role\": \"user\", \"content\": question}\n",
    "]\n",
    "\n",
    "response = client.chat.complete(\n",
    "    model = \"mistral-medium-latest\",\n",
    "    messages = chat_messages, \n",
    "    tools = tools,\n",
    "    tool_choice = \"any\", \n",
    "    parallel_tool_calls = False,\n",
    ")\n",
    "response.choices\n",
    "\n"
   ]
  },
  {
   "cell_type": "markdown",
   "id": "ef38d678-8606-4967-96a4-1a052bb5381d",
   "metadata": {},
   "source": [
    "# Q3. Install FastMCP"
   ]
  },
  {
   "cell_type": "code",
   "execution_count": null,
   "id": "2a53752f-cf45-43e8-9f3b-a65e8c40b4ba",
   "metadata": {},
   "outputs": [],
   "source": [
    "pip install fastmcp --trusted-host pypi.org --trusted-host files.pythonhosted.org"
   ]
  },
  {
   "cell_type": "code",
   "execution_count": null,
   "id": "98cddb28-4ef3-4ff6-be77-1b7dc825a3cb",
   "metadata": {},
   "outputs": [],
   "source": [
    "!fastmcp --version "
   ]
  },
  {
   "cell_type": "markdown",
   "id": "4d7018d1-ceb3-4481-9144-cc6a79c90aff",
   "metadata": {},
   "source": [
    "# Q4. Simple MCP Server"
   ]
  },
  {
   "cell_type": "markdown",
   "id": "963b445b-0676-4091-bab8-145e3bc2e512",
   "metadata": {},
   "source": [
    "The code have been saved in weather_server.py and run it by (fastmcp run weather_server.py)\n",
    "\n",
    "and the output is \n",
    "\n",
    "╭─ FastMCP 2.0 ──────────────────────────────────────────────────────────────╮\n",
    "│                                                                            │\n",
    "│        _ __ ___ ______           __  __  _____________    ____    ____     │\n",
    "│       _ __ ___ / ____/___ ______/ /_/  |/  / ____/ __ \\  |___ \\  / __ \\    │\n",
    "│      _ __ ___ / /_  / __ `/ ___/ __/ /|_/ / /   / /_/ /  ___/ / / / / /    │\n",
    "│     _ __ ___ / __/ / /_/ (__  ) /_/ /  / / /___/ ____/  /  __/_/ /_/ /     │\n",
    "│    _ __ ___ /_/    \\__,_/____/\\__/_/  /_/\\____/_/      /_____(_)____/      │\n",
    "│                                                                            │\n",
    "│                                                                            │\n",
    "│                                                                            │\n",
    "│    🖥️   Server name:     Demo 🚀                                             │\n",
    "│    📦 Transport:       STDIO                                               │\n",
    "│                                                                            │\n",
    "│    📚 Docs:            https://gofastmcp.com                               │\n",
    "│    🚀 Deploy:          https://fastmcp.cloud                               │\n",
    "│                                                                            │\n",
    "│    🏎️   FastMCP version: 2.10.5                                              │\n",
    "│    🤝 MCP version:     1.11.0                                              │\n",
    "│                                                                            │\n",
    "╰────────────────────────────────────────────────────────────────────────────╯\n",
    "\n",
    "\n",
    "[07/15/25 13:20:11] INFO     Starting MCP server 'Demo 🚀' with transport 'stdio"
   ]
  },
  {
   "cell_type": "markdown",
   "id": "19985a35-9f33-49ad-ba94-7cf9d4efb006",
   "metadata": {},
   "source": [
    "# Q5. Protocol"
   ]
  },
  {
   "cell_type": "markdown",
   "id": "48e011de-9db3-40b4-96ed-a1d32eb49601",
   "metadata": {},
   "source": [
    "{\"jsonrpc\": \"2.0\", \"id\": 3, \"method\": \"tools/call\", \"params\": {\"name\": \"get_weather\", \"arguments\": {\"city\": \"Berlin\"}}}\n",
    "\n",
    "\n",
    "OUTPUT:\n",
    "\n",
    "\n",
    "{\"jsonrpc\":\"2.0\",\"id\":3,\"result\":{\"content\":[{\"type\":\"text\",\"text\":\"20.0\"}],\"structuredContent\":{\"result\":20.0},\"isError\":false}}"
   ]
  },
  {
   "cell_type": "markdown",
   "id": "281d1256-8d72-4fb4-8da8-c0e53d4ffbc7",
   "metadata": {},
   "source": [
    "# Q6. Client"
   ]
  },
  {
   "cell_type": "code",
   "execution_count": 3,
   "id": "3b1c97fd-9a3d-4c1b-92fd-004e71a5f8e2",
   "metadata": {},
   "outputs": [],
   "source": [
    "import asyncio\n",
    "from fastmcp import Client\n",
    "import weather_server"
   ]
  },
  {
   "cell_type": "code",
   "execution_count": 8,
   "id": "5fb2dbbb-43b4-42a6-aa79-572f7c35a47a",
   "metadata": {},
   "outputs": [
    {
     "ename": "ValueError",
     "evalue": "Could not infer a valid transport from: weather_server",
     "output_type": "error",
     "traceback": [
      "\u001b[31m---------------------------------------------------------------------------\u001b[39m",
      "\u001b[31mValueError\u001b[39m                                Traceback (most recent call last)",
      "\u001b[36mCell\u001b[39m\u001b[36m \u001b[39m\u001b[32mIn[8]\u001b[39m\u001b[32m, line 8\u001b[39m\n\u001b[32m      5\u001b[39m         \u001b[38;5;28;01mfor\u001b[39;00m tool \u001b[38;5;129;01min\u001b[39;00m tools:\n\u001b[32m      6\u001b[39m             \u001b[38;5;28mprint\u001b[39m(tool)\n\u001b[32m----> \u001b[39m\u001b[32m8\u001b[39m \u001b[38;5;28;01mawait\u001b[39;00m main()  \n",
      "\u001b[36mCell\u001b[39m\u001b[36m \u001b[39m\u001b[32mIn[8]\u001b[39m\u001b[32m, line 2\u001b[39m, in \u001b[36mmain\u001b[39m\u001b[34m()\u001b[39m\n\u001b[32m      1\u001b[39m \u001b[38;5;28;01masync\u001b[39;00m \u001b[38;5;28;01mdef\u001b[39;00m\u001b[38;5;250m \u001b[39m\u001b[34mmain\u001b[39m():\n\u001b[32m----> \u001b[39m\u001b[32m2\u001b[39m     \u001b[38;5;28;01masync\u001b[39;00m \u001b[38;5;28;01mwith\u001b[39;00m \u001b[43mClient\u001b[49m\u001b[43m(\u001b[49m\u001b[33;43m\"\u001b[39;49m\u001b[33;43mweather_server\u001b[39;49m\u001b[33;43m\"\u001b[39;49m\u001b[43m)\u001b[49m \u001b[38;5;28;01mas\u001b[39;00m mcp_client:\n\u001b[32m      3\u001b[39m         tools = \u001b[38;5;28;01mawait\u001b[39;00m mcp_client.get_tools()\n\u001b[32m      4\u001b[39m         \u001b[38;5;28mprint\u001b[39m(\u001b[33m\"\u001b[39m\u001b[33mAvailable tools:\u001b[39m\u001b[33m\"\u001b[39m)\n",
      "\u001b[36mFile \u001b[39m\u001b[32m~/home/hager/miniconda33/lib/python3.12/site-packages/fastmcp/client/client.py:221\u001b[39m, in \u001b[36mClient.__init__\u001b[39m\u001b[34m(self, transport, roots, sampling_handler, elicitation_handler, log_handler, message_handler, progress_handler, timeout, init_timeout, client_info, auth)\u001b[39m\n\u001b[32m    198\u001b[39m \u001b[38;5;28;01mdef\u001b[39;00m\u001b[38;5;250m \u001b[39m\u001b[34m__init__\u001b[39m(\n\u001b[32m    199\u001b[39m     \u001b[38;5;28mself\u001b[39m,\n\u001b[32m    200\u001b[39m     transport: (\n\u001b[32m   (...)\u001b[39m\u001b[32m    219\u001b[39m     auth: httpx.Auth | Literal[\u001b[33m\"\u001b[39m\u001b[33moauth\u001b[39m\u001b[33m\"\u001b[39m] | \u001b[38;5;28mstr\u001b[39m | \u001b[38;5;28;01mNone\u001b[39;00m = \u001b[38;5;28;01mNone\u001b[39;00m,\n\u001b[32m    220\u001b[39m ) -> \u001b[38;5;28;01mNone\u001b[39;00m:\n\u001b[32m--> \u001b[39m\u001b[32m221\u001b[39m     \u001b[38;5;28mself\u001b[39m.transport = cast(ClientTransportT, \u001b[43minfer_transport\u001b[49m\u001b[43m(\u001b[49m\u001b[43mtransport\u001b[49m\u001b[43m)\u001b[49m)\n\u001b[32m    222\u001b[39m     \u001b[38;5;28;01mif\u001b[39;00m auth \u001b[38;5;129;01mis\u001b[39;00m \u001b[38;5;129;01mnot\u001b[39;00m \u001b[38;5;28;01mNone\u001b[39;00m:\n\u001b[32m    223\u001b[39m         \u001b[38;5;28mself\u001b[39m.transport._set_auth(auth)\n",
      "\u001b[36mFile \u001b[39m\u001b[32m~/home/hager/miniconda33/lib/python3.12/site-packages/fastmcp/client/transports.py:931\u001b[39m, in \u001b[36minfer_transport\u001b[39m\u001b[34m(transport)\u001b[39m\n\u001b[32m    927\u001b[39m     inferred_transport = MCPConfigTransport(config=transport)\n\u001b[32m    929\u001b[39m \u001b[38;5;66;03m# the transport is an unknown type\u001b[39;00m\n\u001b[32m    930\u001b[39m \u001b[38;5;28;01melse\u001b[39;00m:\n\u001b[32m--> \u001b[39m\u001b[32m931\u001b[39m     \u001b[38;5;28;01mraise\u001b[39;00m \u001b[38;5;167;01mValueError\u001b[39;00m(\u001b[33mf\u001b[39m\u001b[33m\"\u001b[39m\u001b[33mCould not infer a valid transport from: \u001b[39m\u001b[38;5;132;01m{\u001b[39;00mtransport\u001b[38;5;132;01m}\u001b[39;00m\u001b[33m\"\u001b[39m)\n\u001b[32m    933\u001b[39m logger.debug(\u001b[33mf\u001b[39m\u001b[33m\"\u001b[39m\u001b[33mInferred transport: \u001b[39m\u001b[38;5;132;01m{\u001b[39;00minferred_transport\u001b[38;5;132;01m}\u001b[39;00m\u001b[33m\"\u001b[39m)\n\u001b[32m    934\u001b[39m \u001b[38;5;28;01mreturn\u001b[39;00m inferred_transport\n",
      "\u001b[31mValueError\u001b[39m: Could not infer a valid transport from: weather_server"
     ]
    }
   ],
   "source": [
    "async def main():\n",
    "    async with Client(\"weather_server\") as mcp_client:\n",
    "        tools = await mcp_client.get_tools()\n",
    "        print(\"Available tools:\")\n",
    "        for tool in tools:\n",
    "            print(tool)\n",
    "\n",
    "await main()  "
   ]
  },
  {
   "cell_type": "code",
   "execution_count": null,
   "id": "234f621b-7cbe-4d2c-a1e1-8998de156659",
   "metadata": {},
   "outputs": [],
   "source": []
  }
 ],
 "metadata": {
  "kernelspec": {
   "display_name": "Python 3 (ipykernel)",
   "language": "python",
   "name": "python3"
  },
  "language_info": {
   "codemirror_mode": {
    "name": "ipython",
    "version": 3
   },
   "file_extension": ".py",
   "mimetype": "text/x-python",
   "name": "python",
   "nbconvert_exporter": "python",
   "pygments_lexer": "ipython3",
   "version": "3.12.2"
  }
 },
 "nbformat": 4,
 "nbformat_minor": 5
}
